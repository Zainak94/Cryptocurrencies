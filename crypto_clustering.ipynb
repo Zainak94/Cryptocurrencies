{
 "cells": [
  {
   "cell_type": "markdown",
   "metadata": {},
   "source": [
    "# Clustering Crypto"
   ]
  },
  {
   "cell_type": "code",
   "execution_count": 99,
   "metadata": {},
   "outputs": [],
   "source": [
    "# Initial imports\n",
    "import pandas as pd\n",
    "import hvplot.pandas\n",
    "from path import Path\n",
    "import plotly.express as px\n",
    "from sklearn.preprocessing import StandardScaler, MinMaxScaler\n",
    "from sklearn.decomposition import PCA\n",
    "from sklearn.cluster import KMeans\n"
   ]
  },
  {
   "cell_type": "markdown",
   "metadata": {},
   "source": [
    "### Deliverable 1: Preprocessing the Data for PCA"
   ]
  },
  {
   "cell_type": "code",
   "execution_count": 100,
   "metadata": {},
   "outputs": [
    {
     "data": {
      "text/html": [
       "<div>\n",
       "<style scoped>\n",
       "    .dataframe tbody tr th:only-of-type {\n",
       "        vertical-align: middle;\n",
       "    }\n",
       "\n",
       "    .dataframe tbody tr th {\n",
       "        vertical-align: top;\n",
       "    }\n",
       "\n",
       "    .dataframe thead th {\n",
       "        text-align: right;\n",
       "    }\n",
       "</style>\n",
       "<table border=\"1\" class=\"dataframe\">\n",
       "  <thead>\n",
       "    <tr style=\"text-align: right;\">\n",
       "      <th></th>\n",
       "      <th>CoinName</th>\n",
       "      <th>Algorithm</th>\n",
       "      <th>IsTrading</th>\n",
       "      <th>ProofType</th>\n",
       "      <th>TotalCoinsMined</th>\n",
       "      <th>TotalCoinSupply</th>\n",
       "    </tr>\n",
       "  </thead>\n",
       "  <tbody>\n",
       "    <tr>\n",
       "      <th>42</th>\n",
       "      <td>42 Coin</td>\n",
       "      <td>Scrypt</td>\n",
       "      <td>True</td>\n",
       "      <td>PoW/PoS</td>\n",
       "      <td>4.199995e+01</td>\n",
       "      <td>42</td>\n",
       "    </tr>\n",
       "    <tr>\n",
       "      <th>365</th>\n",
       "      <td>365Coin</td>\n",
       "      <td>X11</td>\n",
       "      <td>True</td>\n",
       "      <td>PoW/PoS</td>\n",
       "      <td>NaN</td>\n",
       "      <td>2300000000</td>\n",
       "    </tr>\n",
       "    <tr>\n",
       "      <th>404</th>\n",
       "      <td>404Coin</td>\n",
       "      <td>Scrypt</td>\n",
       "      <td>True</td>\n",
       "      <td>PoW/PoS</td>\n",
       "      <td>1.055185e+09</td>\n",
       "      <td>532000000</td>\n",
       "    </tr>\n",
       "    <tr>\n",
       "      <th>611</th>\n",
       "      <td>SixEleven</td>\n",
       "      <td>SHA-256</td>\n",
       "      <td>True</td>\n",
       "      <td>PoW</td>\n",
       "      <td>NaN</td>\n",
       "      <td>611000</td>\n",
       "    </tr>\n",
       "    <tr>\n",
       "      <th>808</th>\n",
       "      <td>808</td>\n",
       "      <td>SHA-256</td>\n",
       "      <td>True</td>\n",
       "      <td>PoW/PoS</td>\n",
       "      <td>0.000000e+00</td>\n",
       "      <td>0</td>\n",
       "    </tr>\n",
       "    <tr>\n",
       "      <th>1337</th>\n",
       "      <td>EliteCoin</td>\n",
       "      <td>X13</td>\n",
       "      <td>True</td>\n",
       "      <td>PoW/PoS</td>\n",
       "      <td>2.927942e+10</td>\n",
       "      <td>314159265359</td>\n",
       "    </tr>\n",
       "    <tr>\n",
       "      <th>2015</th>\n",
       "      <td>2015 coin</td>\n",
       "      <td>X11</td>\n",
       "      <td>True</td>\n",
       "      <td>PoW/PoS</td>\n",
       "      <td>NaN</td>\n",
       "      <td>0</td>\n",
       "    </tr>\n",
       "    <tr>\n",
       "      <th>BTC</th>\n",
       "      <td>Bitcoin</td>\n",
       "      <td>SHA-256</td>\n",
       "      <td>True</td>\n",
       "      <td>PoW</td>\n",
       "      <td>1.792718e+07</td>\n",
       "      <td>21000000</td>\n",
       "    </tr>\n",
       "    <tr>\n",
       "      <th>ETH</th>\n",
       "      <td>Ethereum</td>\n",
       "      <td>Ethash</td>\n",
       "      <td>True</td>\n",
       "      <td>PoW</td>\n",
       "      <td>1.076842e+08</td>\n",
       "      <td>0</td>\n",
       "    </tr>\n",
       "    <tr>\n",
       "      <th>LTC</th>\n",
       "      <td>Litecoin</td>\n",
       "      <td>Scrypt</td>\n",
       "      <td>True</td>\n",
       "      <td>PoW</td>\n",
       "      <td>6.303924e+07</td>\n",
       "      <td>84000000</td>\n",
       "    </tr>\n",
       "  </tbody>\n",
       "</table>\n",
       "</div>"
      ],
      "text/plain": [
       "       CoinName Algorithm  IsTrading ProofType  TotalCoinsMined  \\\n",
       "42      42 Coin    Scrypt       True   PoW/PoS     4.199995e+01   \n",
       "365     365Coin       X11       True   PoW/PoS              NaN   \n",
       "404     404Coin    Scrypt       True   PoW/PoS     1.055185e+09   \n",
       "611   SixEleven   SHA-256       True       PoW              NaN   \n",
       "808         808   SHA-256       True   PoW/PoS     0.000000e+00   \n",
       "1337  EliteCoin       X13       True   PoW/PoS     2.927942e+10   \n",
       "2015  2015 coin       X11       True   PoW/PoS              NaN   \n",
       "BTC     Bitcoin   SHA-256       True       PoW     1.792718e+07   \n",
       "ETH    Ethereum    Ethash       True       PoW     1.076842e+08   \n",
       "LTC    Litecoin    Scrypt       True       PoW     6.303924e+07   \n",
       "\n",
       "     TotalCoinSupply  \n",
       "42                42  \n",
       "365       2300000000  \n",
       "404        532000000  \n",
       "611           611000  \n",
       "808                0  \n",
       "1337    314159265359  \n",
       "2015               0  \n",
       "BTC         21000000  \n",
       "ETH                0  \n",
       "LTC         84000000  "
      ]
     },
     "execution_count": 100,
     "metadata": {},
     "output_type": "execute_result"
    }
   ],
   "source": [
    "# Load the crypto_data.csv dataset.\n",
    "crypto_df = pd.read_csv('Resources/crypto_data.csv', index_col=0)\n",
    "crypto_df.head(10)"
   ]
  },
  {
   "cell_type": "code",
   "execution_count": 101,
   "metadata": {},
   "outputs": [
    {
     "name": "stdout",
     "output_type": "stream",
     "text": [
      "(1144, 6)\n"
     ]
    },
    {
     "data": {
      "text/html": [
       "<div>\n",
       "<style scoped>\n",
       "    .dataframe tbody tr th:only-of-type {\n",
       "        vertical-align: middle;\n",
       "    }\n",
       "\n",
       "    .dataframe tbody tr th {\n",
       "        vertical-align: top;\n",
       "    }\n",
       "\n",
       "    .dataframe thead th {\n",
       "        text-align: right;\n",
       "    }\n",
       "</style>\n",
       "<table border=\"1\" class=\"dataframe\">\n",
       "  <thead>\n",
       "    <tr style=\"text-align: right;\">\n",
       "      <th></th>\n",
       "      <th>CoinName</th>\n",
       "      <th>Algorithm</th>\n",
       "      <th>IsTrading</th>\n",
       "      <th>ProofType</th>\n",
       "      <th>TotalCoinsMined</th>\n",
       "      <th>TotalCoinSupply</th>\n",
       "    </tr>\n",
       "  </thead>\n",
       "  <tbody>\n",
       "    <tr>\n",
       "      <th>42</th>\n",
       "      <td>42 Coin</td>\n",
       "      <td>Scrypt</td>\n",
       "      <td>True</td>\n",
       "      <td>PoW/PoS</td>\n",
       "      <td>4.199995e+01</td>\n",
       "      <td>42</td>\n",
       "    </tr>\n",
       "    <tr>\n",
       "      <th>365</th>\n",
       "      <td>365Coin</td>\n",
       "      <td>X11</td>\n",
       "      <td>True</td>\n",
       "      <td>PoW/PoS</td>\n",
       "      <td>NaN</td>\n",
       "      <td>2300000000</td>\n",
       "    </tr>\n",
       "    <tr>\n",
       "      <th>404</th>\n",
       "      <td>404Coin</td>\n",
       "      <td>Scrypt</td>\n",
       "      <td>True</td>\n",
       "      <td>PoW/PoS</td>\n",
       "      <td>1.055185e+09</td>\n",
       "      <td>532000000</td>\n",
       "    </tr>\n",
       "    <tr>\n",
       "      <th>611</th>\n",
       "      <td>SixEleven</td>\n",
       "      <td>SHA-256</td>\n",
       "      <td>True</td>\n",
       "      <td>PoW</td>\n",
       "      <td>NaN</td>\n",
       "      <td>611000</td>\n",
       "    </tr>\n",
       "    <tr>\n",
       "      <th>808</th>\n",
       "      <td>808</td>\n",
       "      <td>SHA-256</td>\n",
       "      <td>True</td>\n",
       "      <td>PoW/PoS</td>\n",
       "      <td>0.000000e+00</td>\n",
       "      <td>0</td>\n",
       "    </tr>\n",
       "    <tr>\n",
       "      <th>1337</th>\n",
       "      <td>EliteCoin</td>\n",
       "      <td>X13</td>\n",
       "      <td>True</td>\n",
       "      <td>PoW/PoS</td>\n",
       "      <td>2.927942e+10</td>\n",
       "      <td>314159265359</td>\n",
       "    </tr>\n",
       "    <tr>\n",
       "      <th>2015</th>\n",
       "      <td>2015 coin</td>\n",
       "      <td>X11</td>\n",
       "      <td>True</td>\n",
       "      <td>PoW/PoS</td>\n",
       "      <td>NaN</td>\n",
       "      <td>0</td>\n",
       "    </tr>\n",
       "    <tr>\n",
       "      <th>BTC</th>\n",
       "      <td>Bitcoin</td>\n",
       "      <td>SHA-256</td>\n",
       "      <td>True</td>\n",
       "      <td>PoW</td>\n",
       "      <td>1.792718e+07</td>\n",
       "      <td>21000000</td>\n",
       "    </tr>\n",
       "    <tr>\n",
       "      <th>ETH</th>\n",
       "      <td>Ethereum</td>\n",
       "      <td>Ethash</td>\n",
       "      <td>True</td>\n",
       "      <td>PoW</td>\n",
       "      <td>1.076842e+08</td>\n",
       "      <td>0</td>\n",
       "    </tr>\n",
       "    <tr>\n",
       "      <th>LTC</th>\n",
       "      <td>Litecoin</td>\n",
       "      <td>Scrypt</td>\n",
       "      <td>True</td>\n",
       "      <td>PoW</td>\n",
       "      <td>6.303924e+07</td>\n",
       "      <td>84000000</td>\n",
       "    </tr>\n",
       "  </tbody>\n",
       "</table>\n",
       "</div>"
      ],
      "text/plain": [
       "       CoinName Algorithm  IsTrading ProofType  TotalCoinsMined  \\\n",
       "42      42 Coin    Scrypt       True   PoW/PoS     4.199995e+01   \n",
       "365     365Coin       X11       True   PoW/PoS              NaN   \n",
       "404     404Coin    Scrypt       True   PoW/PoS     1.055185e+09   \n",
       "611   SixEleven   SHA-256       True       PoW              NaN   \n",
       "808         808   SHA-256       True   PoW/PoS     0.000000e+00   \n",
       "1337  EliteCoin       X13       True   PoW/PoS     2.927942e+10   \n",
       "2015  2015 coin       X11       True   PoW/PoS              NaN   \n",
       "BTC     Bitcoin   SHA-256       True       PoW     1.792718e+07   \n",
       "ETH    Ethereum    Ethash       True       PoW     1.076842e+08   \n",
       "LTC    Litecoin    Scrypt       True       PoW     6.303924e+07   \n",
       "\n",
       "     TotalCoinSupply  \n",
       "42                42  \n",
       "365       2300000000  \n",
       "404        532000000  \n",
       "611           611000  \n",
       "808                0  \n",
       "1337    314159265359  \n",
       "2015               0  \n",
       "BTC         21000000  \n",
       "ETH                0  \n",
       "LTC         84000000  "
      ]
     },
     "execution_count": 101,
     "metadata": {},
     "output_type": "execute_result"
    }
   ],
   "source": [
    "# Keep all the cryptocurrencies that are being traded.\n",
    "crypto_df= crypto_df[crypto_df['IsTrading']==True]\n",
    "print(crypto_df.shape)\n",
    "crypto_df.head(10)"
   ]
  },
  {
   "cell_type": "code",
   "execution_count": 102,
   "metadata": {},
   "outputs": [
    {
     "name": "stdout",
     "output_type": "stream",
     "text": [
      "(1144, 6)\n"
     ]
    },
    {
     "data": {
      "text/html": [
       "<div>\n",
       "<style scoped>\n",
       "    .dataframe tbody tr th:only-of-type {\n",
       "        vertical-align: middle;\n",
       "    }\n",
       "\n",
       "    .dataframe tbody tr th {\n",
       "        vertical-align: top;\n",
       "    }\n",
       "\n",
       "    .dataframe thead th {\n",
       "        text-align: right;\n",
       "    }\n",
       "</style>\n",
       "<table border=\"1\" class=\"dataframe\">\n",
       "  <thead>\n",
       "    <tr style=\"text-align: right;\">\n",
       "      <th></th>\n",
       "      <th>CoinName</th>\n",
       "      <th>Algorithm</th>\n",
       "      <th>IsTrading</th>\n",
       "      <th>ProofType</th>\n",
       "      <th>TotalCoinsMined</th>\n",
       "      <th>TotalCoinSupply</th>\n",
       "    </tr>\n",
       "  </thead>\n",
       "  <tbody>\n",
       "    <tr>\n",
       "      <th>42</th>\n",
       "      <td>42 Coin</td>\n",
       "      <td>Scrypt</td>\n",
       "      <td>True</td>\n",
       "      <td>PoW/PoS</td>\n",
       "      <td>4.199995e+01</td>\n",
       "      <td>42</td>\n",
       "    </tr>\n",
       "    <tr>\n",
       "      <th>365</th>\n",
       "      <td>365Coin</td>\n",
       "      <td>X11</td>\n",
       "      <td>True</td>\n",
       "      <td>PoW/PoS</td>\n",
       "      <td>NaN</td>\n",
       "      <td>2300000000</td>\n",
       "    </tr>\n",
       "    <tr>\n",
       "      <th>404</th>\n",
       "      <td>404Coin</td>\n",
       "      <td>Scrypt</td>\n",
       "      <td>True</td>\n",
       "      <td>PoW/PoS</td>\n",
       "      <td>1.055185e+09</td>\n",
       "      <td>532000000</td>\n",
       "    </tr>\n",
       "    <tr>\n",
       "      <th>611</th>\n",
       "      <td>SixEleven</td>\n",
       "      <td>SHA-256</td>\n",
       "      <td>True</td>\n",
       "      <td>PoW</td>\n",
       "      <td>NaN</td>\n",
       "      <td>611000</td>\n",
       "    </tr>\n",
       "    <tr>\n",
       "      <th>808</th>\n",
       "      <td>808</td>\n",
       "      <td>SHA-256</td>\n",
       "      <td>True</td>\n",
       "      <td>PoW/PoS</td>\n",
       "      <td>0.000000e+00</td>\n",
       "      <td>0</td>\n",
       "    </tr>\n",
       "    <tr>\n",
       "      <th>1337</th>\n",
       "      <td>EliteCoin</td>\n",
       "      <td>X13</td>\n",
       "      <td>True</td>\n",
       "      <td>PoW/PoS</td>\n",
       "      <td>2.927942e+10</td>\n",
       "      <td>314159265359</td>\n",
       "    </tr>\n",
       "    <tr>\n",
       "      <th>2015</th>\n",
       "      <td>2015 coin</td>\n",
       "      <td>X11</td>\n",
       "      <td>True</td>\n",
       "      <td>PoW/PoS</td>\n",
       "      <td>NaN</td>\n",
       "      <td>0</td>\n",
       "    </tr>\n",
       "    <tr>\n",
       "      <th>BTC</th>\n",
       "      <td>Bitcoin</td>\n",
       "      <td>SHA-256</td>\n",
       "      <td>True</td>\n",
       "      <td>PoW</td>\n",
       "      <td>1.792718e+07</td>\n",
       "      <td>21000000</td>\n",
       "    </tr>\n",
       "    <tr>\n",
       "      <th>ETH</th>\n",
       "      <td>Ethereum</td>\n",
       "      <td>Ethash</td>\n",
       "      <td>True</td>\n",
       "      <td>PoW</td>\n",
       "      <td>1.076842e+08</td>\n",
       "      <td>0</td>\n",
       "    </tr>\n",
       "    <tr>\n",
       "      <th>LTC</th>\n",
       "      <td>Litecoin</td>\n",
       "      <td>Scrypt</td>\n",
       "      <td>True</td>\n",
       "      <td>PoW</td>\n",
       "      <td>6.303924e+07</td>\n",
       "      <td>84000000</td>\n",
       "    </tr>\n",
       "  </tbody>\n",
       "</table>\n",
       "</div>"
      ],
      "text/plain": [
       "       CoinName Algorithm  IsTrading ProofType  TotalCoinsMined  \\\n",
       "42      42 Coin    Scrypt       True   PoW/PoS     4.199995e+01   \n",
       "365     365Coin       X11       True   PoW/PoS              NaN   \n",
       "404     404Coin    Scrypt       True   PoW/PoS     1.055185e+09   \n",
       "611   SixEleven   SHA-256       True       PoW              NaN   \n",
       "808         808   SHA-256       True   PoW/PoS     0.000000e+00   \n",
       "1337  EliteCoin       X13       True   PoW/PoS     2.927942e+10   \n",
       "2015  2015 coin       X11       True   PoW/PoS              NaN   \n",
       "BTC     Bitcoin   SHA-256       True       PoW     1.792718e+07   \n",
       "ETH    Ethereum    Ethash       True       PoW     1.076842e+08   \n",
       "LTC    Litecoin    Scrypt       True       PoW     6.303924e+07   \n",
       "\n",
       "     TotalCoinSupply  \n",
       "42                42  \n",
       "365       2300000000  \n",
       "404        532000000  \n",
       "611           611000  \n",
       "808                0  \n",
       "1337    314159265359  \n",
       "2015               0  \n",
       "BTC         21000000  \n",
       "ETH                0  \n",
       "LTC         84000000  "
      ]
     },
     "execution_count": 102,
     "metadata": {},
     "output_type": "execute_result"
    }
   ],
   "source": [
    "# Keep all the cryptocurrencies that have a working algorithm.\n",
    "crypto_df=crypto_df.dropna(subset=['Algorithm'])\n",
    "print(crypto_df.shape)\n",
    "crypto_df.head(10)"
   ]
  },
  {
   "cell_type": "code",
   "execution_count": 103,
   "metadata": {},
   "outputs": [
    {
     "name": "stdout",
     "output_type": "stream",
     "text": [
      "(1144, 5)\n"
     ]
    },
    {
     "data": {
      "text/html": [
       "<div>\n",
       "<style scoped>\n",
       "    .dataframe tbody tr th:only-of-type {\n",
       "        vertical-align: middle;\n",
       "    }\n",
       "\n",
       "    .dataframe tbody tr th {\n",
       "        vertical-align: top;\n",
       "    }\n",
       "\n",
       "    .dataframe thead th {\n",
       "        text-align: right;\n",
       "    }\n",
       "</style>\n",
       "<table border=\"1\" class=\"dataframe\">\n",
       "  <thead>\n",
       "    <tr style=\"text-align: right;\">\n",
       "      <th></th>\n",
       "      <th>CoinName</th>\n",
       "      <th>Algorithm</th>\n",
       "      <th>ProofType</th>\n",
       "      <th>TotalCoinsMined</th>\n",
       "      <th>TotalCoinSupply</th>\n",
       "    </tr>\n",
       "  </thead>\n",
       "  <tbody>\n",
       "    <tr>\n",
       "      <th>42</th>\n",
       "      <td>42 Coin</td>\n",
       "      <td>Scrypt</td>\n",
       "      <td>PoW/PoS</td>\n",
       "      <td>4.199995e+01</td>\n",
       "      <td>42</td>\n",
       "    </tr>\n",
       "    <tr>\n",
       "      <th>365</th>\n",
       "      <td>365Coin</td>\n",
       "      <td>X11</td>\n",
       "      <td>PoW/PoS</td>\n",
       "      <td>NaN</td>\n",
       "      <td>2300000000</td>\n",
       "    </tr>\n",
       "    <tr>\n",
       "      <th>404</th>\n",
       "      <td>404Coin</td>\n",
       "      <td>Scrypt</td>\n",
       "      <td>PoW/PoS</td>\n",
       "      <td>1.055185e+09</td>\n",
       "      <td>532000000</td>\n",
       "    </tr>\n",
       "    <tr>\n",
       "      <th>611</th>\n",
       "      <td>SixEleven</td>\n",
       "      <td>SHA-256</td>\n",
       "      <td>PoW</td>\n",
       "      <td>NaN</td>\n",
       "      <td>611000</td>\n",
       "    </tr>\n",
       "    <tr>\n",
       "      <th>808</th>\n",
       "      <td>808</td>\n",
       "      <td>SHA-256</td>\n",
       "      <td>PoW/PoS</td>\n",
       "      <td>0.000000e+00</td>\n",
       "      <td>0</td>\n",
       "    </tr>\n",
       "    <tr>\n",
       "      <th>1337</th>\n",
       "      <td>EliteCoin</td>\n",
       "      <td>X13</td>\n",
       "      <td>PoW/PoS</td>\n",
       "      <td>2.927942e+10</td>\n",
       "      <td>314159265359</td>\n",
       "    </tr>\n",
       "    <tr>\n",
       "      <th>2015</th>\n",
       "      <td>2015 coin</td>\n",
       "      <td>X11</td>\n",
       "      <td>PoW/PoS</td>\n",
       "      <td>NaN</td>\n",
       "      <td>0</td>\n",
       "    </tr>\n",
       "    <tr>\n",
       "      <th>BTC</th>\n",
       "      <td>Bitcoin</td>\n",
       "      <td>SHA-256</td>\n",
       "      <td>PoW</td>\n",
       "      <td>1.792718e+07</td>\n",
       "      <td>21000000</td>\n",
       "    </tr>\n",
       "    <tr>\n",
       "      <th>ETH</th>\n",
       "      <td>Ethereum</td>\n",
       "      <td>Ethash</td>\n",
       "      <td>PoW</td>\n",
       "      <td>1.076842e+08</td>\n",
       "      <td>0</td>\n",
       "    </tr>\n",
       "    <tr>\n",
       "      <th>LTC</th>\n",
       "      <td>Litecoin</td>\n",
       "      <td>Scrypt</td>\n",
       "      <td>PoW</td>\n",
       "      <td>6.303924e+07</td>\n",
       "      <td>84000000</td>\n",
       "    </tr>\n",
       "  </tbody>\n",
       "</table>\n",
       "</div>"
      ],
      "text/plain": [
       "       CoinName Algorithm ProofType  TotalCoinsMined TotalCoinSupply\n",
       "42      42 Coin    Scrypt   PoW/PoS     4.199995e+01              42\n",
       "365     365Coin       X11   PoW/PoS              NaN      2300000000\n",
       "404     404Coin    Scrypt   PoW/PoS     1.055185e+09       532000000\n",
       "611   SixEleven   SHA-256       PoW              NaN          611000\n",
       "808         808   SHA-256   PoW/PoS     0.000000e+00               0\n",
       "1337  EliteCoin       X13   PoW/PoS     2.927942e+10    314159265359\n",
       "2015  2015 coin       X11   PoW/PoS              NaN               0\n",
       "BTC     Bitcoin   SHA-256       PoW     1.792718e+07        21000000\n",
       "ETH    Ethereum    Ethash       PoW     1.076842e+08               0\n",
       "LTC    Litecoin    Scrypt       PoW     6.303924e+07        84000000"
      ]
     },
     "execution_count": 103,
     "metadata": {},
     "output_type": "execute_result"
    }
   ],
   "source": [
    "# Remove the \"IsTrading\" column. \n",
    "crypto_df = crypto_df.drop(columns='IsTrading')\n",
    "print(crypto_df.shape)\n",
    "crypto_df.head(10)"
   ]
  },
  {
   "cell_type": "code",
   "execution_count": 104,
   "metadata": {},
   "outputs": [
    {
     "name": "stdout",
     "output_type": "stream",
     "text": [
      "(685, 5)\n"
     ]
    },
    {
     "data": {
      "text/html": [
       "<div>\n",
       "<style scoped>\n",
       "    .dataframe tbody tr th:only-of-type {\n",
       "        vertical-align: middle;\n",
       "    }\n",
       "\n",
       "    .dataframe tbody tr th {\n",
       "        vertical-align: top;\n",
       "    }\n",
       "\n",
       "    .dataframe thead th {\n",
       "        text-align: right;\n",
       "    }\n",
       "</style>\n",
       "<table border=\"1\" class=\"dataframe\">\n",
       "  <thead>\n",
       "    <tr style=\"text-align: right;\">\n",
       "      <th></th>\n",
       "      <th>CoinName</th>\n",
       "      <th>Algorithm</th>\n",
       "      <th>ProofType</th>\n",
       "      <th>TotalCoinsMined</th>\n",
       "      <th>TotalCoinSupply</th>\n",
       "    </tr>\n",
       "  </thead>\n",
       "  <tbody>\n",
       "    <tr>\n",
       "      <th>42</th>\n",
       "      <td>42 Coin</td>\n",
       "      <td>Scrypt</td>\n",
       "      <td>PoW/PoS</td>\n",
       "      <td>4.199995e+01</td>\n",
       "      <td>42</td>\n",
       "    </tr>\n",
       "    <tr>\n",
       "      <th>404</th>\n",
       "      <td>404Coin</td>\n",
       "      <td>Scrypt</td>\n",
       "      <td>PoW/PoS</td>\n",
       "      <td>1.055185e+09</td>\n",
       "      <td>532000000</td>\n",
       "    </tr>\n",
       "    <tr>\n",
       "      <th>808</th>\n",
       "      <td>808</td>\n",
       "      <td>SHA-256</td>\n",
       "      <td>PoW/PoS</td>\n",
       "      <td>0.000000e+00</td>\n",
       "      <td>0</td>\n",
       "    </tr>\n",
       "    <tr>\n",
       "      <th>1337</th>\n",
       "      <td>EliteCoin</td>\n",
       "      <td>X13</td>\n",
       "      <td>PoW/PoS</td>\n",
       "      <td>2.927942e+10</td>\n",
       "      <td>314159265359</td>\n",
       "    </tr>\n",
       "    <tr>\n",
       "      <th>BTC</th>\n",
       "      <td>Bitcoin</td>\n",
       "      <td>SHA-256</td>\n",
       "      <td>PoW</td>\n",
       "      <td>1.792718e+07</td>\n",
       "      <td>21000000</td>\n",
       "    </tr>\n",
       "    <tr>\n",
       "      <th>ETH</th>\n",
       "      <td>Ethereum</td>\n",
       "      <td>Ethash</td>\n",
       "      <td>PoW</td>\n",
       "      <td>1.076842e+08</td>\n",
       "      <td>0</td>\n",
       "    </tr>\n",
       "    <tr>\n",
       "      <th>LTC</th>\n",
       "      <td>Litecoin</td>\n",
       "      <td>Scrypt</td>\n",
       "      <td>PoW</td>\n",
       "      <td>6.303924e+07</td>\n",
       "      <td>84000000</td>\n",
       "    </tr>\n",
       "    <tr>\n",
       "      <th>DASH</th>\n",
       "      <td>Dash</td>\n",
       "      <td>X11</td>\n",
       "      <td>PoW/PoS</td>\n",
       "      <td>9.031294e+06</td>\n",
       "      <td>22000000</td>\n",
       "    </tr>\n",
       "    <tr>\n",
       "      <th>XMR</th>\n",
       "      <td>Monero</td>\n",
       "      <td>CryptoNight-V7</td>\n",
       "      <td>PoW</td>\n",
       "      <td>1.720114e+07</td>\n",
       "      <td>0</td>\n",
       "    </tr>\n",
       "    <tr>\n",
       "      <th>ETC</th>\n",
       "      <td>Ethereum Classic</td>\n",
       "      <td>Ethash</td>\n",
       "      <td>PoW</td>\n",
       "      <td>1.133597e+08</td>\n",
       "      <td>210000000</td>\n",
       "    </tr>\n",
       "  </tbody>\n",
       "</table>\n",
       "</div>"
      ],
      "text/plain": [
       "              CoinName       Algorithm ProofType  TotalCoinsMined  \\\n",
       "42             42 Coin          Scrypt   PoW/PoS     4.199995e+01   \n",
       "404            404Coin          Scrypt   PoW/PoS     1.055185e+09   \n",
       "808                808         SHA-256   PoW/PoS     0.000000e+00   \n",
       "1337         EliteCoin             X13   PoW/PoS     2.927942e+10   \n",
       "BTC            Bitcoin         SHA-256       PoW     1.792718e+07   \n",
       "ETH           Ethereum          Ethash       PoW     1.076842e+08   \n",
       "LTC           Litecoin          Scrypt       PoW     6.303924e+07   \n",
       "DASH              Dash             X11   PoW/PoS     9.031294e+06   \n",
       "XMR             Monero  CryptoNight-V7       PoW     1.720114e+07   \n",
       "ETC   Ethereum Classic          Ethash       PoW     1.133597e+08   \n",
       "\n",
       "     TotalCoinSupply  \n",
       "42                42  \n",
       "404        532000000  \n",
       "808                0  \n",
       "1337    314159265359  \n",
       "BTC         21000000  \n",
       "ETH                0  \n",
       "LTC         84000000  \n",
       "DASH        22000000  \n",
       "XMR                0  \n",
       "ETC        210000000  "
      ]
     },
     "execution_count": 104,
     "metadata": {},
     "output_type": "execute_result"
    }
   ],
   "source": [
    "# Remove rows that have at least 1 null value.\n",
    "crypto_df=crypto_df.dropna()\n",
    "print(crypto_df.shape)\n",
    "crypto_df.head(10)"
   ]
  },
  {
   "cell_type": "code",
   "execution_count": 105,
   "metadata": {},
   "outputs": [
    {
     "name": "stdout",
     "output_type": "stream",
     "text": [
      "(532, 5)\n"
     ]
    },
    {
     "data": {
      "text/html": [
       "<div>\n",
       "<style scoped>\n",
       "    .dataframe tbody tr th:only-of-type {\n",
       "        vertical-align: middle;\n",
       "    }\n",
       "\n",
       "    .dataframe tbody tr th {\n",
       "        vertical-align: top;\n",
       "    }\n",
       "\n",
       "    .dataframe thead th {\n",
       "        text-align: right;\n",
       "    }\n",
       "</style>\n",
       "<table border=\"1\" class=\"dataframe\">\n",
       "  <thead>\n",
       "    <tr style=\"text-align: right;\">\n",
       "      <th></th>\n",
       "      <th>CoinName</th>\n",
       "      <th>Algorithm</th>\n",
       "      <th>ProofType</th>\n",
       "      <th>TotalCoinsMined</th>\n",
       "      <th>TotalCoinSupply</th>\n",
       "    </tr>\n",
       "  </thead>\n",
       "  <tbody>\n",
       "    <tr>\n",
       "      <th>42</th>\n",
       "      <td>42 Coin</td>\n",
       "      <td>Scrypt</td>\n",
       "      <td>PoW/PoS</td>\n",
       "      <td>4.199995e+01</td>\n",
       "      <td>42</td>\n",
       "    </tr>\n",
       "    <tr>\n",
       "      <th>404</th>\n",
       "      <td>404Coin</td>\n",
       "      <td>Scrypt</td>\n",
       "      <td>PoW/PoS</td>\n",
       "      <td>1.055185e+09</td>\n",
       "      <td>532000000</td>\n",
       "    </tr>\n",
       "    <tr>\n",
       "      <th>1337</th>\n",
       "      <td>EliteCoin</td>\n",
       "      <td>X13</td>\n",
       "      <td>PoW/PoS</td>\n",
       "      <td>2.927942e+10</td>\n",
       "      <td>314159265359</td>\n",
       "    </tr>\n",
       "    <tr>\n",
       "      <th>BTC</th>\n",
       "      <td>Bitcoin</td>\n",
       "      <td>SHA-256</td>\n",
       "      <td>PoW</td>\n",
       "      <td>1.792718e+07</td>\n",
       "      <td>21000000</td>\n",
       "    </tr>\n",
       "    <tr>\n",
       "      <th>ETH</th>\n",
       "      <td>Ethereum</td>\n",
       "      <td>Ethash</td>\n",
       "      <td>PoW</td>\n",
       "      <td>1.076842e+08</td>\n",
       "      <td>0</td>\n",
       "    </tr>\n",
       "    <tr>\n",
       "      <th>LTC</th>\n",
       "      <td>Litecoin</td>\n",
       "      <td>Scrypt</td>\n",
       "      <td>PoW</td>\n",
       "      <td>6.303924e+07</td>\n",
       "      <td>84000000</td>\n",
       "    </tr>\n",
       "    <tr>\n",
       "      <th>DASH</th>\n",
       "      <td>Dash</td>\n",
       "      <td>X11</td>\n",
       "      <td>PoW/PoS</td>\n",
       "      <td>9.031294e+06</td>\n",
       "      <td>22000000</td>\n",
       "    </tr>\n",
       "    <tr>\n",
       "      <th>XMR</th>\n",
       "      <td>Monero</td>\n",
       "      <td>CryptoNight-V7</td>\n",
       "      <td>PoW</td>\n",
       "      <td>1.720114e+07</td>\n",
       "      <td>0</td>\n",
       "    </tr>\n",
       "    <tr>\n",
       "      <th>ETC</th>\n",
       "      <td>Ethereum Classic</td>\n",
       "      <td>Ethash</td>\n",
       "      <td>PoW</td>\n",
       "      <td>1.133597e+08</td>\n",
       "      <td>210000000</td>\n",
       "    </tr>\n",
       "    <tr>\n",
       "      <th>ZEC</th>\n",
       "      <td>ZCash</td>\n",
       "      <td>Equihash</td>\n",
       "      <td>PoW</td>\n",
       "      <td>7.383056e+06</td>\n",
       "      <td>21000000</td>\n",
       "    </tr>\n",
       "  </tbody>\n",
       "</table>\n",
       "</div>"
      ],
      "text/plain": [
       "              CoinName       Algorithm ProofType  TotalCoinsMined  \\\n",
       "42             42 Coin          Scrypt   PoW/PoS     4.199995e+01   \n",
       "404            404Coin          Scrypt   PoW/PoS     1.055185e+09   \n",
       "1337         EliteCoin             X13   PoW/PoS     2.927942e+10   \n",
       "BTC            Bitcoin         SHA-256       PoW     1.792718e+07   \n",
       "ETH           Ethereum          Ethash       PoW     1.076842e+08   \n",
       "LTC           Litecoin          Scrypt       PoW     6.303924e+07   \n",
       "DASH              Dash             X11   PoW/PoS     9.031294e+06   \n",
       "XMR             Monero  CryptoNight-V7       PoW     1.720114e+07   \n",
       "ETC   Ethereum Classic          Ethash       PoW     1.133597e+08   \n",
       "ZEC              ZCash        Equihash       PoW     7.383056e+06   \n",
       "\n",
       "     TotalCoinSupply  \n",
       "42                42  \n",
       "404        532000000  \n",
       "1337    314159265359  \n",
       "BTC         21000000  \n",
       "ETH                0  \n",
       "LTC         84000000  \n",
       "DASH        22000000  \n",
       "XMR                0  \n",
       "ETC        210000000  \n",
       "ZEC         21000000  "
      ]
     },
     "execution_count": 105,
     "metadata": {},
     "output_type": "execute_result"
    }
   ],
   "source": [
    "# Keep the rows where coins are mined.\n",
    "crypto_df =crypto_df[crypto_df['TotalCoinsMined']>0]\n",
    "print(crypto_df.shape)\n",
    "crypto_df.head(10)"
   ]
  },
  {
   "cell_type": "code",
   "execution_count": 106,
   "metadata": {},
   "outputs": [
    {
     "name": "stdout",
     "output_type": "stream",
     "text": [
      "(532, 1)\n"
     ]
    },
    {
     "data": {
      "text/html": [
       "<div>\n",
       "<style scoped>\n",
       "    .dataframe tbody tr th:only-of-type {\n",
       "        vertical-align: middle;\n",
       "    }\n",
       "\n",
       "    .dataframe tbody tr th {\n",
       "        vertical-align: top;\n",
       "    }\n",
       "\n",
       "    .dataframe thead th {\n",
       "        text-align: right;\n",
       "    }\n",
       "</style>\n",
       "<table border=\"1\" class=\"dataframe\">\n",
       "  <thead>\n",
       "    <tr style=\"text-align: right;\">\n",
       "      <th></th>\n",
       "      <th>CoinName</th>\n",
       "    </tr>\n",
       "  </thead>\n",
       "  <tbody>\n",
       "    <tr>\n",
       "      <th>42</th>\n",
       "      <td>42 Coin</td>\n",
       "    </tr>\n",
       "    <tr>\n",
       "      <th>404</th>\n",
       "      <td>404Coin</td>\n",
       "    </tr>\n",
       "    <tr>\n",
       "      <th>1337</th>\n",
       "      <td>EliteCoin</td>\n",
       "    </tr>\n",
       "    <tr>\n",
       "      <th>BTC</th>\n",
       "      <td>Bitcoin</td>\n",
       "    </tr>\n",
       "    <tr>\n",
       "      <th>ETH</th>\n",
       "      <td>Ethereum</td>\n",
       "    </tr>\n",
       "    <tr>\n",
       "      <th>LTC</th>\n",
       "      <td>Litecoin</td>\n",
       "    </tr>\n",
       "    <tr>\n",
       "      <th>DASH</th>\n",
       "      <td>Dash</td>\n",
       "    </tr>\n",
       "    <tr>\n",
       "      <th>XMR</th>\n",
       "      <td>Monero</td>\n",
       "    </tr>\n",
       "    <tr>\n",
       "      <th>ETC</th>\n",
       "      <td>Ethereum Classic</td>\n",
       "    </tr>\n",
       "    <tr>\n",
       "      <th>ZEC</th>\n",
       "      <td>ZCash</td>\n",
       "    </tr>\n",
       "  </tbody>\n",
       "</table>\n",
       "</div>"
      ],
      "text/plain": [
       "              CoinName\n",
       "42             42 Coin\n",
       "404            404Coin\n",
       "1337         EliteCoin\n",
       "BTC            Bitcoin\n",
       "ETH           Ethereum\n",
       "LTC           Litecoin\n",
       "DASH              Dash\n",
       "XMR             Monero\n",
       "ETC   Ethereum Classic\n",
       "ZEC              ZCash"
      ]
     },
     "execution_count": 106,
     "metadata": {},
     "output_type": "execute_result"
    }
   ],
   "source": [
    "# Create a new DataFrame that holds only the cryptocurrencies names.\n",
    "crypto_names_df=pd.DataFrame(crypto_df['CoinName'])\n",
    "print(crypto_names_df.shape)\n",
    "crypto_names_df.head(10)"
   ]
  },
  {
   "cell_type": "code",
   "execution_count": 107,
   "metadata": {},
   "outputs": [
    {
     "name": "stdout",
     "output_type": "stream",
     "text": [
      "(532, 4)\n"
     ]
    },
    {
     "data": {
      "text/html": [
       "<div>\n",
       "<style scoped>\n",
       "    .dataframe tbody tr th:only-of-type {\n",
       "        vertical-align: middle;\n",
       "    }\n",
       "\n",
       "    .dataframe tbody tr th {\n",
       "        vertical-align: top;\n",
       "    }\n",
       "\n",
       "    .dataframe thead th {\n",
       "        text-align: right;\n",
       "    }\n",
       "</style>\n",
       "<table border=\"1\" class=\"dataframe\">\n",
       "  <thead>\n",
       "    <tr style=\"text-align: right;\">\n",
       "      <th></th>\n",
       "      <th>Algorithm</th>\n",
       "      <th>ProofType</th>\n",
       "      <th>TotalCoinsMined</th>\n",
       "      <th>TotalCoinSupply</th>\n",
       "    </tr>\n",
       "  </thead>\n",
       "  <tbody>\n",
       "    <tr>\n",
       "      <th>42</th>\n",
       "      <td>Scrypt</td>\n",
       "      <td>PoW/PoS</td>\n",
       "      <td>4.199995e+01</td>\n",
       "      <td>42</td>\n",
       "    </tr>\n",
       "    <tr>\n",
       "      <th>404</th>\n",
       "      <td>Scrypt</td>\n",
       "      <td>PoW/PoS</td>\n",
       "      <td>1.055185e+09</td>\n",
       "      <td>532000000</td>\n",
       "    </tr>\n",
       "    <tr>\n",
       "      <th>1337</th>\n",
       "      <td>X13</td>\n",
       "      <td>PoW/PoS</td>\n",
       "      <td>2.927942e+10</td>\n",
       "      <td>314159265359</td>\n",
       "    </tr>\n",
       "    <tr>\n",
       "      <th>BTC</th>\n",
       "      <td>SHA-256</td>\n",
       "      <td>PoW</td>\n",
       "      <td>1.792718e+07</td>\n",
       "      <td>21000000</td>\n",
       "    </tr>\n",
       "    <tr>\n",
       "      <th>ETH</th>\n",
       "      <td>Ethash</td>\n",
       "      <td>PoW</td>\n",
       "      <td>1.076842e+08</td>\n",
       "      <td>0</td>\n",
       "    </tr>\n",
       "    <tr>\n",
       "      <th>LTC</th>\n",
       "      <td>Scrypt</td>\n",
       "      <td>PoW</td>\n",
       "      <td>6.303924e+07</td>\n",
       "      <td>84000000</td>\n",
       "    </tr>\n",
       "    <tr>\n",
       "      <th>DASH</th>\n",
       "      <td>X11</td>\n",
       "      <td>PoW/PoS</td>\n",
       "      <td>9.031294e+06</td>\n",
       "      <td>22000000</td>\n",
       "    </tr>\n",
       "    <tr>\n",
       "      <th>XMR</th>\n",
       "      <td>CryptoNight-V7</td>\n",
       "      <td>PoW</td>\n",
       "      <td>1.720114e+07</td>\n",
       "      <td>0</td>\n",
       "    </tr>\n",
       "    <tr>\n",
       "      <th>ETC</th>\n",
       "      <td>Ethash</td>\n",
       "      <td>PoW</td>\n",
       "      <td>1.133597e+08</td>\n",
       "      <td>210000000</td>\n",
       "    </tr>\n",
       "    <tr>\n",
       "      <th>ZEC</th>\n",
       "      <td>Equihash</td>\n",
       "      <td>PoW</td>\n",
       "      <td>7.383056e+06</td>\n",
       "      <td>21000000</td>\n",
       "    </tr>\n",
       "  </tbody>\n",
       "</table>\n",
       "</div>"
      ],
      "text/plain": [
       "           Algorithm ProofType  TotalCoinsMined TotalCoinSupply\n",
       "42            Scrypt   PoW/PoS     4.199995e+01              42\n",
       "404           Scrypt   PoW/PoS     1.055185e+09       532000000\n",
       "1337             X13   PoW/PoS     2.927942e+10    314159265359\n",
       "BTC          SHA-256       PoW     1.792718e+07        21000000\n",
       "ETH           Ethash       PoW     1.076842e+08               0\n",
       "LTC           Scrypt       PoW     6.303924e+07        84000000\n",
       "DASH             X11   PoW/PoS     9.031294e+06        22000000\n",
       "XMR   CryptoNight-V7       PoW     1.720114e+07               0\n",
       "ETC           Ethash       PoW     1.133597e+08       210000000\n",
       "ZEC         Equihash       PoW     7.383056e+06        21000000"
      ]
     },
     "execution_count": 107,
     "metadata": {},
     "output_type": "execute_result"
    }
   ],
   "source": [
    "# Drop the 'CoinName' column since it's not going to be used on the clustering algorithm.\n",
    "crypto_df=crypto_df.drop(columns='CoinName')\n",
    "print(crypto_df.shape)\n",
    "crypto_df.head(10)"
   ]
  },
  {
   "cell_type": "code",
   "execution_count": 108,
   "metadata": {},
   "outputs": [
    {
     "name": "stdout",
     "output_type": "stream",
     "text": [
      "(532, 98)\n"
     ]
    },
    {
     "data": {
      "text/html": [
       "<div>\n",
       "<style scoped>\n",
       "    .dataframe tbody tr th:only-of-type {\n",
       "        vertical-align: middle;\n",
       "    }\n",
       "\n",
       "    .dataframe tbody tr th {\n",
       "        vertical-align: top;\n",
       "    }\n",
       "\n",
       "    .dataframe thead th {\n",
       "        text-align: right;\n",
       "    }\n",
       "</style>\n",
       "<table border=\"1\" class=\"dataframe\">\n",
       "  <thead>\n",
       "    <tr style=\"text-align: right;\">\n",
       "      <th></th>\n",
       "      <th>TotalCoinsMined</th>\n",
       "      <th>TotalCoinSupply</th>\n",
       "      <th>Algorithm_1GB AES Pattern Search</th>\n",
       "      <th>Algorithm_536</th>\n",
       "      <th>Algorithm_Argon2d</th>\n",
       "      <th>Algorithm_BLAKE256</th>\n",
       "      <th>Algorithm_Blake</th>\n",
       "      <th>Algorithm_Blake2S</th>\n",
       "      <th>Algorithm_Blake2b</th>\n",
       "      <th>Algorithm_C11</th>\n",
       "      <th>...</th>\n",
       "      <th>ProofType_PoW/PoS</th>\n",
       "      <th>ProofType_PoW/PoS</th>\n",
       "      <th>ProofType_PoW/PoW</th>\n",
       "      <th>ProofType_PoW/nPoS</th>\n",
       "      <th>ProofType_Pos</th>\n",
       "      <th>ProofType_Proof of Authority</th>\n",
       "      <th>ProofType_Proof of Trust</th>\n",
       "      <th>ProofType_TPoS</th>\n",
       "      <th>ProofType_Zero-Knowledge Proof</th>\n",
       "      <th>ProofType_dPoW/PoW</th>\n",
       "    </tr>\n",
       "  </thead>\n",
       "  <tbody>\n",
       "    <tr>\n",
       "      <th>42</th>\n",
       "      <td>4.199995e+01</td>\n",
       "      <td>42</td>\n",
       "      <td>0</td>\n",
       "      <td>0</td>\n",
       "      <td>0</td>\n",
       "      <td>0</td>\n",
       "      <td>0</td>\n",
       "      <td>0</td>\n",
       "      <td>0</td>\n",
       "      <td>0</td>\n",
       "      <td>...</td>\n",
       "      <td>1</td>\n",
       "      <td>0</td>\n",
       "      <td>0</td>\n",
       "      <td>0</td>\n",
       "      <td>0</td>\n",
       "      <td>0</td>\n",
       "      <td>0</td>\n",
       "      <td>0</td>\n",
       "      <td>0</td>\n",
       "      <td>0</td>\n",
       "    </tr>\n",
       "    <tr>\n",
       "      <th>404</th>\n",
       "      <td>1.055185e+09</td>\n",
       "      <td>532000000</td>\n",
       "      <td>0</td>\n",
       "      <td>0</td>\n",
       "      <td>0</td>\n",
       "      <td>0</td>\n",
       "      <td>0</td>\n",
       "      <td>0</td>\n",
       "      <td>0</td>\n",
       "      <td>0</td>\n",
       "      <td>...</td>\n",
       "      <td>1</td>\n",
       "      <td>0</td>\n",
       "      <td>0</td>\n",
       "      <td>0</td>\n",
       "      <td>0</td>\n",
       "      <td>0</td>\n",
       "      <td>0</td>\n",
       "      <td>0</td>\n",
       "      <td>0</td>\n",
       "      <td>0</td>\n",
       "    </tr>\n",
       "    <tr>\n",
       "      <th>1337</th>\n",
       "      <td>2.927942e+10</td>\n",
       "      <td>314159265359</td>\n",
       "      <td>0</td>\n",
       "      <td>0</td>\n",
       "      <td>0</td>\n",
       "      <td>0</td>\n",
       "      <td>0</td>\n",
       "      <td>0</td>\n",
       "      <td>0</td>\n",
       "      <td>0</td>\n",
       "      <td>...</td>\n",
       "      <td>1</td>\n",
       "      <td>0</td>\n",
       "      <td>0</td>\n",
       "      <td>0</td>\n",
       "      <td>0</td>\n",
       "      <td>0</td>\n",
       "      <td>0</td>\n",
       "      <td>0</td>\n",
       "      <td>0</td>\n",
       "      <td>0</td>\n",
       "    </tr>\n",
       "    <tr>\n",
       "      <th>BTC</th>\n",
       "      <td>1.792718e+07</td>\n",
       "      <td>21000000</td>\n",
       "      <td>0</td>\n",
       "      <td>0</td>\n",
       "      <td>0</td>\n",
       "      <td>0</td>\n",
       "      <td>0</td>\n",
       "      <td>0</td>\n",
       "      <td>0</td>\n",
       "      <td>0</td>\n",
       "      <td>...</td>\n",
       "      <td>0</td>\n",
       "      <td>0</td>\n",
       "      <td>0</td>\n",
       "      <td>0</td>\n",
       "      <td>0</td>\n",
       "      <td>0</td>\n",
       "      <td>0</td>\n",
       "      <td>0</td>\n",
       "      <td>0</td>\n",
       "      <td>0</td>\n",
       "    </tr>\n",
       "    <tr>\n",
       "      <th>ETH</th>\n",
       "      <td>1.076842e+08</td>\n",
       "      <td>0</td>\n",
       "      <td>0</td>\n",
       "      <td>0</td>\n",
       "      <td>0</td>\n",
       "      <td>0</td>\n",
       "      <td>0</td>\n",
       "      <td>0</td>\n",
       "      <td>0</td>\n",
       "      <td>0</td>\n",
       "      <td>...</td>\n",
       "      <td>0</td>\n",
       "      <td>0</td>\n",
       "      <td>0</td>\n",
       "      <td>0</td>\n",
       "      <td>0</td>\n",
       "      <td>0</td>\n",
       "      <td>0</td>\n",
       "      <td>0</td>\n",
       "      <td>0</td>\n",
       "      <td>0</td>\n",
       "    </tr>\n",
       "    <tr>\n",
       "      <th>LTC</th>\n",
       "      <td>6.303924e+07</td>\n",
       "      <td>84000000</td>\n",
       "      <td>0</td>\n",
       "      <td>0</td>\n",
       "      <td>0</td>\n",
       "      <td>0</td>\n",
       "      <td>0</td>\n",
       "      <td>0</td>\n",
       "      <td>0</td>\n",
       "      <td>0</td>\n",
       "      <td>...</td>\n",
       "      <td>0</td>\n",
       "      <td>0</td>\n",
       "      <td>0</td>\n",
       "      <td>0</td>\n",
       "      <td>0</td>\n",
       "      <td>0</td>\n",
       "      <td>0</td>\n",
       "      <td>0</td>\n",
       "      <td>0</td>\n",
       "      <td>0</td>\n",
       "    </tr>\n",
       "    <tr>\n",
       "      <th>DASH</th>\n",
       "      <td>9.031294e+06</td>\n",
       "      <td>22000000</td>\n",
       "      <td>0</td>\n",
       "      <td>0</td>\n",
       "      <td>0</td>\n",
       "      <td>0</td>\n",
       "      <td>0</td>\n",
       "      <td>0</td>\n",
       "      <td>0</td>\n",
       "      <td>0</td>\n",
       "      <td>...</td>\n",
       "      <td>1</td>\n",
       "      <td>0</td>\n",
       "      <td>0</td>\n",
       "      <td>0</td>\n",
       "      <td>0</td>\n",
       "      <td>0</td>\n",
       "      <td>0</td>\n",
       "      <td>0</td>\n",
       "      <td>0</td>\n",
       "      <td>0</td>\n",
       "    </tr>\n",
       "    <tr>\n",
       "      <th>XMR</th>\n",
       "      <td>1.720114e+07</td>\n",
       "      <td>0</td>\n",
       "      <td>0</td>\n",
       "      <td>0</td>\n",
       "      <td>0</td>\n",
       "      <td>0</td>\n",
       "      <td>0</td>\n",
       "      <td>0</td>\n",
       "      <td>0</td>\n",
       "      <td>0</td>\n",
       "      <td>...</td>\n",
       "      <td>0</td>\n",
       "      <td>0</td>\n",
       "      <td>0</td>\n",
       "      <td>0</td>\n",
       "      <td>0</td>\n",
       "      <td>0</td>\n",
       "      <td>0</td>\n",
       "      <td>0</td>\n",
       "      <td>0</td>\n",
       "      <td>0</td>\n",
       "    </tr>\n",
       "    <tr>\n",
       "      <th>ETC</th>\n",
       "      <td>1.133597e+08</td>\n",
       "      <td>210000000</td>\n",
       "      <td>0</td>\n",
       "      <td>0</td>\n",
       "      <td>0</td>\n",
       "      <td>0</td>\n",
       "      <td>0</td>\n",
       "      <td>0</td>\n",
       "      <td>0</td>\n",
       "      <td>0</td>\n",
       "      <td>...</td>\n",
       "      <td>0</td>\n",
       "      <td>0</td>\n",
       "      <td>0</td>\n",
       "      <td>0</td>\n",
       "      <td>0</td>\n",
       "      <td>0</td>\n",
       "      <td>0</td>\n",
       "      <td>0</td>\n",
       "      <td>0</td>\n",
       "      <td>0</td>\n",
       "    </tr>\n",
       "    <tr>\n",
       "      <th>ZEC</th>\n",
       "      <td>7.383056e+06</td>\n",
       "      <td>21000000</td>\n",
       "      <td>0</td>\n",
       "      <td>0</td>\n",
       "      <td>0</td>\n",
       "      <td>0</td>\n",
       "      <td>0</td>\n",
       "      <td>0</td>\n",
       "      <td>0</td>\n",
       "      <td>0</td>\n",
       "      <td>...</td>\n",
       "      <td>0</td>\n",
       "      <td>0</td>\n",
       "      <td>0</td>\n",
       "      <td>0</td>\n",
       "      <td>0</td>\n",
       "      <td>0</td>\n",
       "      <td>0</td>\n",
       "      <td>0</td>\n",
       "      <td>0</td>\n",
       "      <td>0</td>\n",
       "    </tr>\n",
       "  </tbody>\n",
       "</table>\n",
       "<p>10 rows × 98 columns</p>\n",
       "</div>"
      ],
      "text/plain": [
       "      TotalCoinsMined TotalCoinSupply  Algorithm_1GB AES Pattern Search  \\\n",
       "42       4.199995e+01              42                                 0   \n",
       "404      1.055185e+09       532000000                                 0   \n",
       "1337     2.927942e+10    314159265359                                 0   \n",
       "BTC      1.792718e+07        21000000                                 0   \n",
       "ETH      1.076842e+08               0                                 0   \n",
       "LTC      6.303924e+07        84000000                                 0   \n",
       "DASH     9.031294e+06        22000000                                 0   \n",
       "XMR      1.720114e+07               0                                 0   \n",
       "ETC      1.133597e+08       210000000                                 0   \n",
       "ZEC      7.383056e+06        21000000                                 0   \n",
       "\n",
       "      Algorithm_536  Algorithm_Argon2d  Algorithm_BLAKE256  Algorithm_Blake  \\\n",
       "42                0                  0                   0                0   \n",
       "404               0                  0                   0                0   \n",
       "1337              0                  0                   0                0   \n",
       "BTC               0                  0                   0                0   \n",
       "ETH               0                  0                   0                0   \n",
       "LTC               0                  0                   0                0   \n",
       "DASH              0                  0                   0                0   \n",
       "XMR               0                  0                   0                0   \n",
       "ETC               0                  0                   0                0   \n",
       "ZEC               0                  0                   0                0   \n",
       "\n",
       "      Algorithm_Blake2S  Algorithm_Blake2b  Algorithm_C11  ...  \\\n",
       "42                    0                  0              0  ...   \n",
       "404                   0                  0              0  ...   \n",
       "1337                  0                  0              0  ...   \n",
       "BTC                   0                  0              0  ...   \n",
       "ETH                   0                  0              0  ...   \n",
       "LTC                   0                  0              0  ...   \n",
       "DASH                  0                  0              0  ...   \n",
       "XMR                   0                  0              0  ...   \n",
       "ETC                   0                  0              0  ...   \n",
       "ZEC                   0                  0              0  ...   \n",
       "\n",
       "      ProofType_PoW/PoS  ProofType_PoW/PoS   ProofType_PoW/PoW  \\\n",
       "42                    1                   0                  0   \n",
       "404                   1                   0                  0   \n",
       "1337                  1                   0                  0   \n",
       "BTC                   0                   0                  0   \n",
       "ETH                   0                   0                  0   \n",
       "LTC                   0                   0                  0   \n",
       "DASH                  1                   0                  0   \n",
       "XMR                   0                   0                  0   \n",
       "ETC                   0                   0                  0   \n",
       "ZEC                   0                   0                  0   \n",
       "\n",
       "      ProofType_PoW/nPoS  ProofType_Pos  ProofType_Proof of Authority  \\\n",
       "42                     0              0                             0   \n",
       "404                    0              0                             0   \n",
       "1337                   0              0                             0   \n",
       "BTC                    0              0                             0   \n",
       "ETH                    0              0                             0   \n",
       "LTC                    0              0                             0   \n",
       "DASH                   0              0                             0   \n",
       "XMR                    0              0                             0   \n",
       "ETC                    0              0                             0   \n",
       "ZEC                    0              0                             0   \n",
       "\n",
       "      ProofType_Proof of Trust  ProofType_TPoS  \\\n",
       "42                           0               0   \n",
       "404                          0               0   \n",
       "1337                         0               0   \n",
       "BTC                          0               0   \n",
       "ETH                          0               0   \n",
       "LTC                          0               0   \n",
       "DASH                         0               0   \n",
       "XMR                          0               0   \n",
       "ETC                          0               0   \n",
       "ZEC                          0               0   \n",
       "\n",
       "      ProofType_Zero-Knowledge Proof  ProofType_dPoW/PoW  \n",
       "42                                 0                   0  \n",
       "404                                0                   0  \n",
       "1337                               0                   0  \n",
       "BTC                                0                   0  \n",
       "ETH                                0                   0  \n",
       "LTC                                0                   0  \n",
       "DASH                               0                   0  \n",
       "XMR                                0                   0  \n",
       "ETC                                0                   0  \n",
       "ZEC                                0                   0  \n",
       "\n",
       "[10 rows x 98 columns]"
      ]
     },
     "execution_count": 108,
     "metadata": {},
     "output_type": "execute_result"
    }
   ],
   "source": [
    "# Use get_dummies() to create variables for text features.\n",
    "X=pd.get_dummies(crypto_df,columns=['Algorithm','ProofType'])\n",
    "print(X.shape)\n",
    "X.head(10)"
   ]
  },
  {
   "cell_type": "code",
   "execution_count": 109,
   "metadata": {},
   "outputs": [
    {
     "data": {
      "text/plain": [
       "array([[-0.11710817, -0.1528703 , -0.0433963 , ..., -0.0433963 ,\n",
       "        -0.0433963 , -0.0433963 ],\n",
       "       [-0.09396955, -0.145009  , -0.0433963 , ..., -0.0433963 ,\n",
       "        -0.0433963 , -0.0433963 ],\n",
       "       [ 0.52494561,  4.48942416, -0.0433963 , ..., -0.0433963 ,\n",
       "        -0.0433963 , -0.0433963 ],\n",
       "       ...,\n",
       "       [-0.09561336, -0.13217937, -0.0433963 , ..., -0.0433963 ,\n",
       "        -0.0433963 , -0.0433963 ],\n",
       "       [-0.11694817, -0.15255998, -0.0433963 , ..., -0.0433963 ,\n",
       "        -0.0433963 , -0.0433963 ],\n",
       "       [-0.11710536, -0.15285552, -0.0433963 , ..., -0.0433963 ,\n",
       "        -0.0433963 , -0.0433963 ]])"
      ]
     },
     "execution_count": 109,
     "metadata": {},
     "output_type": "execute_result"
    }
   ],
   "source": [
    "# Standardize the data with StandardScaler().\n",
    "X= StandardScaler().fit_transform(X)\n",
    "X"
   ]
  },
  {
   "cell_type": "markdown",
   "metadata": {},
   "source": [
    "### Deliverable 2: Reducing Data Dimensions Using PCA"
   ]
  },
  {
   "cell_type": "code",
   "execution_count": 110,
   "metadata": {},
   "outputs": [
    {
     "data": {
      "text/plain": [
       "array([[-0.33925874,  1.08336055, -0.51826574],\n",
       "       [-0.32260277,  1.0836414 , -0.51851473],\n",
       "       [ 2.30641001,  1.72200634, -0.59639777],\n",
       "       ...,\n",
       "       [ 0.32776597, -2.30641419,  0.34878077],\n",
       "       [-0.14636876, -2.11100172,  0.35702498],\n",
       "       [-0.29736263,  0.85470132, -0.23100979]])"
      ]
     },
     "execution_count": 110,
     "metadata": {},
     "output_type": "execute_result"
    }
   ],
   "source": [
    "# Using PCA to reduce dimension to three principal components.\n",
    "# Initialize PCA model\n",
    "pca = PCA(n_components=3)\n",
    "\n",
    "# Get two principal components for the iris data.\n",
    "X = pca.fit_transform(X)\n",
    "X"
   ]
  },
  {
   "cell_type": "code",
   "execution_count": 111,
   "metadata": {},
   "outputs": [
    {
     "name": "stdout",
     "output_type": "stream",
     "text": [
      "(532, 3)\n"
     ]
    },
    {
     "data": {
      "text/html": [
       "<div>\n",
       "<style scoped>\n",
       "    .dataframe tbody tr th:only-of-type {\n",
       "        vertical-align: middle;\n",
       "    }\n",
       "\n",
       "    .dataframe tbody tr th {\n",
       "        vertical-align: top;\n",
       "    }\n",
       "\n",
       "    .dataframe thead th {\n",
       "        text-align: right;\n",
       "    }\n",
       "</style>\n",
       "<table border=\"1\" class=\"dataframe\">\n",
       "  <thead>\n",
       "    <tr style=\"text-align: right;\">\n",
       "      <th></th>\n",
       "      <th>PC 1</th>\n",
       "      <th>PC 2</th>\n",
       "      <th>PC 3</th>\n",
       "    </tr>\n",
       "  </thead>\n",
       "  <tbody>\n",
       "    <tr>\n",
       "      <th>42</th>\n",
       "      <td>-0.339259</td>\n",
       "      <td>1.083361</td>\n",
       "      <td>-0.518266</td>\n",
       "    </tr>\n",
       "    <tr>\n",
       "      <th>404</th>\n",
       "      <td>-0.322603</td>\n",
       "      <td>1.083641</td>\n",
       "      <td>-0.518515</td>\n",
       "    </tr>\n",
       "    <tr>\n",
       "      <th>1337</th>\n",
       "      <td>2.306410</td>\n",
       "      <td>1.722006</td>\n",
       "      <td>-0.596398</td>\n",
       "    </tr>\n",
       "    <tr>\n",
       "      <th>BTC</th>\n",
       "      <td>-0.139134</td>\n",
       "      <td>-1.366724</td>\n",
       "      <td>0.149168</td>\n",
       "    </tr>\n",
       "    <tr>\n",
       "      <th>ETH</th>\n",
       "      <td>-0.155969</td>\n",
       "      <td>-1.988020</td>\n",
       "      <td>0.293901</td>\n",
       "    </tr>\n",
       "    <tr>\n",
       "      <th>...</th>\n",
       "      <td>...</td>\n",
       "      <td>...</td>\n",
       "      <td>...</td>\n",
       "    </tr>\n",
       "    <tr>\n",
       "      <th>ZEPH</th>\n",
       "      <td>2.483353</td>\n",
       "      <td>0.665494</td>\n",
       "      <td>-0.077417</td>\n",
       "    </tr>\n",
       "    <tr>\n",
       "      <th>GAP</th>\n",
       "      <td>-0.337305</td>\n",
       "      <td>1.083267</td>\n",
       "      <td>-0.518276</td>\n",
       "    </tr>\n",
       "    <tr>\n",
       "      <th>BDX</th>\n",
       "      <td>0.327766</td>\n",
       "      <td>-2.306414</td>\n",
       "      <td>0.348781</td>\n",
       "    </tr>\n",
       "    <tr>\n",
       "      <th>ZEN</th>\n",
       "      <td>-0.146369</td>\n",
       "      <td>-2.111002</td>\n",
       "      <td>0.357025</td>\n",
       "    </tr>\n",
       "    <tr>\n",
       "      <th>XBC</th>\n",
       "      <td>-0.297363</td>\n",
       "      <td>0.854701</td>\n",
       "      <td>-0.231010</td>\n",
       "    </tr>\n",
       "  </tbody>\n",
       "</table>\n",
       "<p>532 rows × 3 columns</p>\n",
       "</div>"
      ],
      "text/plain": [
       "          PC 1      PC 2      PC 3\n",
       "42   -0.339259  1.083361 -0.518266\n",
       "404  -0.322603  1.083641 -0.518515\n",
       "1337  2.306410  1.722006 -0.596398\n",
       "BTC  -0.139134 -1.366724  0.149168\n",
       "ETH  -0.155969 -1.988020  0.293901\n",
       "...        ...       ...       ...\n",
       "ZEPH  2.483353  0.665494 -0.077417\n",
       "GAP  -0.337305  1.083267 -0.518276\n",
       "BDX   0.327766 -2.306414  0.348781\n",
       "ZEN  -0.146369 -2.111002  0.357025\n",
       "XBC  -0.297363  0.854701 -0.231010\n",
       "\n",
       "[532 rows x 3 columns]"
      ]
     },
     "execution_count": 111,
     "metadata": {},
     "output_type": "execute_result"
    }
   ],
   "source": [
    "# Create a DataFrame with the three principal components.\n",
    "pcs_df = pd.DataFrame(\n",
    "    data=X, columns=[\"PC 1\", \"PC 2\", \"PC 3\"], index=crypto_df.index\n",
    ")\n",
    "print(pcs_df.shape)\n",
    "pcs_df"
   ]
  },
  {
   "cell_type": "markdown",
   "metadata": {},
   "source": [
    "### Deliverable 3: Clustering Crytocurrencies Using K-Means\n",
    "\n",
    "#### Finding the Best Value for `k` Using the Elbow Curve"
   ]
  },
  {
   "cell_type": "code",
   "execution_count": 112,
   "metadata": {},
   "outputs": [
    {
     "data": {},
     "metadata": {},
     "output_type": "display_data"
    },
    {
     "data": {
      "application/vnd.holoviews_exec.v0+json": "",
      "text/html": [
       "<div id='1949'>\n",
       "\n",
       "\n",
       "\n",
       "\n",
       "\n",
       "  <div class=\"bk-root\" id=\"06793e2c-a3bd-4b77-939b-3ec102c31b60\" data-root-id=\"1949\"></div>\n",
       "</div>\n",
       "<script type=\"application/javascript\">(function(root) {\n",
       "  function embed_document(root) {\n",
       "    var docs_json = {\"c08fbb3b-a231-42f4-ace6-05ad144ce522\":{\"roots\":{\"references\":[{\"attributes\":{\"below\":[{\"id\":\"1963\"}],\"center\":[{\"id\":\"1966\"},{\"id\":\"1970\"}],\"left\":[{\"id\":\"1967\"}],\"margin\":[5,5,5,5],\"min_border_bottom\":10,\"min_border_left\":10,\"min_border_right\":10,\"min_border_top\":10,\"plot_height\":300,\"plot_width\":700,\"renderers\":[{\"id\":\"1990\"}],\"sizing_mode\":\"fixed\",\"title\":{\"id\":\"1955\"},\"toolbar\":{\"id\":\"1977\"},\"x_range\":{\"id\":\"1951\"},\"x_scale\":{\"id\":\"1959\"},\"y_range\":{\"id\":\"1952\"},\"y_scale\":{\"id\":\"1961\"}},\"id\":\"1954\",\"subtype\":\"Figure\",\"type\":\"Plot\"},{\"attributes\":{\"margin\":[5,5,5,5],\"name\":\"HSpacer03720\",\"sizing_mode\":\"stretch_width\"},\"id\":\"2013\",\"type\":\"Spacer\"},{\"attributes\":{\"line_alpha\":0.2,\"line_color\":\"#30a2da\",\"line_width\":2,\"x\":{\"field\":\"k\"},\"y\":{\"field\":\"inertia\"}},\"id\":\"1989\",\"type\":\"Line\"},{\"attributes\":{\"ticks\":[1,2,3,4,5,6,7,8,9,10]},\"id\":\"1992\",\"type\":\"FixedTicker\"},{\"attributes\":{\"data_source\":{\"id\":\"1984\"},\"glyph\":{\"id\":\"1987\"},\"hover_glyph\":null,\"muted_glyph\":{\"id\":\"1989\"},\"nonselection_glyph\":{\"id\":\"1988\"},\"selection_glyph\":null,\"view\":{\"id\":\"1991\"}},\"id\":\"1990\",\"type\":\"GlyphRenderer\"},{\"attributes\":{},\"id\":\"1971\",\"type\":\"SaveTool\"},{\"attributes\":{\"source\":{\"id\":\"1984\"}},\"id\":\"1991\",\"type\":\"CDSView\"},{\"attributes\":{},\"id\":\"1972\",\"type\":\"PanTool\"},{\"attributes\":{},\"id\":\"1975\",\"type\":\"ResetTool\"},{\"attributes\":{},\"id\":\"1973\",\"type\":\"WheelZoomTool\"},{\"attributes\":{},\"id\":\"1985\",\"type\":\"Selection\"},{\"attributes\":{\"text\":\"Elbow Curve\",\"text_color\":{\"value\":\"black\"},\"text_font_size\":{\"value\":\"12pt\"}},\"id\":\"1955\",\"type\":\"Title\"},{\"attributes\":{\"overlay\":{\"id\":\"1976\"}},\"id\":\"1974\",\"type\":\"BoxZoomTool\"},{\"attributes\":{},\"id\":\"1959\",\"type\":\"LinearScale\"},{\"attributes\":{\"line_color\":\"#30a2da\",\"line_width\":2,\"x\":{\"field\":\"k\"},\"y\":{\"field\":\"inertia\"}},\"id\":\"1987\",\"type\":\"Line\"},{\"attributes\":{\"end\":10.0,\"reset_end\":10.0,\"reset_start\":1.0,\"start\":1.0,\"tags\":[[[\"k\",\"k\",null]]]},\"id\":\"1951\",\"type\":\"Range1d\"},{\"attributes\":{\"children\":[{\"id\":\"1950\"},{\"id\":\"1954\"},{\"id\":\"2013\"}],\"margin\":[0,0,0,0],\"name\":\"Row03715\",\"tags\":[\"embedded\"]},\"id\":\"1949\",\"type\":\"Row\"},{\"attributes\":{},\"id\":\"1993\",\"type\":\"BasicTickFormatter\"},{\"attributes\":{\"axis_label\":\"k\",\"bounds\":\"auto\",\"formatter\":{\"id\":\"1993\"},\"major_label_orientation\":\"horizontal\",\"ticker\":{\"id\":\"1992\"}},\"id\":\"1963\",\"type\":\"LinearAxis\"},{\"attributes\":{},\"id\":\"1961\",\"type\":\"LinearScale\"},{\"attributes\":{\"margin\":[5,5,5,5],\"name\":\"HSpacer03719\",\"sizing_mode\":\"stretch_width\"},\"id\":\"1950\",\"type\":\"Spacer\"},{\"attributes\":{},\"id\":\"1997\",\"type\":\"BasicTickFormatter\"},{\"attributes\":{\"axis_label\":\"inertia\",\"bounds\":\"auto\",\"formatter\":{\"id\":\"1997\"},\"major_label_orientation\":\"horizontal\",\"ticker\":{\"id\":\"1968\"}},\"id\":\"1967\",\"type\":\"LinearAxis\"},{\"attributes\":{\"axis\":{\"id\":\"1963\"},\"grid_line_color\":null,\"ticker\":null},\"id\":\"1966\",\"type\":\"Grid\"},{\"attributes\":{\"end\":3993.1839667114446,\"reset_end\":3993.1839667114446,\"reset_start\":-241.39772431103324,\"start\":-241.39772431103324,\"tags\":[[[\"inertia\",\"inertia\",null]]]},\"id\":\"1952\",\"type\":\"Range1d\"},{\"attributes\":{\"callback\":null,\"renderers\":[{\"id\":\"1990\"}],\"tags\":[\"hv_created\"],\"tooltips\":[[\"k\",\"@{k}\"],[\"inertia\",\"@{inertia}\"]]},\"id\":\"1953\",\"type\":\"HoverTool\"},{\"attributes\":{},\"id\":\"1968\",\"type\":\"BasicTicker\"},{\"attributes\":{\"axis\":{\"id\":\"1967\"},\"dimension\":1,\"grid_line_color\":null,\"ticker\":null},\"id\":\"1970\",\"type\":\"Grid\"},{\"attributes\":{},\"id\":\"2004\",\"type\":\"UnionRenderers\"},{\"attributes\":{\"active_drag\":\"auto\",\"active_inspect\":\"auto\",\"active_multi\":null,\"active_scroll\":\"auto\",\"active_tap\":\"auto\",\"tools\":[{\"id\":\"1953\"},{\"id\":\"1971\"},{\"id\":\"1972\"},{\"id\":\"1973\"},{\"id\":\"1974\"},{\"id\":\"1975\"}]},\"id\":\"1977\",\"type\":\"Toolbar\"},{\"attributes\":{\"line_alpha\":0.1,\"line_color\":\"#30a2da\",\"line_width\":2,\"x\":{\"field\":\"k\"},\"y\":{\"field\":\"inertia\"}},\"id\":\"1988\",\"type\":\"Line\"},{\"attributes\":{\"data\":{\"inertia\":{\"__ndarray__\":\"w9qZtJpwrEDa3dLsu1WjQEh/pmQMMZdAJ8wMQigygkBlXeBTu0J4QIR0PbTU1nBAUtNEnz+TaUDAyPQ1RxRkQBqmdohPTGBAV8dpOPveW0A=\",\"dtype\":\"float64\",\"order\":\"little\",\"shape\":[10]},\"k\":[1,2,3,4,5,6,7,8,9,10]},\"selected\":{\"id\":\"1985\"},\"selection_policy\":{\"id\":\"2004\"}},\"id\":\"1984\",\"type\":\"ColumnDataSource\"},{\"attributes\":{\"bottom_units\":\"screen\",\"fill_alpha\":0.5,\"fill_color\":\"lightgrey\",\"left_units\":\"screen\",\"level\":\"overlay\",\"line_alpha\":1.0,\"line_color\":\"black\",\"line_dash\":[4,4],\"line_width\":2,\"right_units\":\"screen\",\"top_units\":\"screen\"},\"id\":\"1976\",\"type\":\"BoxAnnotation\"}],\"root_ids\":[\"1949\"]},\"title\":\"Bokeh Application\",\"version\":\"2.2.3\"}};\n",
       "    var render_items = [{\"docid\":\"c08fbb3b-a231-42f4-ace6-05ad144ce522\",\"root_ids\":[\"1949\"],\"roots\":{\"1949\":\"06793e2c-a3bd-4b77-939b-3ec102c31b60\"}}];\n",
       "    root.Bokeh.embed.embed_items_notebook(docs_json, render_items);\n",
       "  }\n",
       "  if (root.Bokeh !== undefined && root.Bokeh.Panel !== undefined) {\n",
       "    embed_document(root);\n",
       "  } else {\n",
       "    var attempts = 0;\n",
       "    var timer = setInterval(function(root) {\n",
       "      if (root.Bokeh !== undefined && root.Bokeh.Panel !== undefined) {\n",
       "        clearInterval(timer);\n",
       "        embed_document(root);\n",
       "      } else if (document.readyState == \"complete\") {\n",
       "        attempts++;\n",
       "        if (attempts > 100) {\n",
       "          clearInterval(timer);\n",
       "          console.log(\"Bokeh: ERROR: Unable to run BokehJS code because BokehJS library is missing\");\n",
       "        }\n",
       "      }\n",
       "    }, 10, root)\n",
       "  }\n",
       "})(window);</script>"
      ],
      "text/plain": [
       ":Curve   [k]   (inertia)"
      ]
     },
     "execution_count": 112,
     "metadata": {
      "application/vnd.holoviews_exec.v0+json": {
       "id": "1949"
      }
     },
     "output_type": "execute_result"
    }
   ],
   "source": [
    "# Create an elbow curve to find the best value for K.\n",
    "inertia = []\n",
    "k = list(range(1, 11))\n",
    "\n",
    "# Calculate the inertia for the range of k values\n",
    "for i in k:\n",
    "    km = KMeans(n_clusters=i, random_state=0)\n",
    "    km.fit(pcs_df)\n",
    "    inertia.append(km.inertia_)\n",
    "\n",
    "# Creating the Elbow Curve\n",
    "elbow_data = {\"k\": k, \"inertia\": inertia}\n",
    "df_elbow = pd.DataFrame(elbow_data)\n",
    "\n",
    "df_elbow.hvplot.line(x='k', y='inertia', xticks = k, title = \"Elbow Curve\")"
   ]
  },
  {
   "cell_type": "markdown",
   "metadata": {},
   "source": [
    "Running K-Means with `k=4`"
   ]
  },
  {
   "cell_type": "code",
   "execution_count": 113,
   "metadata": {},
   "outputs": [
    {
     "data": {
      "text/plain": [
       "array([1, 1, 1, 0, 0, 0, 1, 0, 0, 0, 1, 0, 1, 1, 0, 1, 0, 0, 1, 1, 0, 0,\n",
       "       0, 0, 0, 1, 0, 0, 0, 1, 0, 1, 0, 0, 1, 1, 0, 0, 0, 0, 0, 0, 1, 1,\n",
       "       0, 0, 0, 0, 0, 1, 1, 0, 1, 0, 0, 0, 0, 1, 0, 0, 1, 0, 1, 1, 1, 0,\n",
       "       0, 0, 1, 1, 1, 1, 1, 0, 0, 0, 1, 1, 0, 1, 0, 1, 1, 0, 0, 0, 0, 1,\n",
       "       1, 0, 1, 0, 0, 1, 1, 0, 1, 1, 0, 0, 0, 1, 0, 1, 1, 0, 1, 0, 1, 0,\n",
       "       1, 0, 1, 1, 0, 0, 1, 0, 0, 0, 1, 0, 0, 0, 0, 0, 1, 1, 0, 0, 0, 1,\n",
       "       0, 1, 0, 0, 1, 0, 1, 0, 1, 1, 0, 0, 1, 0, 0, 1, 1, 0, 1, 0, 1, 1,\n",
       "       1, 0, 0, 0, 0, 1, 1, 1, 1, 1, 0, 0, 1, 1, 1, 1, 1, 0, 1, 1, 1, 1,\n",
       "       1, 0, 1, 0, 1, 1, 0, 1, 0, 1, 1, 0, 1, 0, 1, 0, 1, 0, 1, 1, 1, 1,\n",
       "       0, 1, 1, 1, 1, 1, 0, 0, 1, 1, 0, 0, 1, 1, 1, 1, 1, 0, 1, 1, 1, 1,\n",
       "       1, 1, 1, 1, 0, 1, 1, 1, 1, 1, 1, 0, 0, 0, 1, 1, 1, 1, 0, 1, 0, 1,\n",
       "       1, 0, 1, 0, 0, 1, 0, 0, 1, 0, 1, 1, 1, 0, 1, 1, 0, 1, 1, 1, 1, 1,\n",
       "       1, 1, 0, 1, 0, 1, 1, 1, 1, 0, 1, 0, 1, 0, 0, 0, 0, 1, 0, 1, 1, 0,\n",
       "       1, 0, 0, 0, 1, 0, 1, 0, 0, 0, 1, 0, 1, 0, 1, 1, 1, 0, 1, 0, 0, 0,\n",
       "       0, 0, 1, 1, 0, 1, 1, 1, 0, 1, 0, 1, 0, 1, 0, 1, 1, 1, 1, 0, 1, 1,\n",
       "       0, 1, 1, 1, 0, 0, 0, 0, 1, 1, 1, 1, 0, 1, 0, 0, 0, 1, 1, 0, 0, 1,\n",
       "       1, 0, 1, 0, 0, 0, 1, 0, 0, 1, 1, 1, 0, 0, 0, 1, 1, 1, 0, 0, 1, 0,\n",
       "       0, 0, 0, 1, 3, 3, 0, 0, 0, 1, 3, 1, 1, 1, 1, 0, 0, 0, 0, 1, 1, 1,\n",
       "       0, 1, 0, 1, 1, 1, 1, 0, 1, 1, 0, 1, 1, 0, 0, 1, 0, 1, 0, 0, 0, 0,\n",
       "       1, 1, 0, 1, 0, 1, 1, 1, 1, 1, 1, 0, 0, 0, 1, 1, 1, 1, 1, 1, 0, 1,\n",
       "       0, 0, 0, 0, 1, 1, 1, 1, 0, 1, 1, 0, 1, 1, 0, 1, 0, 1, 0, 0, 1, 1,\n",
       "       0, 1, 0, 0, 0, 0, 0, 1, 0, 1, 0, 1, 1, 0, 1, 1, 1, 1, 1, 0, 0, 0,\n",
       "       1, 1, 1, 0, 1, 0, 1, 0, 1, 1, 1, 1, 0, 1, 1, 1, 0, 1, 0, 1, 0, 1,\n",
       "       1, 1, 0, 0, 1, 1, 1, 1, 1, 1, 0, 1, 0, 1, 0, 1, 1, 1, 1, 2, 1, 1,\n",
       "       1, 0, 0, 1])"
      ]
     },
     "execution_count": 113,
     "metadata": {},
     "output_type": "execute_result"
    }
   ],
   "source": [
    "# Initialize the K-Means model.\n",
    "model = KMeans(n_clusters=4, random_state =0)\n",
    "\n",
    "# Fit the model\n",
    "model.fit(X)\n",
    "\n",
    "# Predict clusters\n",
    "predictions = model.predict(X)\n",
    "predictions"
   ]
  },
  {
   "cell_type": "code",
   "execution_count": 114,
   "metadata": {},
   "outputs": [
    {
     "name": "stdout",
     "output_type": "stream",
     "text": [
      "(532, 9)\n"
     ]
    },
    {
     "data": {
      "text/html": [
       "<div>\n",
       "<style scoped>\n",
       "    .dataframe tbody tr th:only-of-type {\n",
       "        vertical-align: middle;\n",
       "    }\n",
       "\n",
       "    .dataframe tbody tr th {\n",
       "        vertical-align: top;\n",
       "    }\n",
       "\n",
       "    .dataframe thead th {\n",
       "        text-align: right;\n",
       "    }\n",
       "</style>\n",
       "<table border=\"1\" class=\"dataframe\">\n",
       "  <thead>\n",
       "    <tr style=\"text-align: right;\">\n",
       "      <th></th>\n",
       "      <th>Algorithm</th>\n",
       "      <th>ProofType</th>\n",
       "      <th>TotalCoinsMined</th>\n",
       "      <th>TotalCoinSupply</th>\n",
       "      <th>PC 1</th>\n",
       "      <th>PC 2</th>\n",
       "      <th>PC 3</th>\n",
       "      <th>CoinName</th>\n",
       "      <th>Class</th>\n",
       "    </tr>\n",
       "  </thead>\n",
       "  <tbody>\n",
       "    <tr>\n",
       "      <th>42</th>\n",
       "      <td>Scrypt</td>\n",
       "      <td>PoW/PoS</td>\n",
       "      <td>4.199995e+01</td>\n",
       "      <td>42</td>\n",
       "      <td>-0.339259</td>\n",
       "      <td>1.083361</td>\n",
       "      <td>-0.518266</td>\n",
       "      <td>42 Coin</td>\n",
       "      <td>1</td>\n",
       "    </tr>\n",
       "    <tr>\n",
       "      <th>404</th>\n",
       "      <td>Scrypt</td>\n",
       "      <td>PoW/PoS</td>\n",
       "      <td>1.055185e+09</td>\n",
       "      <td>532000000</td>\n",
       "      <td>-0.322603</td>\n",
       "      <td>1.083641</td>\n",
       "      <td>-0.518515</td>\n",
       "      <td>404Coin</td>\n",
       "      <td>1</td>\n",
       "    </tr>\n",
       "    <tr>\n",
       "      <th>1337</th>\n",
       "      <td>X13</td>\n",
       "      <td>PoW/PoS</td>\n",
       "      <td>2.927942e+10</td>\n",
       "      <td>314159265359</td>\n",
       "      <td>2.306410</td>\n",
       "      <td>1.722006</td>\n",
       "      <td>-0.596398</td>\n",
       "      <td>EliteCoin</td>\n",
       "      <td>1</td>\n",
       "    </tr>\n",
       "    <tr>\n",
       "      <th>BTC</th>\n",
       "      <td>SHA-256</td>\n",
       "      <td>PoW</td>\n",
       "      <td>1.792718e+07</td>\n",
       "      <td>21000000</td>\n",
       "      <td>-0.139134</td>\n",
       "      <td>-1.366724</td>\n",
       "      <td>0.149168</td>\n",
       "      <td>Bitcoin</td>\n",
       "      <td>0</td>\n",
       "    </tr>\n",
       "    <tr>\n",
       "      <th>ETH</th>\n",
       "      <td>Ethash</td>\n",
       "      <td>PoW</td>\n",
       "      <td>1.076842e+08</td>\n",
       "      <td>0</td>\n",
       "      <td>-0.155969</td>\n",
       "      <td>-1.988020</td>\n",
       "      <td>0.293901</td>\n",
       "      <td>Ethereum</td>\n",
       "      <td>0</td>\n",
       "    </tr>\n",
       "    <tr>\n",
       "      <th>LTC</th>\n",
       "      <td>Scrypt</td>\n",
       "      <td>PoW</td>\n",
       "      <td>6.303924e+07</td>\n",
       "      <td>84000000</td>\n",
       "      <td>-0.171616</td>\n",
       "      <td>-1.088575</td>\n",
       "      <td>-0.006436</td>\n",
       "      <td>Litecoin</td>\n",
       "      <td>0</td>\n",
       "    </tr>\n",
       "    <tr>\n",
       "      <th>DASH</th>\n",
       "      <td>X11</td>\n",
       "      <td>PoW/PoS</td>\n",
       "      <td>9.031294e+06</td>\n",
       "      <td>22000000</td>\n",
       "      <td>-0.390799</td>\n",
       "      <td>1.198599</td>\n",
       "      <td>-0.488343</td>\n",
       "      <td>Dash</td>\n",
       "      <td>1</td>\n",
       "    </tr>\n",
       "    <tr>\n",
       "      <th>XMR</th>\n",
       "      <td>CryptoNight-V7</td>\n",
       "      <td>PoW</td>\n",
       "      <td>1.720114e+07</td>\n",
       "      <td>0</td>\n",
       "      <td>-0.146835</td>\n",
       "      <td>-2.248010</td>\n",
       "      <td>0.416263</td>\n",
       "      <td>Monero</td>\n",
       "      <td>0</td>\n",
       "    </tr>\n",
       "    <tr>\n",
       "      <th>ETC</th>\n",
       "      <td>Ethash</td>\n",
       "      <td>PoW</td>\n",
       "      <td>1.133597e+08</td>\n",
       "      <td>210000000</td>\n",
       "      <td>-0.154412</td>\n",
       "      <td>-1.988102</td>\n",
       "      <td>0.293894</td>\n",
       "      <td>Ethereum Classic</td>\n",
       "      <td>0</td>\n",
       "    </tr>\n",
       "    <tr>\n",
       "      <th>ZEC</th>\n",
       "      <td>Equihash</td>\n",
       "      <td>PoW</td>\n",
       "      <td>7.383056e+06</td>\n",
       "      <td>21000000</td>\n",
       "      <td>-0.146368</td>\n",
       "      <td>-2.111002</td>\n",
       "      <td>0.357025</td>\n",
       "      <td>ZCash</td>\n",
       "      <td>0</td>\n",
       "    </tr>\n",
       "  </tbody>\n",
       "</table>\n",
       "</div>"
      ],
      "text/plain": [
       "           Algorithm ProofType  TotalCoinsMined TotalCoinSupply      PC 1  \\\n",
       "42            Scrypt   PoW/PoS     4.199995e+01              42 -0.339259   \n",
       "404           Scrypt   PoW/PoS     1.055185e+09       532000000 -0.322603   \n",
       "1337             X13   PoW/PoS     2.927942e+10    314159265359  2.306410   \n",
       "BTC          SHA-256       PoW     1.792718e+07        21000000 -0.139134   \n",
       "ETH           Ethash       PoW     1.076842e+08               0 -0.155969   \n",
       "LTC           Scrypt       PoW     6.303924e+07        84000000 -0.171616   \n",
       "DASH             X11   PoW/PoS     9.031294e+06        22000000 -0.390799   \n",
       "XMR   CryptoNight-V7       PoW     1.720114e+07               0 -0.146835   \n",
       "ETC           Ethash       PoW     1.133597e+08       210000000 -0.154412   \n",
       "ZEC         Equihash       PoW     7.383056e+06        21000000 -0.146368   \n",
       "\n",
       "          PC 2      PC 3          CoinName  Class  \n",
       "42    1.083361 -0.518266           42 Coin      1  \n",
       "404   1.083641 -0.518515           404Coin      1  \n",
       "1337  1.722006 -0.596398         EliteCoin      1  \n",
       "BTC  -1.366724  0.149168           Bitcoin      0  \n",
       "ETH  -1.988020  0.293901          Ethereum      0  \n",
       "LTC  -1.088575 -0.006436          Litecoin      0  \n",
       "DASH  1.198599 -0.488343              Dash      1  \n",
       "XMR  -2.248010  0.416263            Monero      0  \n",
       "ETC  -1.988102  0.293894  Ethereum Classic      0  \n",
       "ZEC  -2.111002  0.357025             ZCash      0  "
      ]
     },
     "execution_count": 114,
     "metadata": {},
     "output_type": "execute_result"
    }
   ],
   "source": [
    "# Create a new DataFrame including predicted clusters and cryptocurrencies features.\n",
    "# Concatentate the crypto_df and pcs_df DataFrames on the same columns.\n",
    "clustered_df=crypto_df.join(pcs_df,crypto_df.index,'left')\n",
    "\n",
    "#  Add a new column, \"CoinName\" to the clustered_df DataFrame that holds the names of the cryptocurrencies. \n",
    "clustered_df['CoinName']= crypto_names_df\n",
    "\n",
    "#  Add a new column, \"Class\" to the clustered_df DataFrame that holds the predictions.\n",
    "clustered_df['Class']= predictions\n",
    "\n",
    "# Print the shape of the clustered_df\n",
    "print(clustered_df.shape)\n",
    "clustered_df.head(10)"
   ]
  },
  {
   "cell_type": "markdown",
   "metadata": {},
   "source": [
    "### Deliverable 4: Visualizing Cryptocurrencies Results\n",
    "\n",
    "#### 3D-Scatter with Clusters"
   ]
  },
  {
   "cell_type": "code",
   "execution_count": 115,
   "metadata": {},
   "outputs": [
    {
     "data": {
      "application/vnd.plotly.v1+json": {
       "config": {
        "plotlyServerURL": "https://plot.ly"
       },
       "data": [
        {
         "customdata": [
          [
           "Scrypt"
          ],
          [
           "Scrypt"
          ],
          [
           "X13"
          ],
          [
           "X11"
          ],
          [
           "SHA-512"
          ],
          [
           "SHA-256"
          ],
          [
           "SHA-256"
          ],
          [
           "X15"
          ],
          [
           "Scrypt"
          ],
          [
           "Scrypt"
          ],
          [
           "Scrypt"
          ],
          [
           "Scrypt"
          ],
          [
           "Scrypt"
          ],
          [
           "Scrypt"
          ],
          [
           "Groestl"
          ],
          [
           "PoS"
          ],
          [
           "Scrypt"
          ],
          [
           "Scrypt"
          ],
          [
           "X11"
          ],
          [
           "X11"
          ],
          [
           "SHA3"
          ],
          [
           "Scrypt"
          ],
          [
           "SHA-256"
          ],
          [
           "Scrypt"
          ],
          [
           "X13"
          ],
          [
           "X13"
          ],
          [
           "NeoScrypt"
          ],
          [
           "Scrypt"
          ],
          [
           "Scrypt"
          ],
          [
           "Scrypt"
          ],
          [
           "X11"
          ],
          [
           "X11"
          ],
          [
           "Multiple"
          ],
          [
           "PHI1612"
          ],
          [
           "X11"
          ],
          [
           "Scrypt"
          ],
          [
           "Scrypt"
          ],
          [
           "Scrypt"
          ],
          [
           "X11"
          ],
          [
           "Multiple"
          ],
          [
           "X13"
          ],
          [
           "Scrypt"
          ],
          [
           "Counterparty"
          ],
          [
           "SHA-256"
          ],
          [
           "Groestl"
          ],
          [
           "Scrypt"
          ],
          [
           "X13"
          ],
          [
           "Scrypt"
          ],
          [
           "Scrypt"
          ],
          [
           "X13"
          ],
          [
           "X11"
          ],
          [
           "Scrypt"
          ],
          [
           "X11"
          ],
          [
           "SHA3"
          ],
          [
           "QUAIT"
          ],
          [
           "X11"
          ],
          [
           "Scrypt"
          ],
          [
           "X13"
          ],
          [
           "SHA-256"
          ],
          [
           "X15"
          ],
          [
           "BLAKE256"
          ],
          [
           "SHA-256"
          ],
          [
           "X11"
          ],
          [
           "SHA-256"
          ],
          [
           "NIST5"
          ],
          [
           "Scrypt"
          ],
          [
           "Scrypt"
          ],
          [
           "X11"
          ],
          [
           "Scrypt"
          ],
          [
           "SHA-256"
          ],
          [
           "Scrypt"
          ],
          [
           "PoS"
          ],
          [
           "X11"
          ],
          [
           "SHA-256"
          ],
          [
           "SHA-256"
          ],
          [
           "NIST5"
          ],
          [
           "X11"
          ],
          [
           "POS 3.0"
          ],
          [
           "Scrypt"
          ],
          [
           "Scrypt"
          ],
          [
           "Scrypt"
          ],
          [
           "X13"
          ],
          [
           "X11"
          ],
          [
           "X11"
          ],
          [
           "Scrypt"
          ],
          [
           "SHA-256"
          ],
          [
           "X11"
          ],
          [
           "Scrypt"
          ],
          [
           "Scrypt"
          ],
          [
           "Scrypt"
          ],
          [
           "Scrypt"
          ],
          [
           "SHA-256D"
          ],
          [
           "PoS"
          ],
          [
           "Scrypt"
          ],
          [
           "X11"
          ],
          [
           "PoS"
          ],
          [
           "X13"
          ],
          [
           "X14"
          ],
          [
           "PoS"
          ],
          [
           "SHA-256D"
          ],
          [
           "DPoS"
          ],
          [
           "X11"
          ],
          [
           "X13"
          ],
          [
           "X11"
          ],
          [
           "PoS"
          ],
          [
           "Scrypt"
          ],
          [
           "Scrypt"
          ],
          [
           "PoS"
          ],
          [
           "X11"
          ],
          [
           "SHA-256"
          ],
          [
           "Scrypt"
          ],
          [
           "X11"
          ],
          [
           "Scrypt"
          ],
          [
           "Scrypt"
          ],
          [
           "X11"
          ],
          [
           "Scrypt"
          ],
          [
           "Scrypt"
          ],
          [
           "Scrypt"
          ],
          [
           "Scrypt"
          ],
          [
           "Quark"
          ],
          [
           "QuBit"
          ],
          [
           "Scrypt"
          ],
          [
           "SHA-256"
          ],
          [
           "X11"
          ],
          [
           "Scrypt"
          ],
          [
           "Scrypt"
          ],
          [
           "Scrypt"
          ],
          [
           "Scrypt"
          ],
          [
           "X13"
          ],
          [
           "Scrypt"
          ],
          [
           "Scrypt"
          ],
          [
           "X11"
          ],
          [
           "Blake2S"
          ],
          [
           "X11"
          ],
          [
           "PoS"
          ],
          [
           "X11"
          ],
          [
           "PoS"
          ],
          [
           "X11"
          ],
          [
           "Scrypt"
          ],
          [
           "Scrypt"
          ],
          [
           "Scrypt"
          ],
          [
           "SHA-256"
          ],
          [
           "X11"
          ],
          [
           "Scrypt"
          ],
          [
           "PoS"
          ],
          [
           "Scrypt"
          ],
          [
           "X15"
          ],
          [
           "SHA-256"
          ],
          [
           "POS 3.0"
          ],
          [
           "536"
          ],
          [
           "NIST5"
          ],
          [
           "NIST5"
          ],
          [
           "Skein"
          ],
          [
           "X13"
          ],
          [
           "Scrypt"
          ],
          [
           "X13"
          ],
          [
           "SkunkHash v2 Raptor"
          ],
          [
           "Skein"
          ],
          [
           "X11"
          ],
          [
           "Scrypt"
          ],
          [
           "VeChainThor Authority"
          ],
          [
           "PoS"
          ],
          [
           "Scrypt"
          ],
          [
           "Scrypt"
          ],
          [
           "SHA-512"
          ],
          [
           "Ouroboros"
          ],
          [
           "X11"
          ],
          [
           "NeoScrypt"
          ],
          [
           "Scrypt"
          ],
          [
           "Lyra2REv2"
          ],
          [
           "Scrypt"
          ],
          [
           "SHA-256"
          ],
          [
           "NIST5"
          ],
          [
           "PHI1612"
          ],
          [
           "Scrypt"
          ],
          [
           "Quark"
          ],
          [
           "POS 2.0"
          ],
          [
           "Scrypt"
          ],
          [
           "SHA-256"
          ],
          [
           "X11"
          ],
          [
           "DPoS"
          ],
          [
           "NIST5"
          ],
          [
           "X13"
          ],
          [
           "Scrypt"
          ],
          [
           "NIST5"
          ],
          [
           "Quark"
          ],
          [
           "Scrypt"
          ],
          [
           "Scrypt"
          ],
          [
           "X11"
          ],
          [
           "Quark"
          ],
          [
           "Scrypt"
          ],
          [
           "Scrypt"
          ],
          [
           "X11"
          ],
          [
           "POS 3.0"
          ],
          [
           "Ethash"
          ],
          [
           "Scrypt"
          ],
          [
           "Scrypt"
          ],
          [
           "X13"
          ],
          [
           "C11"
          ],
          [
           "X11"
          ],
          [
           "XEVAN"
          ],
          [
           "Scrypt"
          ],
          [
           "VBFT"
          ],
          [
           "NIST5"
          ],
          [
           "Scrypt"
          ],
          [
           "Scrypt"
          ],
          [
           "Scrypt"
          ],
          [
           "Green Protocol"
          ],
          [
           "PoS"
          ],
          [
           "Scrypt"
          ],
          [
           "Semux BFT consensus"
          ],
          [
           "Quark"
          ],
          [
           "PoS"
          ],
          [
           "X16R"
          ],
          [
           "Scrypt"
          ],
          [
           "XEVAN"
          ],
          [
           "Scrypt"
          ],
          [
           "Scrypt"
          ],
          [
           "Scrypt"
          ],
          [
           "SHA-256D"
          ],
          [
           "Scrypt"
          ],
          [
           "X15"
          ],
          [
           "Scrypt"
          ],
          [
           "Quark"
          ],
          [
           "SHA-256"
          ],
          [
           "DPoS"
          ],
          [
           "X16R"
          ],
          [
           "Quark"
          ],
          [
           "Quark"
          ],
          [
           "Scrypt"
          ],
          [
           "Lyra2REv2"
          ],
          [
           "Quark"
          ],
          [
           "Scrypt"
          ],
          [
           "X11"
          ],
          [
           "X11"
          ],
          [
           "Scrypt"
          ],
          [
           "PoS"
          ],
          [
           "Keccak"
          ],
          [
           "X11"
          ],
          [
           "Scrypt"
          ],
          [
           "SHA-512"
          ],
          [
           "ECC 256K1"
          ],
          [
           "XEVAN"
          ],
          [
           "XEVAN"
          ],
          [
           "X11"
          ],
          [
           "Quark"
          ],
          [
           "Scrypt"
          ],
          [
           "Quark"
          ],
          [
           "Quark"
          ],
          [
           "Scrypt"
          ],
          [
           "X11"
          ],
          [
           "Scrypt"
          ],
          [
           "XEVAN"
          ],
          [
           "SHA-256D"
          ],
          [
           "X11"
          ],
          [
           "X11"
          ],
          [
           "DPoS"
          ],
          [
           "Scrypt"
          ],
          [
           "X11"
          ],
          [
           "Scrypt"
          ],
          [
           "Scrypt"
          ],
          [
           "SHA-256"
          ],
          [
           "Scrypt"
          ],
          [
           "X11"
          ],
          [
           "Scrypt"
          ],
          [
           "SHA-256"
          ],
          [
           "X11"
          ],
          [
           "Scrypt"
          ],
          [
           "Scrypt"
          ],
          [
           "X11"
          ],
          [
           "Scrypt"
          ],
          [
           "PoS"
          ],
          [
           "X11"
          ],
          [
           "SHA-256"
          ],
          [
           "DPoS"
          ],
          [
           "Scrypt"
          ],
          [
           "Scrypt"
          ],
          [
           "NeoScrypt"
          ],
          [
           "X13"
          ],
          [
           "DPoS"
          ],
          [
           "DPoS"
          ],
          [
           "SHA-256"
          ],
          [
           "Leased POS"
          ],
          [
           "PoS"
          ],
          [
           "PoS"
          ],
          [
           "SHA-256"
          ],
          [
           "Scrypt"
          ],
          [
           "Scrypt"
          ]
         ],
         "hovertemplate": "<b>%{hovertext}</b><br><br>Class=%{marker.color}<br>PC 1=%{x}<br>PC 2=%{y}<br>PC 3=%{z}<br>Algorithm=%{customdata[0]}<extra></extra>",
         "hovertext": [
          "42 Coin",
          "404Coin",
          "EliteCoin",
          "Dash",
          "Bitshares",
          "BitcoinDark",
          "PayCoin",
          "KoboCoin",
          "Aurora Coin",
          "BlueCoin",
          "EnergyCoin",
          "BitBar",
          "CryptoBullion",
          "CasinoCoin",
          "Diamond",
          "Exclusive Coin",
          "FlutterCoin",
          "HoboNickels",
          "HyperStake",
          "IOCoin",
          "MaxCoin",
          "MintCoin",
          "MazaCoin",
          "Nautilus Coin",
          "NavCoin",
          "OpalCoin",
          "Orbitcoin",
          "PotCoin",
          "PhoenixCoin",
          "Reddcoin",
          "SuperCoin",
          "SyncCoin",
          "TeslaCoin",
          "TittieCoin",
          "TorCoin",
          "UnitaryStatus Dollar",
          "UltraCoin",
          "VeriCoin",
          "X11 Coin",
          "Crypti",
          "StealthCoin",
          "ZCC Coin",
          "StorjCoin",
          "Neutron",
          "FairCoin",
          "RubyCoin",
          "Kore",
          "Dnotes",
          "8BIT Coin",
          "Sativa Coin",
          "Ucoin",
          "Vtorrent",
          "IslaCoin",
          "Nexus",
          "Droidz",
          "Squall Coin",
          "Diggits",
          "Paycon",
          "Emercoin",
          "EverGreenCoin",
          "Decred",
          "EDRCoin",
          "Hitcoin",
          "DubaiCoin",
          "PWR Coin",
          "BillaryCoin",
          "GPU Coin",
          "EuropeCoin",
          "ZeitCoin",
          "SwingCoin",
          "SafeExchangeCoin",
          "Nebuchadnezzar",
          "Ratecoin",
          "Revenu",
          "Clockcoin",
          "VIP Tokens",
          "BitSend",
          "Let it Ride",
          "PutinCoin",
          "iBankCoin",
          "Frankywillcoin",
          "MudraCoin",
          "Lutetium Coin",
          "GoldBlocks",
          "CarterCoin",
          "BitTokens",
          "MustangCoin",
          "ZoneCoin",
          "RootCoin",
          "BitCurrency",
          "Swiscoin",
          "BuzzCoin",
          "Opair",
          "PesoBit",
          "Halloween Coin",
          "CoffeeCoin",
          "RoyalCoin",
          "GanjaCoin V2",
          "TeamUP",
          "LanaCoin",
          "ARK",
          "InsaneCoin",
          "EmberCoin",
          "XenixCoin",
          "FreeCoin",
          "PLNCoin",
          "AquariusCoin",
          "Creatio",
          "Eternity",
          "Eurocoin",
          "BitcoinFast",
          "Stakenet",
          "BitConnect Coin",
          "MoneyCoin",
          "Enigma",
          "Russiacoin",
          "PandaCoin",
          "GameUnits",
          "GAKHcoin",
          "Allsafe",
          "LiteCreed",
          "Klingon Empire Darsek",
          "Internet of People",
          "KushCoin",
          "Printerium",
          "Impeach",
          "Zilbercoin",
          "FirstCoin",
          "FindCoin",
          "OpenChat",
          "RenosCoin",
          "VirtacoinPlus",
          "TajCoin",
          "Impact",
          "Atmos",
          "HappyCoin",
          "MacronCoin",
          "Condensate",
          "Independent Money System",
          "ArgusCoin",
          "LomoCoin",
          "ProCurrency",
          "GoldReserve",
          "GrowthCoin",
          "Phreak",
          "Degas Coin",
          "HTML5 Coin",
          "Ultimate Secure Cash",
          "QTUM",
          "Espers",
          "Denarius",
          "Virta Unique Coin",
          "Bitcoin Planet",
          "BritCoin",
          "Linda",
          "DeepOnion",
          "Signatum",
          "Cream",
          "Monoeci",
          "Draftcoin",
          "Vechain",
          "Stakecoin",
          "CoinonatX",
          "Ethereum Dark",
          "Obsidian",
          "Cardano",
          "Regalcoin",
          "TrezarCoin",
          "TerraNovaCoin",
          "Rupee",
          "WomenCoin",
          "Theresa May Coin",
          "NamoCoin",
          "LUXCoin",
          "Xios",
          "Bitcloud 2.0",
          "KekCoin",
          "BlackholeCoin",
          "Infinity Economics",
          "Magnet",
          "Lamden Tau",
          "Electra",
          "Bitcoin Diamond",
          "Cash & Back Coin",
          "Bulwark",
          "Kalkulus",
          "GermanCoin",
          "LiteCoin Ultra",
          "PhantomX",
          "Digiwage",
          "Trollcoin",
          "Litecoin Plus",
          "Monkey Project",
          "TokenPay",
          "1717 Masonic Commemorative Token",
          "My Big Coin",
          "Unified Society USDEX",
          "Tokyo Coin",
          "Stipend",
          "Pushi",
          "Ellerium",
          "Velox",
          "Ontology",
          "Bitspace",
          "Briacoin",
          "Ignition",
          "MedicCoin",
          "Bitcoin Green",
          "Deviant Coin",
          "Abjcoin",
          "Semux",
          "Carebit",
          "Zealium",
          "Proton",
          "iDealCash",
          "Bitcoin Incognito",
          "HollyWoodCoin",
          "Swisscoin",
          "Xt3ch",
          "TheVig",
          "EmaratCoin",
          "Dekado",
          "Lynx",
          "Poseidon Quark",
          "BitcoinWSpectrum",
          "Muse",
          "Trivechain",
          "Dystem",
          "Giant",
          "Peony Coin",
          "Absolute Coin",
          "Vitae",
          "TPCash",
          "ARENON",
          "EUNO",
          "MMOCoin",
          "Ketan",
          "XDNA",
          "PAXEX",
          "ThunderStake",
          "Kcash",
          "Acute Angle Cloud",
          "Bettex coin",
          "BitMoney",
          "Junson Ming Chan Coin",
          "HerbCoin",
          "Oduwa",
          "Galilel",
          "Crypto Sports",
          "Credit",
          "Dash Platinum",
          "Nasdacoin",
          "Beetle Coin",
          "Titan Coin",
          "Award",
          "Insane Coin",
          "ALAX",
          "LiteDoge",
          "TruckCoin",
          "OrangeCoin",
          "BitstarCoin",
          "NeosCoin",
          "HyperCoin",
          "PinkCoin",
          "AudioCoin",
          "IncaKoin",
          "Piggy Coin",
          "Genstake",
          "XiaoMiCoin",
          "CapriCoin",
          " ClubCoin",
          "Radium",
          "Creditbit ",
          "OKCash",
          "Lisk",
          "HiCoin",
          "WhiteCoin",
          "FriendshipCoin",
          "Triangles Coin",
          "EOS",
          "Oxycoin",
          "TigerCash",
          "Waves",
          "Particl",
          "Nxt",
          "ZEPHYR",
          "Gapcoin",
          "BitcoinPlus"
         ],
         "legendgroup": "1",
         "marker": {
          "color": [
           1,
           1,
           1,
           1,
           1,
           1,
           1,
           1,
           1,
           1,
           1,
           1,
           1,
           1,
           1,
           1,
           1,
           1,
           1,
           1,
           1,
           1,
           1,
           1,
           1,
           1,
           1,
           1,
           1,
           1,
           1,
           1,
           1,
           1,
           1,
           1,
           1,
           1,
           1,
           1,
           1,
           1,
           1,
           1,
           1,
           1,
           1,
           1,
           1,
           1,
           1,
           1,
           1,
           1,
           1,
           1,
           1,
           1,
           1,
           1,
           1,
           1,
           1,
           1,
           1,
           1,
           1,
           1,
           1,
           1,
           1,
           1,
           1,
           1,
           1,
           1,
           1,
           1,
           1,
           1,
           1,
           1,
           1,
           1,
           1,
           1,
           1,
           1,
           1,
           1,
           1,
           1,
           1,
           1,
           1,
           1,
           1,
           1,
           1,
           1,
           1,
           1,
           1,
           1,
           1,
           1,
           1,
           1,
           1,
           1,
           1,
           1,
           1,
           1,
           1,
           1,
           1,
           1,
           1,
           1,
           1,
           1,
           1,
           1,
           1,
           1,
           1,
           1,
           1,
           1,
           1,
           1,
           1,
           1,
           1,
           1,
           1,
           1,
           1,
           1,
           1,
           1,
           1,
           1,
           1,
           1,
           1,
           1,
           1,
           1,
           1,
           1,
           1,
           1,
           1,
           1,
           1,
           1,
           1,
           1,
           1,
           1,
           1,
           1,
           1,
           1,
           1,
           1,
           1,
           1,
           1,
           1,
           1,
           1,
           1,
           1,
           1,
           1,
           1,
           1,
           1,
           1,
           1,
           1,
           1,
           1,
           1,
           1,
           1,
           1,
           1,
           1,
           1,
           1,
           1,
           1,
           1,
           1,
           1,
           1,
           1,
           1,
           1,
           1,
           1,
           1,
           1,
           1,
           1,
           1,
           1,
           1,
           1,
           1,
           1,
           1,
           1,
           1,
           1,
           1,
           1,
           1,
           1,
           1,
           1,
           1,
           1,
           1,
           1,
           1,
           1,
           1,
           1,
           1,
           1,
           1,
           1,
           1,
           1,
           1,
           1,
           1,
           1,
           1,
           1,
           1,
           1,
           1,
           1,
           1,
           1,
           1,
           1,
           1,
           1,
           1,
           1,
           1,
           1,
           1,
           1,
           1,
           1,
           1,
           1,
           1,
           1,
           1,
           1,
           1,
           1,
           1,
           1,
           1,
           1,
           1,
           1,
           1,
           1,
           1,
           1,
           1,
           1,
           1,
           1,
           1,
           1,
           1
          ],
          "coloraxis": "coloraxis",
          "symbol": "circle"
         },
         "mode": "markers",
         "name": "1",
         "scene": "scene",
         "showlegend": true,
         "type": "scatter3d",
         "x": [
          -0.33925874328750333,
          -0.3226027668066919,
          2.306410009475837,
          -0.39079880169437664,
          -0.2587981922937809,
          -0.3056074894984147,
          -0.26365659198228286,
          -0.23059971086105488,
          -0.3389184501354061,
          -0.3314987898900529,
          -0.33775587065958074,
          -0.33925468106399054,
          -0.3392389680620339,
          0.6803413096852653,
          -0.36746121766143514,
          -0.35029340458120894,
          -0.3000298685457277,
          -0.3373182638737808,
          -0.3286790192529666,
          -0.3906935367627677,
          -0.4127817690900331,
          -0.03732458190695648,
          -0.26892789790678345,
          -0.29705903182792204,
          -0.276510025885881,
          -0.277132004610862,
          -0.3486225758120134,
          -0.33356319856216715,
          -0.33766109868943694,
          0.01875023040377285,
          -0.34855826822106867,
          -0.391064966528505,
          -0.24349906849398584,
          -0.3157892180328922,
          -0.3909766410108224,
          -0.3145003252654422,
          -0.33793665066298434,
          -0.29769137894843933,
          -0.3909411292437296,
          -0.24396661296477581,
          -0.27691294911010766,
          -0.33036536480329,
          -0.36494420761307217,
          -0.3048195056265139,
          -0.366882993688407,
          -0.2970392951314271,
          -0.2772073660173605,
          -0.2916954143158374,
          -0.33924081845981263,
          -0.27715956873529407,
          -0.3490029523909689,
          -0.33897530263945147,
          -0.3910465022598647,
          -0.4136758381135895,
          -0.39875599362956393,
          -0.3697213779127688,
          -0.29544144549316187,
          -0.2766813916059181,
          -0.2981671805814754,
          -0.23304018428002063,
          -0.07046695333447418,
          -0.3055784142140671,
          -0.06863964659038713,
          -0.30564208259699643,
          -0.2254591389445687,
          -0.3388512336101778,
          -0.295310565275084,
          -0.388216834875664,
          0.8556531179480521,
          -0.30544222585016845,
          -0.05014915112300405,
          -0.34997679987188235,
          -0.3888903132504599,
          -0.30418627477734167,
          -0.3018554377455871,
          -0.34677288231437925,
          -0.38978219312173923,
          -0.3561381382978898,
          -0.3151568872342759,
          -0.3388893177049238,
          -0.3373289107232244,
          -0.2339513542566407,
          -0.33649851748588616,
          -0.39052061382170633,
          -0.3380938485864209,
          -0.3056230439599514,
          -0.3910356985128555,
          -0.3390784046380764,
          -0.33923505369260143,
          -0.29530009852064787,
          -0.26149728175670034,
          0.04079926265490614,
          -0.3489342769925264,
          -0.3388493534357693,
          -0.37720354030803055,
          -0.34826315720846,
          -0.2353813844323723,
          -0.41417569047267244,
          -0.3480122485514599,
          -0.2736074470825281,
          3.734215065869119,
          -0.3906283984337859,
          0.8545876835911201,
          -0.39099062520222233,
          -0.34939784985944133,
          -0.3387769439183939,
          -0.3389312136469832,
          -0.34997679987188235,
          -0.39056570081943576,
          -0.3054857675364473,
          -0.33877767823024174,
          -0.3755540364264772,
          -0.33892501316622575,
          -0.3345148231049454,
          -0.3910196085950868,
          -0.33813603507814133,
          0.3459667082835466,
          -0.3391242120529485,
          -0.3391947548952676,
          -0.3590008561965699,
          -0.3322614295890245,
          -0.3354230301248071,
          -0.30559946638989194,
          -0.3909295944465655,
          -0.3389726525083769,
          -0.33909955905977707,
          -0.2969458524616816,
          -0.3104515101522933,
          -0.23514932722818177,
          -0.319960410349994,
          -0.296687074284831,
          -0.39019563265139906,
          -0.4138850197411219,
          -0.3889344728234004,
          -0.3482240235353921,
          -0.3900935556865021,
          -0.3426260745462083,
          -0.3860361364197135,
          -0.33904286643512466,
          -0.3390420584262627,
          -0.33216655215685836,
          0.2687926677979969,
          -0.39057184338141965,
          -0.2795948397451653,
          -0.35001108370874073,
          -0.33825386656575723,
          0.9008939837384461,
          -0.2623475315864245,
          -0.35491695710899307,
          0.6098483324401742,
          -0.348307944239921,
          -0.34681075252604576,
          -0.40990629808250173,
          -0.27684478410276236,
          0.12550448595827485,
          -0.27691552765219896,
          -0.350920898377144,
          -0.40941136693138946,
          -0.3908441196998168,
          -0.2970200184147854,
          4.407727436432778,
          -0.349877414916793,
          -0.33867820399205356,
          -0.33917769109628604,
          -0.31683998030919946,
          0.6552305919749736,
          -0.390784973417024,
          -0.3436237615706648,
          -0.3391333254125719,
          -0.3221022068593651,
          0.4296924935375235,
          -0.30394636751513415,
          -0.3330807070451023,
          -0.39326033663234394,
          -0.33908368377303644,
          -0.39933078412941525,
          -0.33580973307572237,
          -0.3389541296490452,
          -0.09020665444844504,
          -0.3895781009200047,
          3.739069190810896,
          0.21097029083179156,
          -0.2735876568524882,
          -0.33641538771509394,
          -0.30618410517442723,
          -0.3588868034110138,
          0.07502600576453718,
          -0.33809301139687375,
          -0.3901590049947809,
          -0.3580518723735419,
          -0.32566355053120805,
          -0.33919981434800656,
          -0.3489748925020653,
          -0.3564199484081483,
          -0.28164320439280593,
          -0.3050597070909722,
          -0.3347467713650753,
          -0.22694829643566905,
          -0.3691821923312852,
          -0.3908613618009601,
          -0.3234289507990519,
          -0.2961803368866353,
          -0.3346037724504162,
          -0.3479070620592823,
          -0.33922715870193826,
          -0.33920887691730733,
          -0.29056393046490053,
          -0.35083244356197013,
          -0.34947202869239924,
          -0.3389254983788661,
          3.920991071747006,
          -0.3979993066005266,
          -0.34966062593258596,
          -0.32464400364214135,
          -0.28581623831786573,
          -0.30223766452443557,
          -0.2967143434829014,
          -0.1424157398680864,
          -0.296966311640108,
          -0.3388967241110051,
          -0.3383997363981563,
          -0.19049672160640466,
          2.237210422887272,
          -0.3545964656499641,
          -0.2624751891924192,
          1.0237101751065114,
          -0.3658682766915977,
          -0.3590002933999685,
          -0.4010142676575444,
          -0.17774542495914983,
          -0.36391799135811015,
          -0.35772031822012185,
          -0.3321066657049745,
          -0.3485524640055052,
          -0.3903348990780156,
          -0.29421285748249654,
          -0.34876078328168286,
          -0.34011418852681685,
          -0.348413902408317,
          -0.1987647773627987,
          -0.27625481109445565,
          -0.34300244148028924,
          -0.2815345772471863,
          0.49454039993169435,
          -0.13900566731735303,
          -0.4003091685608502,
          -0.33892946919885597,
          -0.4007651107939038,
          -0.35911722510829247,
          0.5672316881930359,
          -0.3490291870572011,
          -0.33841259359281317,
          -0.3178867113925092,
          -0.2936342317279128,
          -0.3879005162178402,
          -0.3905620474916602,
          3.7513062482135595,
          0.09583230656184057,
          -0.38810261287381403,
          -0.33779833038181833,
          -0.33862299487234443,
          -0.26368921090978,
          -0.3391411254958406,
          -0.382193086432013,
          -0.2528778942196572,
          -0.08534839691888546,
          -0.37794311262016367,
          -0.33841971793491976,
          -0.33148669672926573,
          -0.38713197104745894,
          -0.3368595143244653,
          -0.35025232577408827,
          -0.3819831075118683,
          -0.30412312165822525,
          3.734606727980066,
          -0.1043223432550334,
          -0.33405536392299806,
          -0.34824858226164496,
          -0.2773145283466731,
          3.7444710572057343,
          3.7457147251832112,
          -0.2445933243105902,
          -0.4073234339176213,
          -0.35018821631243685,
          -0.32939557066970515,
          2.483353079037693,
          -0.33730488100621936,
          -0.2973626256210526
         ],
         "y": [
          1.0833605492904974,
          1.0836414020469232,
          1.7220063429168724,
          1.1985994533225635,
          1.508213499670319,
          0.8051998407779579,
          0.5765497791328833,
          1.921629692568802,
          1.0833623147116411,
          1.0836583012531944,
          1.0834182150300622,
          1.0833603684935402,
          1.083360634712451,
          0.13936381068611065,
          0.9401909810502415,
          1.602708861619342,
          0.4451900585335801,
          1.0833541995648743,
          0.9707316957004872,
          1.1986034923722075,
          2.0421701558493472,
          0.8646797328340569,
          0.8049930025214558,
          0.8547027421375241,
          1.834449992776137,
          1.8344261272502709,
          0.547966817437717,
          1.0832962661920165,
          1.0833558594211838,
          1.097097470018229,
          0.9699689224553819,
          1.198604054357599,
          0.1034704171639569,
          1.526761951450711,
          1.1986007102281615,
          1.0832331168023992,
          1.083343939626054,
          0.36331300295463304,
          1.1986051030729516,
          0.1035198161471377,
          1.834434532481044,
          1.0830284029771087,
          1.5859648675407343,
          0.8051991001196793,
          0.9402161171322142,
          0.8547143948614963,
          1.834415154950624,
          0.8545827472229841,
          1.0833612371002517,
          1.8344183357242048,
          0.9699383920159264,
          1.0833579572652885,
          1.1986047635109771,
          2.2413940919523454,
          1.930292352373358,
          0.8647901263180888,
          0.8547083660550224,
          1.8344097480094974,
          0.8048267542242632,
          1.921754027906208,
          0.8507862187982534,
          0.8052009564060698,
          1.1930971635849614,
          0.8052062573934184,
          1.5451987134351282,
          1.0833479032946407,
          0.8546318725617912,
          1.1984547577129538,
          0.8322781491141188,
          0.8051940610108917,
          0.13682409077423136,
          1.6027075420816568,
          1.1986369930718024,
          0.8051192074093613,
          0.8050050939763523,
          1.540483260731394,
          1.1985596745086493,
          1.4409772927640765,
          1.0829385690401798,
          1.0833448707567175,
          1.0833672588051024,
          1.6056821768007625,
          0.9699892429869079,
          1.1985912726130454,
          1.0833446417722823,
          0.8051999173363775,
          1.1986031578897662,
          1.0833533278199203,
          1.0833614582962434,
          0.8547811284008168,
          0.3438615417479958,
          1.9165337437732797,
          1.6027111810625172,
          1.0833762577404789,
          1.1981258402133703,
          1.6027598274130932,
          1.605760300157165,
          2.052925747795906,
          1.6025937004800466,
          1.9128831678505396,
          1.642809404626596,
          1.1986006046457442,
          1.877278199637302,
          1.1986043127471953,
          1.602709554936881,
          1.0833530837373153,
          1.0833448344346293,
          1.6027075420816568,
          1.198582808728635,
          0.805205858065537,
          1.083356786131966,
          0.6302004828095142,
          1.083354499783403,
          1.0831044284472544,
          1.1986024284888115,
          1.0833066601019652,
          0.8574915840074927,
          1.0833569572798423,
          1.0833607717611264,
          1.4852433142751986,
          0.6130432578686351,
          1.0831710327971686,
          0.8052008220154051,
          1.1986029504288804,
          1.0833580589516794,
          1.083351887622487,
          0.8546809439380288,
          0.41219383553160355,
          1.6057611069583502,
          1.0834276444618476,
          0.8547047273440623,
          1.1985700728379372,
          1.8635641447226732,
          1.198611730068855,
          1.6027139964418373,
          1.1985739895642624,
          1.6027337042991796,
          1.1984603187944414,
          1.0833545485925493,
          1.0833496046858282,
          1.082959290832835,
          0.5464843352840805,
          1.1985960407998373,
          0.8540369679551602,
          1.6026994927180402,
          1.083328401007921,
          1.9046762244460107,
          0.57647369122557,
          1.4409793695702868,
          1.9914178032892496,
          1.540478230959514,
          1.540461605994109,
          1.9608665156237521,
          1.834416946349581,
          1.0675242572512043,
          1.8344217077256586,
          1.4496274915218943,
          1.9608855062929083,
          1.1986061269118213,
          0.8547034135942447,
          2.7402700868699563,
          1.6026833425905904,
          1.0833503324745275,
          1.0833608310874172,
          1.5083494587254065,
          1.481052823366237,
          1.198596616977235,
          0.5478918069724732,
          1.0833547670031776,
          0.6691174246521633,
          1.096030754112975,
          0.8052110542915629,
          1.5402611730841547,
          1.755563877343584,
          1.0833531252577964,
          1.7138373934271396,
          1.359140904307636,
          1.0833622791930808,
          0.5771530334859468,
          1.1985641386519488,
          1.6427431384166378,
          1.5417430075735765,
          1.8344207135112562,
          1.083328238281723,
          1.3118164781241253,
          1.4852443235768304,
          1.0655873815569996,
          1.0833042706056104,
          1.1986051476612838,
          1.4852090213356401,
          1.0832761519356704,
          1.08336011688869,
          0.9699387952948196,
          1.440972203417941,
          -0.04479801688193366,
          0.4812227527010236,
          1.0833774490938628,
          1.605546853506789,
          0.953454354681705,
          1.1985950327064419,
          1.647090139700406,
          0.854663853236099,
          1.5639442785798212,
          1.5404666774124967,
          1.0833597410651061,
          1.0833590957667953,
          0.8546261626261591,
          1.3967817195174104,
          1.6026811199206727,
          1.0833531343893064,
          1.6629889737774046,
          1.7138884826527498,
          1.6026792704885802,
          0.692527952336771,
          1.081962094273343,
          1.3132966292356092,
          0.8547093552695901,
          1.0840449200641276,
          0.8546875661825182,
          1.9153651098180124,
          1.0833369450865007,
          1.693077409818391,
          0.45224448304980747,
          1.4849847106873733,
          0.5765360119117809,
          1.5539995405759246,
          0.9211870085745679,
          1.4852392955408962,
          1.7139040066274949,
          0.8479249472121066,
          0.8977598762524992,
          1.4852352109395883,
          1.0829615886954616,
          0.969932108815939,
          1.198598398548132,
          0.8546477652699543,
          1.6026262572821444,
          1.0513353297855725,
          0.9699071230020357,
          1.0766303614900632,
          1.603382384081634,
          2.253476135495404,
          1.4184382459065312,
          1.6762349136153025,
          0.9780095238718668,
          1.7138981671705658,
          1.0833590425211383,
          1.7139042168633476,
          1.4852399467849366,
          1.0677734470996176,
          0.9699375873997043,
          1.0833364517517627,
          1.6470065064354162,
          1.913802244355305,
          1.1984426529887369,
          1.1986031505529626,
          1.6428759842045555,
          1.0764865485588107,
          1.198717721503698,
          1.0832819082036955,
          1.083348407763721,
          0.5765428037346282,
          1.0833650623516866,
          1.1986077778717392,
          1.0796044348439042,
          0.8135381245486922,
          1.1984341566658943,
          1.0833826421718327,
          1.0833894100056607,
          1.1986149006077607,
          1.083344866407604,
          1.6027043773330387,
          0.3405704100638429,
          0.8052009052368089,
          1.642800919191807,
          0.8553691754888474,
          1.0833581882269452,
          0.5479431898484426,
          1.834419042948614,
          1.6432871038687624,
          1.6433348238133407,
          0.5766162720973455,
          2.398448703427472,
          1.6027070835997161,
          1.9905289855515265,
          0.6654939819370506,
          1.083267172608389,
          0.8547013151773382
         ],
         "z": [
          -0.5182657407386818,
          -0.5185147338923916,
          -0.5963977742506269,
          -0.4883425080654573,
          0.05441826042120785,
          -0.3626744962517007,
          -0.07542060716931136,
          -0.6139932748321011,
          -0.5182702284975113,
          -0.5184069263724632,
          -0.5182930842084548,
          -0.5182657638546747,
          -0.518265998942222,
          -0.31322947498671455,
          -0.42286889876357114,
          -0.03450194536593828,
          -0.33654820523276263,
          -0.5182888548261723,
          -0.20145684429448238,
          -0.48834442326969424,
          -0.6050973862062925,
          -0.23574105677827967,
          -0.3630983089344828,
          -0.23101376968535864,
          -0.581320422324109,
          -0.5813091059600365,
          -0.31120133436056896,
          -0.5183266968398401,
          -0.5182848523077888,
          -0.5247794038712932,
          -0.20109515858116722,
          -0.4883399003893729,
          0.10657879380143653,
          -0.2417335024968021,
          -0.48834049155902276,
          -0.5185536485950388,
          -0.5182796356907001,
          -0.26200929462109235,
          -0.4883415948370602,
          0.1065771409858379,
          -0.5813130914851018,
          -0.5183259542379709,
          -0.11730355094670333,
          -0.36268415961979505,
          -0.4228798640287777,
          -0.23101577256549383,
          -0.5813065156986673,
          -0.23106220293643567,
          -0.5182660668696594,
          -0.581307588516451,
          -0.20108503606149086,
          -0.5182688658235499,
          -0.48834023643233854,
          -0.4777094681174408,
          -0.6175185208784426,
          -0.08400567515522714,
          -0.23103468467321914,
          -0.5813122247821872,
          -0.3627105074688454,
          -0.6139817586558414,
          -0.4360434136858469,
          -0.3626750252513113,
          -0.49150883389057376,
          -0.36267503518919403,
          -0.5746716597611959,
          -0.5182688880879701,
          -0.23102476772585012,
          -0.48835270775134987,
          -0.24193022404614561,
          -0.36267567439181364,
          -0.30378441569629905,
          -0.034505673837905704,
          -0.4883718468867763,
          -0.36267996160240346,
          -0.36269165989040236,
          -0.5724553178523185,
          -0.4883491179005546,
          -0.047330440903720176,
          -0.5185010654899861,
          -0.5182679581286412,
          -0.5182906929924112,
          -0.29405630725946563,
          -0.20124782815718661,
          -0.4883447248257844,
          -0.5182777915488864,
          -0.3626743148455703,
          -0.4883401282156899,
          -0.518266888378182,
          -0.5182661717546049,
          -0.23104741574113782,
          -0.31272999433138504,
          -0.5806170336483933,
          -0.034519155572153036,
          -0.5182731892366407,
          -0.4884397063996412,
          -0.034534820215535694,
          -0.29405035386652906,
          -0.6702706877626425,
          -0.03451286928326876,
          -0.5761659891520934,
          -0.1117319847809303,
          -0.4883447956545835,
          -0.6018134105142136,
          -0.48834086159280027,
          -0.03451315951716835,
          -0.5182705912391783,
          -0.5182674329204883,
          -0.034505673837905704,
          -0.48834288856869984,
          -0.3626769140649935,
          -0.5182711407087846,
          -0.384008680041843,
          -0.5182689680463728,
          -0.5182859492416626,
          -0.48834021777016057,
          -0.5182715379358259,
          -0.23941139507177464,
          -0.518266867702528,
          -0.5182665680926334,
          -0.22201014719367987,
          -0.23576179582834728,
          -0.5182847313099913,
          -0.3626747438190321,
          -0.48834141316011115,
          -0.5182689140403893,
          -0.5182664086709386,
          -0.23101188501370698,
          -0.22614124038248126,
          -0.2940533543083008,
          -0.5185152633702969,
          -0.23101868340677226,
          -0.48834555788554057,
          -0.6267511873350973,
          -0.4883674876578305,
          -0.03452839117565375,
          -0.4883474150874861,
          -0.03460080826479698,
          -0.48838059878723067,
          -0.518267513414814,
          -0.5182667775529709,
          -0.5182931831944649,
          -0.07748979345248891,
          -0.48834480868654645,
          -0.2311299716747916,
          -0.03450403413497373,
          -0.5182733562530475,
          -0.6254719362308645,
          -0.07542536699332401,
          -0.04734590324835984,
          -0.5269220186995586,
          -0.5724355162361918,
          -0.5724515810219631,
          -0.6820745349987274,
          -0.5813112838736973,
          -0.5216420139662153,
          -0.5813111246316521,
          -0.194651397180512,
          -0.6820835398422561,
          -0.488342952727694,
          -0.23101435495764067,
          2.9669189953441513,
          -0.034503255761623115,
          -0.5182714010473984,
          -0.5182667887232982,
          0.0551177693052468,
          -0.062474320442030246,
          -0.4883422516898732,
          -0.3112520289350415,
          -0.5182664242030983,
          -0.09291875606050311,
          -0.5297162967931014,
          -0.362696794609015,
          -0.5725916659771584,
          -0.5285696672309146,
          -0.5182667923288945,
          -0.5092756986976013,
          -0.03649383711580966,
          -0.5182697805267298,
          -0.07766330404510635,
          -0.4883523232122474,
          -0.11178220369578504,
          -0.5795643004899675,
          -0.5813522575943545,
          -0.5182961384317216,
          -0.28518200868571736,
          -0.2220117143161974,
          -0.5207236017492737,
          -0.5182717111515023,
          -0.48835130398512366,
          -0.22201674578090783,
          -0.5184216590576112,
          -0.5182664065286632,
          -0.20108544499303876,
          -0.047326177160386354,
          0.06933439187045766,
          -0.2935303884200126,
          -0.5183242623965807,
          -0.2941227655364484,
          -0.3448672184929667,
          -0.4883410650570478,
          -0.28206262338228266,
          -0.23101880293269725,
          -0.2287762901164529,
          -0.5724387461872968,
          -0.5182660106156544,
          -0.5182661400492439,
          -0.23108278930488374,
          -0.010749515951129251,
          -0.034507949332327335,
          -0.518268756030705,
          -0.07238763675553136,
          -0.5092999237777627,
          -0.03450533071950251,
          -0.12165663928848244,
          -0.5187177222221451,
          0.12227041080355178,
          -0.23101904333985582,
          -0.5208108716775758,
          -0.2310126303087221,
          -0.5757305111636006,
          -0.518272835748079,
          -0.32673121391218346,
          -0.36942010502475886,
          -0.22202576918709435,
          -0.07543318567177056,
          -0.11020898483907336,
          -0.40892089931592684,
          -0.22200954787034408,
          -0.5092648646278628,
          -0.23147131747128158,
          -0.38017317312457555,
          -0.22202480999794033,
          -0.5182942727765768,
          -0.2010896765236287,
          -0.48834810374465887,
          -0.23104078275620385,
          -0.034508495380123023,
          -0.333417649778039,
          -0.2010876258098598,
          -0.5189932179443342,
          0.35691769080138575,
          6.854964252948202,
          0.005192243307757923,
          0.3407526443381652,
          -0.20490778661638628,
          -0.5092727305384773,
          -0.5182695981294739,
          -0.5092679871910316,
          -0.222008195560073,
          -0.5271593309499705,
          -0.20108458922261277,
          -0.5182726018225606,
          -0.28211875834526895,
          -0.5760562132729873,
          -0.48835480551770455,
          -0.4883460028524951,
          -0.11195404944307666,
          -0.5226260616981789,
          -0.4883937979493868,
          -0.518271992926183,
          -0.5182717955481062,
          -0.0754191501486961,
          -0.5182678806967737,
          -0.4884505197524713,
          -0.5187706303273788,
          -0.3666648518656805,
          -0.4884770474331463,
          -0.5182794821750489,
          -0.5183665088682292,
          -0.4883903264215518,
          -0.5182931376239196,
          -0.034501778414848853,
          -0.22648890044573378,
          -0.36269307075139545,
          -0.11173556324002128,
          -0.2335052546852291,
          -0.5183299335761149,
          -0.3112024091461153,
          -0.5813057729075276,
          -0.11193128288615195,
          -0.11195391034759576,
          -0.07566712291056439,
          6.187200313955294,
          -0.03450298200008049,
          0.28311805727521844,
          -0.0774167244700246,
          -0.518275891118988,
          -0.23100978825351884
         ]
        },
        {
         "customdata": [
          [
           "SHA-256"
          ],
          [
           "Ethash"
          ],
          [
           "Scrypt"
          ],
          [
           "CryptoNight-V7"
          ],
          [
           "Ethash"
          ],
          [
           "Equihash"
          ],
          [
           "Multiple"
          ],
          [
           "Scrypt"
          ],
          [
           "X11"
          ],
          [
           "Scrypt"
          ],
          [
           "Multiple"
          ],
          [
           "Scrypt"
          ],
          [
           "SHA-256"
          ],
          [
           "Scrypt"
          ],
          [
           "Scrypt"
          ],
          [
           "Quark"
          ],
          [
           "Groestl"
          ],
          [
           "Scrypt"
          ],
          [
           "Scrypt"
          ],
          [
           "Scrypt"
          ],
          [
           "X11"
          ],
          [
           "Multiple"
          ],
          [
           "SHA-256"
          ],
          [
           "Scrypt"
          ],
          [
           "Scrypt"
          ],
          [
           "Scrypt"
          ],
          [
           "Scrypt"
          ],
          [
           "Scrypt"
          ],
          [
           "NeoScrypt"
          ],
          [
           "Scrypt"
          ],
          [
           "Scrypt"
          ],
          [
           "Scrypt"
          ],
          [
           "Scrypt"
          ],
          [
           "SHA-256"
          ],
          [
           "Scrypt"
          ],
          [
           "Scrypt"
          ],
          [
           "Scrypt"
          ],
          [
           "Scrypt"
          ],
          [
           "HybridScryptHash256"
          ],
          [
           "Scrypt"
          ],
          [
           "Scrypt"
          ],
          [
           "SHA-256"
          ],
          [
           "Scrypt"
          ],
          [
           "Scrypt"
          ],
          [
           "Scrypt"
          ],
          [
           "Scrypt"
          ],
          [
           "SHA-256"
          ],
          [
           "SHA-256"
          ],
          [
           "SHA-256"
          ],
          [
           "SHA-256"
          ],
          [
           "SHA-256"
          ],
          [
           "X11"
          ],
          [
           "Scrypt"
          ],
          [
           "Lyra2REv2"
          ],
          [
           "Scrypt"
          ],
          [
           "SHA-256"
          ],
          [
           "CryptoNight"
          ],
          [
           "CryptoNight"
          ],
          [
           "Shabal256"
          ],
          [
           "Scrypt"
          ],
          [
           "Scrypt"
          ],
          [
           "Scrypt"
          ],
          [
           "Scrypt"
          ],
          [
           "Scrypt"
          ],
          [
           "Scrypt"
          ],
          [
           "Stanford Folding"
          ],
          [
           "Multiple"
          ],
          [
           "QuBit"
          ],
          [
           "Scrypt"
          ],
          [
           "Scrypt"
          ],
          [
           "M7 POW"
          ],
          [
           "Scrypt"
          ],
          [
           "SHA-256"
          ],
          [
           "Scrypt"
          ],
          [
           "X11"
          ],
          [
           "Lyra2RE"
          ],
          [
           "SHA-256"
          ],
          [
           "X11"
          ],
          [
           "Scrypt"
          ],
          [
           "Scrypt"
          ],
          [
           "Ethash"
          ],
          [
           "Blake2b"
          ],
          [
           "X11"
          ],
          [
           "SHA-256"
          ],
          [
           "Scrypt"
          ],
          [
           "1GB AES Pattern Search"
          ],
          [
           "Scrypt"
          ],
          [
           "SHA-256"
          ],
          [
           "X11"
          ],
          [
           "Dagger"
          ],
          [
           "Scrypt"
          ],
          [
           "X11GOST"
          ],
          [
           "Scrypt"
          ],
          [
           "X11"
          ],
          [
           "Scrypt"
          ],
          [
           "X11"
          ],
          [
           "Equihash"
          ],
          [
           "CryptoNight"
          ],
          [
           "SHA-256"
          ],
          [
           "Multiple"
          ],
          [
           "Scrypt"
          ],
          [
           "SHA-256"
          ],
          [
           "Scrypt"
          ],
          [
           "Lyra2Z"
          ],
          [
           "Ethash"
          ],
          [
           "Equihash"
          ],
          [
           "Scrypt"
          ],
          [
           "X11"
          ],
          [
           "X11"
          ],
          [
           "CryptoNight"
          ],
          [
           "Scrypt"
          ],
          [
           "CryptoNight"
          ],
          [
           "Lyra2RE"
          ],
          [
           "X11"
          ],
          [
           "CryptoNight-V7"
          ],
          [
           "Scrypt"
          ],
          [
           "X11"
          ],
          [
           "Equihash"
          ],
          [
           "Scrypt"
          ],
          [
           "Lyra2RE"
          ],
          [
           "Dagger-Hashimoto"
          ],
          [
           "Scrypt"
          ],
          [
           "NIST5"
          ],
          [
           "Scrypt"
          ],
          [
           "SHA-256"
          ],
          [
           "Scrypt"
          ],
          [
           "CryptoNight-V7"
          ],
          [
           "Argon2d"
          ],
          [
           "Blake2b"
          ],
          [
           "Cloverhash"
          ],
          [
           "CryptoNight"
          ],
          [
           "X11"
          ],
          [
           "Scrypt"
          ],
          [
           "Scrypt"
          ],
          [
           "X11"
          ],
          [
           "X11"
          ],
          [
           "CryptoNight"
          ],
          [
           "Time Travel"
          ],
          [
           "Scrypt"
          ],
          [
           "Keccak"
          ],
          [
           "X11"
          ],
          [
           "SHA-256"
          ],
          [
           "Scrypt"
          ],
          [
           "Scrypt"
          ],
          [
           "Scrypt"
          ],
          [
           "Scrypt"
          ],
          [
           "Scrypt"
          ],
          [
           "Scrypt"
          ],
          [
           "CryptoNight"
          ],
          [
           "Equihash"
          ],
          [
           "X11"
          ],
          [
           "NeoScrypt"
          ],
          [
           "Equihash"
          ],
          [
           "Dagger"
          ],
          [
           "Scrypt"
          ],
          [
           "X11"
          ],
          [
           "NeoScrypt"
          ],
          [
           "Ethash"
          ],
          [
           "NeoScrypt"
          ],
          [
           "Multiple"
          ],
          [
           "CryptoNight"
          ],
          [
           "CryptoNight"
          ],
          [
           "Ethash"
          ],
          [
           "X11"
          ],
          [
           "CryptoNight-V7"
          ],
          [
           "Scrypt"
          ],
          [
           "BLAKE256"
          ],
          [
           "X11"
          ],
          [
           "NeoScrypt"
          ],
          [
           "NeoScrypt"
          ],
          [
           "Scrypt"
          ],
          [
           "X11"
          ],
          [
           "SHA-256"
          ],
          [
           "C11"
          ],
          [
           "CryptoNight"
          ],
          [
           "SkunkHash"
          ],
          [
           "CryptoNight"
          ],
          [
           "Scrypt"
          ],
          [
           "Dagger"
          ],
          [
           "Lyra2REv2"
          ],
          [
           "Scrypt"
          ],
          [
           "Scrypt"
          ],
          [
           "X11"
          ],
          [
           "Ethash"
          ],
          [
           "CryptoNight"
          ],
          [
           "Scrypt"
          ],
          [
           "IMesh"
          ],
          [
           "Equihash"
          ],
          [
           "Lyra2Z"
          ],
          [
           "X11"
          ],
          [
           "CryptoNight"
          ],
          [
           "NIST5"
          ],
          [
           "Lyra2RE"
          ],
          [
           "Tribus"
          ],
          [
           "Lyra2Z"
          ],
          [
           "CryptoNight"
          ],
          [
           "CryptoNight Heavy"
          ],
          [
           "CryptoNight"
          ],
          [
           "Jump Consistent Hash"
          ],
          [
           "CryptoNight"
          ],
          [
           "X16R"
          ],
          [
           "HMQ1725"
          ],
          [
           "X11"
          ],
          [
           "Scrypt"
          ],
          [
           "CryptoNight-V7"
          ],
          [
           "Cryptonight-GPU"
          ],
          [
           "XEVAN"
          ],
          [
           "CryptoNight Heavy"
          ],
          [
           "SHA-256"
          ],
          [
           "X11"
          ],
          [
           "X16R"
          ],
          [
           "Equihash"
          ],
          [
           "Lyra2Z"
          ],
          [
           "SHA-256"
          ],
          [
           "CryptoNight"
          ],
          [
           "Blake"
          ],
          [
           "Blake"
          ],
          [
           "Equihash"
          ],
          [
           "Exosis"
          ],
          [
           "Scrypt"
          ],
          [
           "Equihash"
          ],
          [
           "Equihash"
          ],
          [
           "QuBit"
          ],
          [
           "SHA-256"
          ],
          [
           "X13"
          ],
          [
           "SHA-256"
          ],
          [
           "Scrypt"
          ],
          [
           "NeoScrypt"
          ],
          [
           "Blake"
          ],
          [
           "Scrypt"
          ],
          [
           "SHA-256"
          ],
          [
           "Scrypt"
          ],
          [
           "Groestl"
          ],
          [
           "Scrypt"
          ],
          [
           "Scrypt"
          ],
          [
           "Multiple"
          ],
          [
           "Equihash+Scrypt"
          ],
          [
           "Ethash"
          ],
          [
           "CryptoNight"
          ],
          [
           "Equihash"
          ]
         ],
         "hovertemplate": "<b>%{hovertext}</b><br><br>Class=%{marker.color}<br>PC 1=%{x}<br>PC 2=%{y}<br>PC 3=%{z}<br>Algorithm=%{customdata[0]}<extra></extra>",
         "hovertext": [
          "Bitcoin",
          "Ethereum",
          "Litecoin",
          "Monero",
          "Ethereum Classic",
          "ZCash",
          "DigiByte",
          "ProsperCoin",
          "Spreadcoin",
          "Argentum",
          "MyriadCoin",
          "MoonCoin",
          "ZetaCoin",
          "SexCoin",
          "Quatloo",
          "QuarkCoin",
          "Riecoin",
          "Digitalcoin ",
          "Catcoin",
          "CannaCoin",
          "CryptCoin",
          "Verge",
          "DevCoin",
          "EarthCoin",
          "E-Gulden",
          "Einsteinium",
          "Emerald",
          "Franko",
          "FeatherCoin",
          "GrandCoin",
          "GlobalCoin",
          "GoldCoin",
          "Infinite Coin",
          "IXcoin",
          "KrugerCoin",
          "LuckyCoin",
          "Litebar ",
          "MegaCoin",
          "MediterraneanCoin",
          "MinCoin",
          "NobleCoin",
          "Namecoin",
          "NyanCoin",
          "RonPaulCoin",
          "StableCoin",
          "SmartCoin",
          "SysCoin",
          "TigerCoin",
          "TerraCoin",
          "UnbreakableCoin",
          "Unobtanium",
          "UroCoin",
          "ViaCoin",
          "Vertcoin",
          "WorldCoin",
          "JouleCoin",
          "ByteCoin",
          "DigitalNote ",
          "BurstCoin",
          "MonaCoin",
          "Gulden",
          "PesetaCoin",
          "Wild Beast Coin",
          "Flo",
          "ArtByte",
          "Folding Coin",
          "Unitus",
          "CypherPunkCoin",
          "OmniCron",
          "GreenCoin",
          "Cryptonite",
          "MasterCoin",
          "SoonCoin",
          "1Credit",
          "MarsCoin ",
          "Crypto",
          "Anarchists Prime",
          "BowsCoin",
          "Song Coin",
          "BitZeny",
          "Expanse",
          "Siacoin",
          "MindCoin",
          "I0coin",
          "Revolution VR",
          "HOdlcoin",
          "Gamecredits",
          "CarpeDiemCoin",
          "Adzcoin",
          "SoilCoin",
          "YoCoin",
          "SibCoin",
          "Francs",
          "BolivarCoin",
          "Omni",
          "PizzaCoin",
          "Komodo",
          "Karbo",
          "ZayedCoin",
          "Circuits of Value",
          "DopeCoin",
          "DollarCoin",
          "Shilling",
          "ZCoin",
          "Elementrem",
          "ZClassic",
          "KiloCoin",
          "ArtexCoin",
          "Kurrent",
          "Cannabis Industry Coin",
          "OsmiumCoin",
          "Bikercoins",
          "HexxCoin",
          "PacCoin",
          "Citadel",
          "BeaverCoin",
          "VaultCoin",
          "Zero",
          "Canada eCoin",
          "Zoin",
          "DubaiCoin",
          "EB3coin",
          "Coinonat",
          "BenjiRolls",
          "ILCoin",
          "EquiTrader",
          "Quantum Resistant Ledger",
          "Dynamic",
          "Nano",
          "ChanCoin",
          "Dinastycoin",
          "DigitalPrice",
          "Unify",
          "SocialCoin",
          "ArcticCoin",
          "DAS",
          "LeviarCoin",
          "Bitcore",
          "gCn Coin",
          "SmartCash",
          "Onix",
          "Bitcoin Cash",
          "Sojourn Coin",
          "NewYorkCoin",
          "FrazCoin",
          "Kronecoin",
          "AdCoin",
          "Linx",
          "Sumokoin",
          "BitcoinZ",
          "Elements",
          "VIVO Coin",
          "Bitcoin Gold",
          "Pirl",
          "eBoost",
          "Pura",
          "Innova",
          "Ellaism",
          "GoByte",
          "SHIELD",
          "UltraNote",
          "BitCoal",
          "DaxxCoin",
          "AC3",
          "Lethean",
          "PopularCoin",
          "Photon",
          "Sucre",
          "SparksPay",
          "GunCoin",
          "IrishCoin",
          "Pioneer Coin",
          "UnitedBitcoin",
          "Interzone",
          "TurtleCoin",
          "MUNcoin",
          "Niobio Cash",
          "ShareChain",
          "Travelflex",
          "KREDS",
          "BitFlip",
          "LottoCoin",
          "Crypto Improvement Fund",
          "Callisto Network",
          "BitTube",
          "Poseidon",
          "Aidos Kuneen",
          "Bitrolium",
          "Alpenschillling",
          "FuturoCoin",
          "Monero Classic",
          "Jumpcoin",
          "Infinex",
          "KEYCO",
          "GINcoin",
          "PlatinCoin",
          "Loki",
          "Newton Coin",
          "MassGrid",
          "PluraCoin",
          "Motion",
          "PlusOneCoin",
          "Axe",
          "HexCoin",
          "Webchain",
          "Ryo",
          "Urals Coin",
          "Qwertycoin",
          "Project Pai",
          "Azart",
          "Xchange",
          "CrypticCoin",
          "Actinium",
          "Bitcoin SV",
          "FREDEnergy",
          "Universal Molecule",
          "Lithium",
          "PirateCash",
          "Exosis",
          "Block-Logic",
          "Beam",
          "Bithereum",
          "SLICE",
          "BLAST",
          "Bitcoin Rhodium",
          "GlobalToken",
          "SolarCoin",
          "UFO Coin",
          "BlakeCoin",
          "Crypto Escudo",
          "Crown Coin",
          "SmileyCoin",
          "Groestlcoin",
          "Bata",
          "Pakcoin",
          "JoinCoin",
          "Vollar",
          "Reality Clash",
          "Beldex",
          "Horizen"
         ],
         "legendgroup": "0",
         "marker": {
          "color": [
           0,
           0,
           0,
           0,
           0,
           0,
           0,
           0,
           0,
           0,
           0,
           0,
           0,
           0,
           0,
           0,
           0,
           0,
           0,
           0,
           0,
           0,
           0,
           0,
           0,
           0,
           0,
           0,
           0,
           0,
           0,
           0,
           0,
           0,
           0,
           0,
           0,
           0,
           0,
           0,
           0,
           0,
           0,
           0,
           0,
           0,
           0,
           0,
           0,
           0,
           0,
           0,
           0,
           0,
           0,
           0,
           0,
           0,
           0,
           0,
           0,
           0,
           0,
           0,
           0,
           0,
           0,
           0,
           0,
           0,
           0,
           0,
           0,
           0,
           0,
           0,
           0,
           0,
           0,
           0,
           0,
           0,
           0,
           0,
           0,
           0,
           0,
           0,
           0,
           0,
           0,
           0,
           0,
           0,
           0,
           0,
           0,
           0,
           0,
           0,
           0,
           0,
           0,
           0,
           0,
           0,
           0,
           0,
           0,
           0,
           0,
           0,
           0,
           0,
           0,
           0,
           0,
           0,
           0,
           0,
           0,
           0,
           0,
           0,
           0,
           0,
           0,
           0,
           0,
           0,
           0,
           0,
           0,
           0,
           0,
           0,
           0,
           0,
           0,
           0,
           0,
           0,
           0,
           0,
           0,
           0,
           0,
           0,
           0,
           0,
           0,
           0,
           0,
           0,
           0,
           0,
           0,
           0,
           0,
           0,
           0,
           0,
           0,
           0,
           0,
           0,
           0,
           0,
           0,
           0,
           0,
           0,
           0,
           0,
           0,
           0,
           0,
           0,
           0,
           0,
           0,
           0,
           0,
           0,
           0,
           0,
           0,
           0,
           0,
           0,
           0,
           0,
           0,
           0,
           0,
           0,
           0,
           0,
           0,
           0,
           0,
           0,
           0,
           0,
           0,
           0,
           0,
           0,
           0,
           0,
           0,
           0,
           0,
           0,
           0,
           0,
           0,
           0,
           0,
           0,
           0,
           0,
           0,
           0,
           0,
           0,
           0,
           0,
           0,
           0,
           0,
           0,
           0,
           0,
           0,
           0,
           0,
           0,
           0,
           0
          ],
          "coloraxis": "coloraxis",
          "symbol": "diamond"
         },
         "mode": "markers",
         "name": "0",
         "scene": "scene",
         "showlegend": true,
         "type": "scatter3d",
         "x": [
          -0.13913402846530087,
          -0.15596947262260502,
          -0.17161630610540496,
          -0.14683516784814313,
          -0.15441208422827774,
          -0.14636770702928537,
          0.16730543119205224,
          -0.1727621363485787,
          -0.22450974704069498,
          -0.17237881849013403,
          -0.0860083959668106,
          2.5480755666983623,
          -0.13622000305870777,
          -0.16963520786401645,
          -0.17218292438665123,
          -0.22992566279982363,
          -0.20005492321053123,
          -0.17223166570792517,
          -0.17274440847982647,
          -0.17283083207205022,
          -0.22459905809381958,
          0.19104758158436946,
          0.23857703719608572,
          0.07581033261955812,
          -0.1725772164289062,
          -0.16818411523271448,
          -0.17251653384817608,
          -0.17288781491913402,
          -0.17748202187071832,
          -0.1521176630489854,
          -0.1716833506307151,
          -0.17196070321463908,
          1.5753957841997985,
          -0.1390954112124232,
          -0.16925107736823178,
          -0.17260364866528394,
          -0.17295833544121839,
          -0.17221785089530653,
          -0.1491597540327097,
          -0.17283964493529674,
          -0.03779511257776185,
          -0.13917299500069097,
          -0.16650582524029256,
          -0.17281909613625202,
          -0.17091414492538506,
          -0.17230602352538568,
          -0.12632971765673184,
          -0.13863695433786147,
          -0.13892405902659383,
          -0.13890705917526014,
          -0.13949754226719557,
          -0.22477288810393148,
          -0.172535683773831,
          -0.19695529877251683,
          -0.16963992399839076,
          -0.1387042254245639,
          3.860895020759438,
          0.4610789743391544,
          0.0700680775563552,
          -0.1714036885644083,
          -0.1560082851973271,
          -0.170122963017251,
          -0.17296054430616803,
          -0.16998804733997872,
          -0.15621664097398003,
          -0.12481031171065338,
          -0.12000276728487608,
          -0.16683412100503603,
          -0.17283366586253324,
          -0.04581790705843473,
          -0.12904916767548408,
          -0.1729694332894082,
          -0.13920076296579106,
          0.478939584279181,
          -0.22416029338057727,
          -0.15291072114348506,
          -0.13894072293703918,
          -0.22444509115413516,
          -0.1710939139828511,
          -0.17028644370713514,
          -0.15703656793125104,
          0.3529445226030726,
          -0.2244804744744747,
          -0.1390965331777013,
          -0.1689287380955147,
          -0.1490001164215888,
          -0.17153330120623447,
          0.2792378358198431,
          -0.2236415024034076,
          -0.1432675923122203,
          -0.1717806637847845,
          -0.1668177246531593,
          -0.17275942213404738,
          -0.22444373288680733,
          -0.1729694917633594,
          -0.22459365246351862,
          -0.24444482419742844,
          0.30603954625914875,
          -0.13935652591962336,
          -0.10008239616102087,
          -0.17013722812529075,
          -0.13931517003147995,
          -0.17263301518089316,
          -0.1461626730132348,
          -0.15677881581062264,
          -0.14638931667832555,
          -0.09972329052039237,
          -0.21118169686937535,
          -0.22242260219607332,
          0.30603390906453776,
          -0.17295123645190477,
          0.30616457913712086,
          -0.15345096525901644,
          0.4903787078695054,
          -0.1456003465593055,
          -0.17291953463119147,
          -0.2173304705077848,
          -0.14640168613245058,
          -0.17105346714426928,
          -0.15316944488480994,
          -0.15791311820035622,
          -0.14385428803537498,
          -0.18168684629276016,
          -0.17248207083009293,
          -0.1056938936500196,
          -0.17230420697435012,
          -0.14545810850838248,
          -0.1505597679885995,
          -0.047221549415435764,
          -0.1605894058698392,
          0.3421429889205379,
          -0.2236498976165252,
          -0.17262334405040267,
          -0.17238682159676078,
          -0.22404443111351371,
          -0.2246216737169094,
          0.30642875199663666,
          -0.15331976986082527,
          3.235505052313763,
          -0.11368921348643188,
          -0.2154972348125544,
          -0.1391331929686693,
          -0.09857156154829373,
          1.5734515184651454,
          -0.1727211582994225,
          -0.17217300745890937,
          -0.17187408962700848,
          -0.1718610250260032,
          0.306612288946275,
          0.06584590410802586,
          -0.17902473405273436,
          -0.18216906525864834,
          -0.14624779124408308,
          -0.1420271493626559,
          -0.17105167691203926,
          -0.22016772252543815,
          -0.18201453529881662,
          -0.15514465110297396,
          -0.1821147022980572,
          -0.11023811731837546,
          1.143664834035002,
          0.30601668710152796,
          -0.0800624213137619,
          -0.21990944344077085,
          -0.1345741634283015,
          -0.08913915060474865,
          1.1007452666922057,
          -0.22459568148265663,
          -0.18216662299635505,
          -0.17520701556481746,
          -0.17197242841511282,
          -0.22452111538700523,
          -0.13911259717489718,
          -0.20287078140295434,
          8.04091581575099,
          -0.152074405105599,
          0.30988969725014964,
          0.020001949297732566,
          -0.14153051837093203,
          -0.18251858649644817,
          -0.17254594989090782,
          0.13441991147765864,
          -0.21866417001581226,
          -0.10820107656966957,
          0.3139368209774084,
          -0.1727828739405421,
          -0.1490629665491447,
          -0.14523924176130804,
          -0.1439470262468708,
          -0.22369065616268477,
          0.306199141806403,
          -0.18174627925153086,
          -0.15329626148972755,
          -0.14216030804764615,
          -0.1462470174303394,
          0.3101258405665395,
          0.5757859248842299,
          2.114011862910844,
          -0.12742236456703068,
          0.31979915024366823,
          -0.20037110173302627,
          -0.1478296263187379,
          -0.22457784814201712,
          -0.1728074477513755,
          -0.1344543130360459,
          -0.13844964947728164,
          -0.1559137186282994,
          3.097426621871501,
          -0.09897526650239001,
          -0.22454922474063008,
          -0.19979904327686496,
          -0.04103219463255286,
          -0.14564499759940813,
          -0.13913323052133145,
          0.3859296663291388,
          -0.13783477813689057,
          -0.13822664432026324,
          -0.27008795894328,
          -0.15359919737682334,
          -0.17170015217023993,
          -0.1443086303498213,
          -0.14608067004570302,
          -0.16604539390454198,
          -0.13840963258280614,
          -0.11101056929199452,
          -0.1372779888005738,
          0.5228422049742233,
          -0.10735892051192321,
          -0.08871110221830285,
          -0.1563671758587118,
          -0.13892342969177798,
          0.5426099150721218,
          -0.19961607917598018,
          -0.17288425468793853,
          -0.17084071671712847,
          -0.12073740355630258,
          -0.14111651233311945,
          -0.1568119625310063,
          0.32776597484831455,
          -0.146368763617711
         ],
         "y": [
          -1.3667236338170765,
          -1.9880204457681174,
          -1.0885753092754384,
          -2.2480104181469884,
          -1.9881020997838383,
          -2.1110016755780197,
          -1.842886353684185,
          -1.088576851699943,
          -0.973330423617023,
          -1.0885910993602084,
          -1.8398117124405524,
          -1.2427443388152812,
          -1.3667120189029283,
          -1.0886110763273218,
          -1.0886078248137216,
          -0.4580059150412343,
          -1.2317509889771776,
          -1.0885747906319132,
          -1.0885761714758564,
          -1.0885741947462058,
          -0.9733325037348339,
          -1.8389821492617915,
          -1.3663577477599793,
          -1.0881156443390636,
          -1.0885697562625127,
          -1.0885889270832774,
          -1.0885748351219802,
          -1.0885750989395822,
          -1.6240019724235382,
          -1.0887271970983277,
          -1.0885684543613554,
          -1.0885806086979628,
          -1.0824942906178188,
          -1.3667221520605228,
          -1.088606721299545,
          -1.0885700970878502,
          -1.0885711478454625,
          -1.088570108441636,
          -2.238735886638268,
          -1.0885724184597951,
          -1.0934848044489685,
          -1.3667251289756988,
          -1.0885495856691376,
          -1.088579037265512,
          -1.0886601495581139,
          -1.0885796868252338,
          -1.3668161557881642,
          -1.366722077072617,
          -1.3667297183729181,
          -1.3667546548333702,
          -1.3667236091553903,
          -0.9733270526618573,
          -1.0885695094173666,
          -1.2741667114841895,
          -1.0886216414711476,
          -1.3667233034506414,
          -2.2941221759251045,
          -2.3070899130251994,
          -0.1788800703927741,
          -1.0885813730293192,
          -1.08905115195097,
          -1.0885734869730699,
          -1.0885720931904033,
          -1.088564009957853,
          -1.088601242677576,
          -2.347319127781982,
          -1.839769311188444,
          -1.5588679446334313,
          -1.088567725377615,
          -1.090425700855629,
          -2.1662231731533654,
          -1.0885710817486356,
          -1.3667261944415467,
          -1.1255084148677987,
          -0.9733257690126328,
          -2.27560964940799,
          -1.3667382768174003,
          -0.9733286161378031,
          -1.0886402734418428,
          -1.088636064458321,
          -1.9880727751296507,
          -2.1610654581214854,
          -0.9733266068664812,
          -1.3667221951106956,
          -1.0885570333260461,
          -2.19202142642882,
          -1.0885721243504722,
          -1.3652193092391203,
          -0.9733402056306149,
          -2.181610359810778,
          -1.088638416900154,
          -2.227914075952749,
          -1.0885760741664843,
          -0.9733312575733045,
          -1.088571081951934,
          -0.9733370100361979,
          -1.678193378691402,
          -2.3063116785102444,
          -1.3667245860724275,
          -1.8398130258709873,
          -1.0885966695996847,
          -1.3667236068303505,
          -1.0885779577722512,
          -2.2242088569342977,
          -1.9880691470291623,
          -2.1110025047472782,
          -1.0924940679422277,
          -0.9731422483186186,
          -0.9733904039292042,
          -2.3063193020810497,
          -1.088571794148981,
          -2.3063169817805473,
          -2.2755928110299664,
          -1.0132252699592361,
          -2.2480876144632727,
          -1.0885710125559798,
          -0.9737148728444776,
          -2.111000285814593,
          -1.0885644871721762,
          -2.275589416272184,
          -2.3394647467949974,
          -1.0901470596719913,
          -0.6314660105913853,
          -1.08857588336047,
          -1.3671098542350444,
          -1.088593623597414,
          -2.248028285689811,
          -2.1170367364813494,
          -2.1766491025065964,
          -2.1909446341164234,
          -2.306266420127657,
          -0.9733513019683128,
          -1.0885703658118584,
          -1.0885988137118279,
          -0.9733395048202399,
          -0.973333977552992,
          -2.3063263736388415,
          -2.1981870433159285,
          -1.092464023607356,
          -1.121408939873689,
          -0.9737118698114281,
          -1.3667236017587914,
          -1.0927865698097283,
          -1.0215599249670553,
          -1.088574605970711,
          -1.088596670087339,
          -1.0885959747236005,
          -1.088595473430613,
          -2.3063428250306948,
          -2.1169859806497078,
          -0.9727837798166404,
          -1.6239737388589432,
          -2.1109970743703603,
          -2.1816478170705493,
          -1.0885644184803838,
          -0.9733860368193858,
          -1.6239799304811235,
          -1.9881773457845158,
          -1.623974885197666,
          -1.8398390745839817,
          -2.331402984082011,
          -2.3063142390939646,
          -1.9918417491852032,
          -0.9735108041999698,
          -2.2482129984458012,
          -1.0887210102268234,
          -1.3431765700978087,
          -0.9733335862718632,
          -1.623969604819555,
          -1.624025115351117,
          -1.0885755060409235,
          -0.9733328799886615,
          -1.3667222498857594,
          -1.2184784754173772,
          -2.6829033928825354,
          -2.1607719308416713,
          -2.306383471506967,
          -1.087900171571011,
          -2.181590844890534,
          -1.2742969325169293,
          -1.088581350930423,
          -1.0891710778966026,
          -0.9734293532455945,
          -1.9905645799565914,
          -2.306675311795575,
          -1.0885776474080882,
          -2.2526036164847922,
          -2.110991372018945,
          -2.2243114477904267,
          -0.9733528658869787,
          -2.306311211237803,
          -0.6314499398790577,
          -2.2755978377560497,
          -2.2347356719195877,
          -2.224204753326001,
          -2.3065521854355566,
          -2.220802581727649,
          -2.3608358814967705,
          -2.2499393730532002,
          -2.3064503723159477,
          -1.2507338794585163,
          -2.214066808762374,
          -0.9733337100665841,
          -1.0885793345842212,
          -2.248713790012113,
          -2.2789265005160373,
          -0.5248950434103501,
          -2.2481653150611467,
          -1.3665827030613042,
          -0.973335305330028,
          -1.2507644026909874,
          -2.1120635266290417,
          -2.224231147659523,
          -1.3667236031996994,
          -2.308680511125512,
          -2.2139903968258388,
          -2.213951635069133,
          -0.16775976607632428,
          -2.2720117397351878,
          -1.0886027684501443,
          -2.1110854933948033,
          -2.110997318991052,
          -1.5589050197347027,
          -1.3667247942026763,
          -0.3375129421891574,
          -1.366751405032057,
          -1.1279315248473665,
          -1.6237786204662679,
          -2.2167484360029697,
          -1.0886070187500378,
          -1.3667296942251368,
          -1.0947830606431446,
          -1.2317482915403832,
          -1.0885707632096797,
          -1.0886115416986666,
          -1.83979938490785,
          -2.2318587165492922,
          -1.988069262271453,
          -2.3064141878350544,
          -2.1110017161196613
         ],
         "z": [
          0.1491679107699875,
          0.2939009373710206,
          -0.006435966754712813,
          0.41626304683785337,
          0.29389393674100095,
          0.35702496412786316,
          0.328081107255269,
          -0.006421519776877672,
          0.023503152476732236,
          -0.006424125378890654,
          0.3307596502724092,
          -0.016914910490656205,
          0.14913000931466405,
          -0.006455146546505726,
          -0.006424032124804187,
          0.002518245808189413,
          0.08896472665614191,
          -0.006428411332860895,
          -0.00642184232009159,
          -0.006421068445142326,
          0.02350457422632832,
          0.327197554858034,
          0.14442712193911683,
          -0.00957469738074961,
          -0.006424884234617461,
          -0.006476489313714166,
          -0.006424870769561082,
          -0.0064202251452398044,
          0.20059001305814292,
          -0.006654936393922804,
          -0.006436169251167404,
          -0.006430894911931018,
          -0.029025471881625117,
          0.14916720816252801,
          -0.00646056881008819,
          -0.00642450491679713,
          -0.006419946422960058,
          -0.006429289108915063,
          0.42232088196249407,
          -0.0064212271073314856,
          -0.007355353990235238,
          0.1491686197323436,
          -0.006503244289800544,
          -0.006420483442885991,
          -0.006431877394634617,
          -0.006426750221133166,
          0.14902302927108657,
          0.14916150959211077,
          0.14916622402821444,
          0.14916977529588443,
          0.14917241651689067,
          0.023505908223974192,
          -0.006425436697652159,
          0.13166363455206195,
          -0.006453494082515602,
          0.14916252912773656,
          0.30309704845604785,
          0.3472289419878189,
          -0.2715450223979971,
          -0.006437689485158617,
          -0.006557797433716265,
          -0.006454766929878078,
          -0.006419776397671375,
          -0.0064578703818943895,
          -0.006623090379852127,
          0.48227061312417574,
          0.33117496076467207,
          0.2760917374554014,
          -0.006422009322589877,
          -0.007717355305138801,
          0.3609785471565774,
          -0.006419818723748583,
          0.14916912494641293,
          -0.00893416984789351,
          0.023498115189809266,
          0.37523660894912925,
          0.1491677219569762,
          0.02350207771271053,
          -0.006432646022734933,
          -0.006443297874514625,
          0.2939220698312097,
          0.3106303512910229,
          0.023502213512460922,
          0.14916722857571424,
          -0.006472063904801257,
          0.3971914084087028,
          -0.006437476956947325,
          0.14375096011202224,
          0.023493857522339765,
          0.4364923503490033,
          -0.006424406838162658,
          0.3449964518187059,
          -0.006421670753481672,
          0.023502459375501335,
          -0.006419817967694813,
          0.02350518703232214,
          0.40589036884629287,
          0.34903482778677236,
          0.1491708145656069,
          0.33093443945581197,
          -0.006451092413861048,
          0.14917015379895168,
          -0.00642295468026582,
          0.4291445063287128,
          0.2939183249900467,
          0.35702535729670737,
          -0.006736593552004024,
          0.023309425184715068,
          0.023486310199391323,
          0.34903604788268705,
          -0.00641993697989151,
          0.349034076829206,
          0.37524077039479137,
          0.02065372668514362,
          0.41625937519132605,
          -0.006420448166502588,
          0.02347209370532338,
          0.3570251759729213,
          -0.006444581620865483,
          0.3752367659076116,
          0.2979552253204983,
          -0.006543231215763143,
          -0.060591807579549996,
          -0.006425140143428305,
          0.14881134757151165,
          -0.006424670120207139,
          0.41624865978744874,
          0.23091161211353572,
          0.3179455968884116,
          0.10136653323362066,
          0.3485801286303139,
          0.023495635767122117,
          -0.006424220048979264,
          -0.006422862237256287,
          0.023498750209428543,
          0.02350507713243807,
          0.3490322166537227,
          0.3240451942714392,
          -0.04811535770834509,
          0.1778048787482672,
          0.023448898952209783,
          0.14916789556885202,
          -0.006706751351870555,
          -0.03819449792820553,
          -0.006422366930804196,
          -0.006425838055866115,
          -0.006429651105708291,
          -0.006429888804805398,
          0.3490324218534035,
          0.35529525810939583,
          0.022856429072932272,
          0.20064389726112572,
          0.3570227823640369,
          0.4364826135478746,
          -0.006444614192590018,
          0.023457679063505803,
          0.20064291441117485,
          0.2939143767281967,
          0.20064339582449903,
          0.3310643533403285,
          0.34242942025729994,
          0.3490354976738973,
          0.2935358125522005,
          0.023473298663720107,
          0.41614150963158303,
          -0.007437131918913724,
          0.06666005414220692,
          0.02350469566069316,
          0.20064324326334684,
          0.20056528267609078,
          -0.006431519294244443,
          0.023503664095410836,
          0.14916743611697933,
          0.16697861025685773,
          0.3098982609970521,
          0.3825581601003135,
          0.34899789721091495,
          -0.00891489057091646,
          0.436467857361035,
          0.1315041904021137,
          -0.006423522819570827,
          -0.010142529057166479,
          0.02344556230144762,
          0.2936921926305304,
          0.3489917215986132,
          -0.0064211424743569915,
          0.4355926028076434,
          0.35700941077719767,
          0.4291324985940648,
          0.023496377333559793,
          0.3490327774721549,
          -0.06059349488319098,
          0.3752396096412557,
          0.5294103127672792,
          0.4291449335296532,
          0.349020421609493,
          0.5025584318433027,
          0.33483258507398495,
          0.34417230266029025,
          0.34888506159622773,
          0.10293322851274625,
          0.3154768117325015,
          0.023504493111095773,
          -0.006420583087265,
          0.416215577098829,
          0.38777034838064933,
          0.22977617018318683,
          0.47540513717205785,
          0.14864847044217913,
          0.023504378708392826,
          0.10293073703218554,
          0.35587845531064954,
          0.42914144744628724,
          0.14916789625209032,
          0.34840115840588315,
          0.2843673711508456,
          0.28436638436407097,
          0.13243124625253924,
          0.4795584604946776,
          -0.006430783870608828,
          0.35701206639765704,
          0.35702074609513623,
          0.27608754663129736,
          0.1491590995488093,
          -0.06945997919459174,
          0.14914907602804264,
          -0.00911321768353705,
          0.19968642374147408,
          0.2841740856356005,
          -0.0066203515280348155,
          0.1491662125780127,
          -0.014359536884102249,
          0.08895887573937263,
          -0.006420923440638334,
          -0.0064401217371710855,
          0.3311886112979074,
          0.36366471100502246,
          0.2939187535688678,
          0.34878077226893184,
          0.357024983351575
         ]
        },
        {
         "customdata": [
          [
           "Proof-of-BibleHash"
          ],
          [
           "SHA-256 + Hive"
          ],
          [
           "Proof-of-Authority"
          ]
         ],
         "hovertemplate": "<b>%{hovertext}</b><br><br>Class=%{marker.color}<br>PC 1=%{x}<br>PC 2=%{y}<br>PC 3=%{z}<br>Algorithm=%{customdata[0]}<extra></extra>",
         "hovertext": [
          "BiblePay",
          "LitecoinCash",
          "Poa Network"
         ],
         "legendgroup": "3",
         "marker": {
          "color": [
           3,
           3,
           3
          ],
          "coloraxis": "coloraxis",
          "symbol": "square"
         },
         "mode": "markers",
         "name": "3",
         "scene": "scene",
         "showlegend": true,
         "type": "scatter3d",
         "x": [
          -0.2054718754196596,
          -0.3651874903830087,
          -0.4069771986264209
         ],
         "y": [
          3.194503729920723,
          3.422678027275704,
          3.0120837753708023
         ],
         "z": [
          18.28513739169435,
          20.942503060491024,
          11.801154571292079
         ]
        },
        {
         "customdata": [
          [
           "TRC10"
          ]
         ],
         "hovertemplate": "<b>%{hovertext}</b><br><br>Class=%{marker.color}<br>PC 1=%{x}<br>PC 2=%{y}<br>PC 3=%{z}<br>Algorithm=%{customdata[0]}<extra></extra>",
         "hovertext": [
          "BitTorrent"
         ],
         "legendgroup": "2",
         "marker": {
          "color": [
           2
          ],
          "coloraxis": "coloraxis",
          "symbol": "x"
         },
         "mode": "markers",
         "name": "2",
         "scene": "scene",
         "showlegend": true,
         "type": "scatter3d",
         "x": [
          34.05396306166634
         ],
         "y": [
          1.7990009867417127
         ],
         "z": [
          -0.5793493413125455
         ]
        }
       ],
       "layout": {
        "coloraxis": {
         "colorbar": {
          "title": {
           "text": "Class"
          }
         },
         "colorscale": [
          [
           0,
           "#0d0887"
          ],
          [
           0.1111111111111111,
           "#46039f"
          ],
          [
           0.2222222222222222,
           "#7201a8"
          ],
          [
           0.3333333333333333,
           "#9c179e"
          ],
          [
           0.4444444444444444,
           "#bd3786"
          ],
          [
           0.5555555555555556,
           "#d8576b"
          ],
          [
           0.6666666666666666,
           "#ed7953"
          ],
          [
           0.7777777777777778,
           "#fb9f3a"
          ],
          [
           0.8888888888888888,
           "#fdca26"
          ],
          [
           1,
           "#f0f921"
          ]
         ]
        },
        "legend": {
         "title": {
          "text": "Class"
         },
         "tracegroupgap": 0,
         "x": 0,
         "y": 1
        },
        "margin": {
         "t": 60
        },
        "scene": {
         "domain": {
          "x": [
           0,
           1
          ],
          "y": [
           0,
           1
          ]
         },
         "xaxis": {
          "title": {
           "text": "PC 1"
          }
         },
         "yaxis": {
          "title": {
           "text": "PC 2"
          }
         },
         "zaxis": {
          "title": {
           "text": "PC 3"
          }
         }
        },
        "template": {
         "data": {
          "bar": [
           {
            "error_x": {
             "color": "#2a3f5f"
            },
            "error_y": {
             "color": "#2a3f5f"
            },
            "marker": {
             "line": {
              "color": "#E5ECF6",
              "width": 0.5
             }
            },
            "type": "bar"
           }
          ],
          "barpolar": [
           {
            "marker": {
             "line": {
              "color": "#E5ECF6",
              "width": 0.5
             }
            },
            "type": "barpolar"
           }
          ],
          "carpet": [
           {
            "aaxis": {
             "endlinecolor": "#2a3f5f",
             "gridcolor": "white",
             "linecolor": "white",
             "minorgridcolor": "white",
             "startlinecolor": "#2a3f5f"
            },
            "baxis": {
             "endlinecolor": "#2a3f5f",
             "gridcolor": "white",
             "linecolor": "white",
             "minorgridcolor": "white",
             "startlinecolor": "#2a3f5f"
            },
            "type": "carpet"
           }
          ],
          "choropleth": [
           {
            "colorbar": {
             "outlinewidth": 0,
             "ticks": ""
            },
            "type": "choropleth"
           }
          ],
          "contour": [
           {
            "colorbar": {
             "outlinewidth": 0,
             "ticks": ""
            },
            "colorscale": [
             [
              0,
              "#0d0887"
             ],
             [
              0.1111111111111111,
              "#46039f"
             ],
             [
              0.2222222222222222,
              "#7201a8"
             ],
             [
              0.3333333333333333,
              "#9c179e"
             ],
             [
              0.4444444444444444,
              "#bd3786"
             ],
             [
              0.5555555555555556,
              "#d8576b"
             ],
             [
              0.6666666666666666,
              "#ed7953"
             ],
             [
              0.7777777777777778,
              "#fb9f3a"
             ],
             [
              0.8888888888888888,
              "#fdca26"
             ],
             [
              1,
              "#f0f921"
             ]
            ],
            "type": "contour"
           }
          ],
          "contourcarpet": [
           {
            "colorbar": {
             "outlinewidth": 0,
             "ticks": ""
            },
            "type": "contourcarpet"
           }
          ],
          "heatmap": [
           {
            "colorbar": {
             "outlinewidth": 0,
             "ticks": ""
            },
            "colorscale": [
             [
              0,
              "#0d0887"
             ],
             [
              0.1111111111111111,
              "#46039f"
             ],
             [
              0.2222222222222222,
              "#7201a8"
             ],
             [
              0.3333333333333333,
              "#9c179e"
             ],
             [
              0.4444444444444444,
              "#bd3786"
             ],
             [
              0.5555555555555556,
              "#d8576b"
             ],
             [
              0.6666666666666666,
              "#ed7953"
             ],
             [
              0.7777777777777778,
              "#fb9f3a"
             ],
             [
              0.8888888888888888,
              "#fdca26"
             ],
             [
              1,
              "#f0f921"
             ]
            ],
            "type": "heatmap"
           }
          ],
          "heatmapgl": [
           {
            "colorbar": {
             "outlinewidth": 0,
             "ticks": ""
            },
            "colorscale": [
             [
              0,
              "#0d0887"
             ],
             [
              0.1111111111111111,
              "#46039f"
             ],
             [
              0.2222222222222222,
              "#7201a8"
             ],
             [
              0.3333333333333333,
              "#9c179e"
             ],
             [
              0.4444444444444444,
              "#bd3786"
             ],
             [
              0.5555555555555556,
              "#d8576b"
             ],
             [
              0.6666666666666666,
              "#ed7953"
             ],
             [
              0.7777777777777778,
              "#fb9f3a"
             ],
             [
              0.8888888888888888,
              "#fdca26"
             ],
             [
              1,
              "#f0f921"
             ]
            ],
            "type": "heatmapgl"
           }
          ],
          "histogram": [
           {
            "marker": {
             "colorbar": {
              "outlinewidth": 0,
              "ticks": ""
             }
            },
            "type": "histogram"
           }
          ],
          "histogram2d": [
           {
            "colorbar": {
             "outlinewidth": 0,
             "ticks": ""
            },
            "colorscale": [
             [
              0,
              "#0d0887"
             ],
             [
              0.1111111111111111,
              "#46039f"
             ],
             [
              0.2222222222222222,
              "#7201a8"
             ],
             [
              0.3333333333333333,
              "#9c179e"
             ],
             [
              0.4444444444444444,
              "#bd3786"
             ],
             [
              0.5555555555555556,
              "#d8576b"
             ],
             [
              0.6666666666666666,
              "#ed7953"
             ],
             [
              0.7777777777777778,
              "#fb9f3a"
             ],
             [
              0.8888888888888888,
              "#fdca26"
             ],
             [
              1,
              "#f0f921"
             ]
            ],
            "type": "histogram2d"
           }
          ],
          "histogram2dcontour": [
           {
            "colorbar": {
             "outlinewidth": 0,
             "ticks": ""
            },
            "colorscale": [
             [
              0,
              "#0d0887"
             ],
             [
              0.1111111111111111,
              "#46039f"
             ],
             [
              0.2222222222222222,
              "#7201a8"
             ],
             [
              0.3333333333333333,
              "#9c179e"
             ],
             [
              0.4444444444444444,
              "#bd3786"
             ],
             [
              0.5555555555555556,
              "#d8576b"
             ],
             [
              0.6666666666666666,
              "#ed7953"
             ],
             [
              0.7777777777777778,
              "#fb9f3a"
             ],
             [
              0.8888888888888888,
              "#fdca26"
             ],
             [
              1,
              "#f0f921"
             ]
            ],
            "type": "histogram2dcontour"
           }
          ],
          "mesh3d": [
           {
            "colorbar": {
             "outlinewidth": 0,
             "ticks": ""
            },
            "type": "mesh3d"
           }
          ],
          "parcoords": [
           {
            "line": {
             "colorbar": {
              "outlinewidth": 0,
              "ticks": ""
             }
            },
            "type": "parcoords"
           }
          ],
          "pie": [
           {
            "automargin": true,
            "type": "pie"
           }
          ],
          "scatter": [
           {
            "marker": {
             "colorbar": {
              "outlinewidth": 0,
              "ticks": ""
             }
            },
            "type": "scatter"
           }
          ],
          "scatter3d": [
           {
            "line": {
             "colorbar": {
              "outlinewidth": 0,
              "ticks": ""
             }
            },
            "marker": {
             "colorbar": {
              "outlinewidth": 0,
              "ticks": ""
             }
            },
            "type": "scatter3d"
           }
          ],
          "scattercarpet": [
           {
            "marker": {
             "colorbar": {
              "outlinewidth": 0,
              "ticks": ""
             }
            },
            "type": "scattercarpet"
           }
          ],
          "scattergeo": [
           {
            "marker": {
             "colorbar": {
              "outlinewidth": 0,
              "ticks": ""
             }
            },
            "type": "scattergeo"
           }
          ],
          "scattergl": [
           {
            "marker": {
             "colorbar": {
              "outlinewidth": 0,
              "ticks": ""
             }
            },
            "type": "scattergl"
           }
          ],
          "scattermapbox": [
           {
            "marker": {
             "colorbar": {
              "outlinewidth": 0,
              "ticks": ""
             }
            },
            "type": "scattermapbox"
           }
          ],
          "scatterpolar": [
           {
            "marker": {
             "colorbar": {
              "outlinewidth": 0,
              "ticks": ""
             }
            },
            "type": "scatterpolar"
           }
          ],
          "scatterpolargl": [
           {
            "marker": {
             "colorbar": {
              "outlinewidth": 0,
              "ticks": ""
             }
            },
            "type": "scatterpolargl"
           }
          ],
          "scatterternary": [
           {
            "marker": {
             "colorbar": {
              "outlinewidth": 0,
              "ticks": ""
             }
            },
            "type": "scatterternary"
           }
          ],
          "surface": [
           {
            "colorbar": {
             "outlinewidth": 0,
             "ticks": ""
            },
            "colorscale": [
             [
              0,
              "#0d0887"
             ],
             [
              0.1111111111111111,
              "#46039f"
             ],
             [
              0.2222222222222222,
              "#7201a8"
             ],
             [
              0.3333333333333333,
              "#9c179e"
             ],
             [
              0.4444444444444444,
              "#bd3786"
             ],
             [
              0.5555555555555556,
              "#d8576b"
             ],
             [
              0.6666666666666666,
              "#ed7953"
             ],
             [
              0.7777777777777778,
              "#fb9f3a"
             ],
             [
              0.8888888888888888,
              "#fdca26"
             ],
             [
              1,
              "#f0f921"
             ]
            ],
            "type": "surface"
           }
          ],
          "table": [
           {
            "cells": {
             "fill": {
              "color": "#EBF0F8"
             },
             "line": {
              "color": "white"
             }
            },
            "header": {
             "fill": {
              "color": "#C8D4E3"
             },
             "line": {
              "color": "white"
             }
            },
            "type": "table"
           }
          ]
         },
         "layout": {
          "annotationdefaults": {
           "arrowcolor": "#2a3f5f",
           "arrowhead": 0,
           "arrowwidth": 1
          },
          "autotypenumbers": "strict",
          "coloraxis": {
           "colorbar": {
            "outlinewidth": 0,
            "ticks": ""
           }
          },
          "colorscale": {
           "diverging": [
            [
             0,
             "#8e0152"
            ],
            [
             0.1,
             "#c51b7d"
            ],
            [
             0.2,
             "#de77ae"
            ],
            [
             0.3,
             "#f1b6da"
            ],
            [
             0.4,
             "#fde0ef"
            ],
            [
             0.5,
             "#f7f7f7"
            ],
            [
             0.6,
             "#e6f5d0"
            ],
            [
             0.7,
             "#b8e186"
            ],
            [
             0.8,
             "#7fbc41"
            ],
            [
             0.9,
             "#4d9221"
            ],
            [
             1,
             "#276419"
            ]
           ],
           "sequential": [
            [
             0,
             "#0d0887"
            ],
            [
             0.1111111111111111,
             "#46039f"
            ],
            [
             0.2222222222222222,
             "#7201a8"
            ],
            [
             0.3333333333333333,
             "#9c179e"
            ],
            [
             0.4444444444444444,
             "#bd3786"
            ],
            [
             0.5555555555555556,
             "#d8576b"
            ],
            [
             0.6666666666666666,
             "#ed7953"
            ],
            [
             0.7777777777777778,
             "#fb9f3a"
            ],
            [
             0.8888888888888888,
             "#fdca26"
            ],
            [
             1,
             "#f0f921"
            ]
           ],
           "sequentialminus": [
            [
             0,
             "#0d0887"
            ],
            [
             0.1111111111111111,
             "#46039f"
            ],
            [
             0.2222222222222222,
             "#7201a8"
            ],
            [
             0.3333333333333333,
             "#9c179e"
            ],
            [
             0.4444444444444444,
             "#bd3786"
            ],
            [
             0.5555555555555556,
             "#d8576b"
            ],
            [
             0.6666666666666666,
             "#ed7953"
            ],
            [
             0.7777777777777778,
             "#fb9f3a"
            ],
            [
             0.8888888888888888,
             "#fdca26"
            ],
            [
             1,
             "#f0f921"
            ]
           ]
          },
          "colorway": [
           "#636efa",
           "#EF553B",
           "#00cc96",
           "#ab63fa",
           "#FFA15A",
           "#19d3f3",
           "#FF6692",
           "#B6E880",
           "#FF97FF",
           "#FECB52"
          ],
          "font": {
           "color": "#2a3f5f"
          },
          "geo": {
           "bgcolor": "white",
           "lakecolor": "white",
           "landcolor": "#E5ECF6",
           "showlakes": true,
           "showland": true,
           "subunitcolor": "white"
          },
          "hoverlabel": {
           "align": "left"
          },
          "hovermode": "closest",
          "mapbox": {
           "style": "light"
          },
          "paper_bgcolor": "white",
          "plot_bgcolor": "#E5ECF6",
          "polar": {
           "angularaxis": {
            "gridcolor": "white",
            "linecolor": "white",
            "ticks": ""
           },
           "bgcolor": "#E5ECF6",
           "radialaxis": {
            "gridcolor": "white",
            "linecolor": "white",
            "ticks": ""
           }
          },
          "scene": {
           "xaxis": {
            "backgroundcolor": "#E5ECF6",
            "gridcolor": "white",
            "gridwidth": 2,
            "linecolor": "white",
            "showbackground": true,
            "ticks": "",
            "zerolinecolor": "white"
           },
           "yaxis": {
            "backgroundcolor": "#E5ECF6",
            "gridcolor": "white",
            "gridwidth": 2,
            "linecolor": "white",
            "showbackground": true,
            "ticks": "",
            "zerolinecolor": "white"
           },
           "zaxis": {
            "backgroundcolor": "#E5ECF6",
            "gridcolor": "white",
            "gridwidth": 2,
            "linecolor": "white",
            "showbackground": true,
            "ticks": "",
            "zerolinecolor": "white"
           }
          },
          "shapedefaults": {
           "line": {
            "color": "#2a3f5f"
           }
          },
          "ternary": {
           "aaxis": {
            "gridcolor": "white",
            "linecolor": "white",
            "ticks": ""
           },
           "baxis": {
            "gridcolor": "white",
            "linecolor": "white",
            "ticks": ""
           },
           "bgcolor": "#E5ECF6",
           "caxis": {
            "gridcolor": "white",
            "linecolor": "white",
            "ticks": ""
           }
          },
          "title": {
           "x": 0.05
          },
          "xaxis": {
           "automargin": true,
           "gridcolor": "white",
           "linecolor": "white",
           "ticks": "",
           "title": {
            "standoff": 15
           },
           "zerolinecolor": "white",
           "zerolinewidth": 2
          },
          "yaxis": {
           "automargin": true,
           "gridcolor": "white",
           "linecolor": "white",
           "ticks": "",
           "title": {
            "standoff": 15
           },
           "zerolinecolor": "white",
           "zerolinewidth": 2
          }
         }
        }
       }
      },
      "text/html": [
       "<div>                            <div id=\"a081ddcf-725b-4045-bd53-90b2abe928a2\" class=\"plotly-graph-div\" style=\"height:525px; width:100%;\"></div>            <script type=\"text/javascript\">                require([\"plotly\"], function(Plotly) {                    window.PLOTLYENV=window.PLOTLYENV || {};                                    if (document.getElementById(\"a081ddcf-725b-4045-bd53-90b2abe928a2\")) {                    Plotly.newPlot(                        \"a081ddcf-725b-4045-bd53-90b2abe928a2\",                        [{\"customdata\": [[\"Scrypt\"], [\"Scrypt\"], [\"X13\"], [\"X11\"], [\"SHA-512\"], [\"SHA-256\"], [\"SHA-256\"], [\"X15\"], [\"Scrypt\"], [\"Scrypt\"], [\"Scrypt\"], [\"Scrypt\"], [\"Scrypt\"], [\"Scrypt\"], [\"Groestl\"], [\"PoS\"], [\"Scrypt\"], [\"Scrypt\"], [\"X11\"], [\"X11\"], [\"SHA3\"], [\"Scrypt\"], [\"SHA-256\"], [\"Scrypt\"], [\"X13\"], [\"X13\"], [\"NeoScrypt\"], [\"Scrypt\"], [\"Scrypt\"], [\"Scrypt\"], [\"X11\"], [\"X11\"], [\"Multiple\"], [\"PHI1612\"], [\"X11\"], [\"Scrypt\"], [\"Scrypt\"], [\"Scrypt\"], [\"X11\"], [\"Multiple\"], [\"X13\"], [\"Scrypt\"], [\"Counterparty\"], [\"SHA-256\"], [\"Groestl\"], [\"Scrypt\"], [\"X13\"], [\"Scrypt\"], [\"Scrypt\"], [\"X13\"], [\"X11\"], [\"Scrypt\"], [\"X11\"], [\"SHA3\"], [\"QUAIT\"], [\"X11\"], [\"Scrypt\"], [\"X13\"], [\"SHA-256\"], [\"X15\"], [\"BLAKE256\"], [\"SHA-256\"], [\"X11\"], [\"SHA-256\"], [\"NIST5\"], [\"Scrypt\"], [\"Scrypt\"], [\"X11\"], [\"Scrypt\"], [\"SHA-256\"], [\"Scrypt\"], [\"PoS\"], [\"X11\"], [\"SHA-256\"], [\"SHA-256\"], [\"NIST5\"], [\"X11\"], [\"POS 3.0\"], [\"Scrypt\"], [\"Scrypt\"], [\"Scrypt\"], [\"X13\"], [\"X11\"], [\"X11\"], [\"Scrypt\"], [\"SHA-256\"], [\"X11\"], [\"Scrypt\"], [\"Scrypt\"], [\"Scrypt\"], [\"Scrypt\"], [\"SHA-256D\"], [\"PoS\"], [\"Scrypt\"], [\"X11\"], [\"PoS\"], [\"X13\"], [\"X14\"], [\"PoS\"], [\"SHA-256D\"], [\"DPoS\"], [\"X11\"], [\"X13\"], [\"X11\"], [\"PoS\"], [\"Scrypt\"], [\"Scrypt\"], [\"PoS\"], [\"X11\"], [\"SHA-256\"], [\"Scrypt\"], [\"X11\"], [\"Scrypt\"], [\"Scrypt\"], [\"X11\"], [\"Scrypt\"], [\"Scrypt\"], [\"Scrypt\"], [\"Scrypt\"], [\"Quark\"], [\"QuBit\"], [\"Scrypt\"], [\"SHA-256\"], [\"X11\"], [\"Scrypt\"], [\"Scrypt\"], [\"Scrypt\"], [\"Scrypt\"], [\"X13\"], [\"Scrypt\"], [\"Scrypt\"], [\"X11\"], [\"Blake2S\"], [\"X11\"], [\"PoS\"], [\"X11\"], [\"PoS\"], [\"X11\"], [\"Scrypt\"], [\"Scrypt\"], [\"Scrypt\"], [\"SHA-256\"], [\"X11\"], [\"Scrypt\"], [\"PoS\"], [\"Scrypt\"], [\"X15\"], [\"SHA-256\"], [\"POS 3.0\"], [\"536\"], [\"NIST5\"], [\"NIST5\"], [\"Skein\"], [\"X13\"], [\"Scrypt\"], [\"X13\"], [\"SkunkHash v2 Raptor\"], [\"Skein\"], [\"X11\"], [\"Scrypt\"], [\"VeChainThor Authority\"], [\"PoS\"], [\"Scrypt\"], [\"Scrypt\"], [\"SHA-512\"], [\"Ouroboros\"], [\"X11\"], [\"NeoScrypt\"], [\"Scrypt\"], [\"Lyra2REv2\"], [\"Scrypt\"], [\"SHA-256\"], [\"NIST5\"], [\"PHI1612\"], [\"Scrypt\"], [\"Quark\"], [\"POS 2.0\"], [\"Scrypt\"], [\"SHA-256\"], [\"X11\"], [\"DPoS\"], [\"NIST5\"], [\"X13\"], [\"Scrypt\"], [\"NIST5\"], [\"Quark\"], [\"Scrypt\"], [\"Scrypt\"], [\"X11\"], [\"Quark\"], [\"Scrypt\"], [\"Scrypt\"], [\"X11\"], [\"POS 3.0\"], [\"Ethash\"], [\"Scrypt\"], [\"Scrypt\"], [\"X13\"], [\"C11\"], [\"X11\"], [\"XEVAN\"], [\"Scrypt\"], [\"VBFT\"], [\"NIST5\"], [\"Scrypt\"], [\"Scrypt\"], [\"Scrypt\"], [\"Green Protocol\"], [\"PoS\"], [\"Scrypt\"], [\"Semux BFT consensus\"], [\"Quark\"], [\"PoS\"], [\"X16R\"], [\"Scrypt\"], [\"XEVAN\"], [\"Scrypt\"], [\"Scrypt\"], [\"Scrypt\"], [\"SHA-256D\"], [\"Scrypt\"], [\"X15\"], [\"Scrypt\"], [\"Quark\"], [\"SHA-256\"], [\"DPoS\"], [\"X16R\"], [\"Quark\"], [\"Quark\"], [\"Scrypt\"], [\"Lyra2REv2\"], [\"Quark\"], [\"Scrypt\"], [\"X11\"], [\"X11\"], [\"Scrypt\"], [\"PoS\"], [\"Keccak\"], [\"X11\"], [\"Scrypt\"], [\"SHA-512\"], [\"ECC 256K1\"], [\"XEVAN\"], [\"XEVAN\"], [\"X11\"], [\"Quark\"], [\"Scrypt\"], [\"Quark\"], [\"Quark\"], [\"Scrypt\"], [\"X11\"], [\"Scrypt\"], [\"XEVAN\"], [\"SHA-256D\"], [\"X11\"], [\"X11\"], [\"DPoS\"], [\"Scrypt\"], [\"X11\"], [\"Scrypt\"], [\"Scrypt\"], [\"SHA-256\"], [\"Scrypt\"], [\"X11\"], [\"Scrypt\"], [\"SHA-256\"], [\"X11\"], [\"Scrypt\"], [\"Scrypt\"], [\"X11\"], [\"Scrypt\"], [\"PoS\"], [\"X11\"], [\"SHA-256\"], [\"DPoS\"], [\"Scrypt\"], [\"Scrypt\"], [\"NeoScrypt\"], [\"X13\"], [\"DPoS\"], [\"DPoS\"], [\"SHA-256\"], [\"Leased POS\"], [\"PoS\"], [\"PoS\"], [\"SHA-256\"], [\"Scrypt\"], [\"Scrypt\"]], \"hovertemplate\": \"<b>%{hovertext}</b><br><br>Class=%{marker.color}<br>PC 1=%{x}<br>PC 2=%{y}<br>PC 3=%{z}<br>Algorithm=%{customdata[0]}<extra></extra>\", \"hovertext\": [\"42 Coin\", \"404Coin\", \"EliteCoin\", \"Dash\", \"Bitshares\", \"BitcoinDark\", \"PayCoin\", \"KoboCoin\", \"Aurora Coin\", \"BlueCoin\", \"EnergyCoin\", \"BitBar\", \"CryptoBullion\", \"CasinoCoin\", \"Diamond\", \"Exclusive Coin\", \"FlutterCoin\", \"HoboNickels\", \"HyperStake\", \"IOCoin\", \"MaxCoin\", \"MintCoin\", \"MazaCoin\", \"Nautilus Coin\", \"NavCoin\", \"OpalCoin\", \"Orbitcoin\", \"PotCoin\", \"PhoenixCoin\", \"Reddcoin\", \"SuperCoin\", \"SyncCoin\", \"TeslaCoin\", \"TittieCoin\", \"TorCoin\", \"UnitaryStatus Dollar\", \"UltraCoin\", \"VeriCoin\", \"X11 Coin\", \"Crypti\", \"StealthCoin\", \"ZCC Coin\", \"StorjCoin\", \"Neutron\", \"FairCoin\", \"RubyCoin\", \"Kore\", \"Dnotes\", \"8BIT Coin\", \"Sativa Coin\", \"Ucoin\", \"Vtorrent\", \"IslaCoin\", \"Nexus\", \"Droidz\", \"Squall Coin\", \"Diggits\", \"Paycon\", \"Emercoin\", \"EverGreenCoin\", \"Decred\", \"EDRCoin\", \"Hitcoin\", \"DubaiCoin\", \"PWR Coin\", \"BillaryCoin\", \"GPU Coin\", \"EuropeCoin\", \"ZeitCoin\", \"SwingCoin\", \"SafeExchangeCoin\", \"Nebuchadnezzar\", \"Ratecoin\", \"Revenu\", \"Clockcoin\", \"VIP Tokens\", \"BitSend\", \"Let it Ride\", \"PutinCoin\", \"iBankCoin\", \"Frankywillcoin\", \"MudraCoin\", \"Lutetium Coin\", \"GoldBlocks\", \"CarterCoin\", \"BitTokens\", \"MustangCoin\", \"ZoneCoin\", \"RootCoin\", \"BitCurrency\", \"Swiscoin\", \"BuzzCoin\", \"Opair\", \"PesoBit\", \"Halloween Coin\", \"CoffeeCoin\", \"RoyalCoin\", \"GanjaCoin V2\", \"TeamUP\", \"LanaCoin\", \"ARK\", \"InsaneCoin\", \"EmberCoin\", \"XenixCoin\", \"FreeCoin\", \"PLNCoin\", \"AquariusCoin\", \"Creatio\", \"Eternity\", \"Eurocoin\", \"BitcoinFast\", \"Stakenet\", \"BitConnect Coin\", \"MoneyCoin\", \"Enigma\", \"Russiacoin\", \"PandaCoin\", \"GameUnits\", \"GAKHcoin\", \"Allsafe\", \"LiteCreed\", \"Klingon Empire Darsek\", \"Internet of People\", \"KushCoin\", \"Printerium\", \"Impeach\", \"Zilbercoin\", \"FirstCoin\", \"FindCoin\", \"OpenChat\", \"RenosCoin\", \"VirtacoinPlus\", \"TajCoin\", \"Impact\", \"Atmos\", \"HappyCoin\", \"MacronCoin\", \"Condensate\", \"Independent Money System\", \"ArgusCoin\", \"LomoCoin\", \"ProCurrency\", \"GoldReserve\", \"GrowthCoin\", \"Phreak\", \"Degas Coin\", \"HTML5 Coin\", \"Ultimate Secure Cash\", \"QTUM\", \"Espers\", \"Denarius\", \"Virta Unique Coin\", \"Bitcoin Planet\", \"BritCoin\", \"Linda\", \"DeepOnion\", \"Signatum\", \"Cream\", \"Monoeci\", \"Draftcoin\", \"Vechain\", \"Stakecoin\", \"CoinonatX\", \"Ethereum Dark\", \"Obsidian\", \"Cardano\", \"Regalcoin\", \"TrezarCoin\", \"TerraNovaCoin\", \"Rupee\", \"WomenCoin\", \"Theresa May Coin\", \"NamoCoin\", \"LUXCoin\", \"Xios\", \"Bitcloud 2.0\", \"KekCoin\", \"BlackholeCoin\", \"Infinity Economics\", \"Magnet\", \"Lamden Tau\", \"Electra\", \"Bitcoin Diamond\", \"Cash & Back Coin\", \"Bulwark\", \"Kalkulus\", \"GermanCoin\", \"LiteCoin Ultra\", \"PhantomX\", \"Digiwage\", \"Trollcoin\", \"Litecoin Plus\", \"Monkey Project\", \"TokenPay\", \"1717 Masonic Commemorative Token\", \"My Big Coin\", \"Unified Society USDEX\", \"Tokyo Coin\", \"Stipend\", \"Pushi\", \"Ellerium\", \"Velox\", \"Ontology\", \"Bitspace\", \"Briacoin\", \"Ignition\", \"MedicCoin\", \"Bitcoin Green\", \"Deviant Coin\", \"Abjcoin\", \"Semux\", \"Carebit\", \"Zealium\", \"Proton\", \"iDealCash\", \"Bitcoin Incognito\", \"HollyWoodCoin\", \"Swisscoin\", \"Xt3ch\", \"TheVig\", \"EmaratCoin\", \"Dekado\", \"Lynx\", \"Poseidon Quark\", \"BitcoinWSpectrum\", \"Muse\", \"Trivechain\", \"Dystem\", \"Giant\", \"Peony Coin\", \"Absolute Coin\", \"Vitae\", \"TPCash\", \"ARENON\", \"EUNO\", \"MMOCoin\", \"Ketan\", \"XDNA\", \"PAXEX\", \"ThunderStake\", \"Kcash\", \"Acute Angle Cloud\", \"Bettex coin\", \"BitMoney\", \"Junson Ming Chan Coin\", \"HerbCoin\", \"Oduwa\", \"Galilel\", \"Crypto Sports\", \"Credit\", \"Dash Platinum\", \"Nasdacoin\", \"Beetle Coin\", \"Titan Coin\", \"Award\", \"Insane Coin\", \"ALAX\", \"LiteDoge\", \"TruckCoin\", \"OrangeCoin\", \"BitstarCoin\", \"NeosCoin\", \"HyperCoin\", \"PinkCoin\", \"AudioCoin\", \"IncaKoin\", \"Piggy Coin\", \"Genstake\", \"XiaoMiCoin\", \"CapriCoin\", \" ClubCoin\", \"Radium\", \"Creditbit \", \"OKCash\", \"Lisk\", \"HiCoin\", \"WhiteCoin\", \"FriendshipCoin\", \"Triangles Coin\", \"EOS\", \"Oxycoin\", \"TigerCash\", \"Waves\", \"Particl\", \"Nxt\", \"ZEPHYR\", \"Gapcoin\", \"BitcoinPlus\"], \"legendgroup\": \"1\", \"marker\": {\"color\": [1, 1, 1, 1, 1, 1, 1, 1, 1, 1, 1, 1, 1, 1, 1, 1, 1, 1, 1, 1, 1, 1, 1, 1, 1, 1, 1, 1, 1, 1, 1, 1, 1, 1, 1, 1, 1, 1, 1, 1, 1, 1, 1, 1, 1, 1, 1, 1, 1, 1, 1, 1, 1, 1, 1, 1, 1, 1, 1, 1, 1, 1, 1, 1, 1, 1, 1, 1, 1, 1, 1, 1, 1, 1, 1, 1, 1, 1, 1, 1, 1, 1, 1, 1, 1, 1, 1, 1, 1, 1, 1, 1, 1, 1, 1, 1, 1, 1, 1, 1, 1, 1, 1, 1, 1, 1, 1, 1, 1, 1, 1, 1, 1, 1, 1, 1, 1, 1, 1, 1, 1, 1, 1, 1, 1, 1, 1, 1, 1, 1, 1, 1, 1, 1, 1, 1, 1, 1, 1, 1, 1, 1, 1, 1, 1, 1, 1, 1, 1, 1, 1, 1, 1, 1, 1, 1, 1, 1, 1, 1, 1, 1, 1, 1, 1, 1, 1, 1, 1, 1, 1, 1, 1, 1, 1, 1, 1, 1, 1, 1, 1, 1, 1, 1, 1, 1, 1, 1, 1, 1, 1, 1, 1, 1, 1, 1, 1, 1, 1, 1, 1, 1, 1, 1, 1, 1, 1, 1, 1, 1, 1, 1, 1, 1, 1, 1, 1, 1, 1, 1, 1, 1, 1, 1, 1, 1, 1, 1, 1, 1, 1, 1, 1, 1, 1, 1, 1, 1, 1, 1, 1, 1, 1, 1, 1, 1, 1, 1, 1, 1, 1, 1, 1, 1, 1, 1, 1, 1, 1, 1, 1, 1, 1, 1, 1, 1, 1, 1, 1, 1, 1, 1, 1, 1, 1, 1, 1, 1, 1, 1, 1, 1, 1, 1, 1, 1, 1, 1], \"coloraxis\": \"coloraxis\", \"symbol\": \"circle\"}, \"mode\": \"markers\", \"name\": \"1\", \"scene\": \"scene\", \"showlegend\": true, \"type\": \"scatter3d\", \"x\": [-0.33925874328750333, -0.3226027668066919, 2.306410009475837, -0.39079880169437664, -0.2587981922937809, -0.3056074894984147, -0.26365659198228286, -0.23059971086105488, -0.3389184501354061, -0.3314987898900529, -0.33775587065958074, -0.33925468106399054, -0.3392389680620339, 0.6803413096852653, -0.36746121766143514, -0.35029340458120894, -0.3000298685457277, -0.3373182638737808, -0.3286790192529666, -0.3906935367627677, -0.4127817690900331, -0.03732458190695648, -0.26892789790678345, -0.29705903182792204, -0.276510025885881, -0.277132004610862, -0.3486225758120134, -0.33356319856216715, -0.33766109868943694, 0.01875023040377285, -0.34855826822106867, -0.391064966528505, -0.24349906849398584, -0.3157892180328922, -0.3909766410108224, -0.3145003252654422, -0.33793665066298434, -0.29769137894843933, -0.3909411292437296, -0.24396661296477581, -0.27691294911010766, -0.33036536480329, -0.36494420761307217, -0.3048195056265139, -0.366882993688407, -0.2970392951314271, -0.2772073660173605, -0.2916954143158374, -0.33924081845981263, -0.27715956873529407, -0.3490029523909689, -0.33897530263945147, -0.3910465022598647, -0.4136758381135895, -0.39875599362956393, -0.3697213779127688, -0.29544144549316187, -0.2766813916059181, -0.2981671805814754, -0.23304018428002063, -0.07046695333447418, -0.3055784142140671, -0.06863964659038713, -0.30564208259699643, -0.2254591389445687, -0.3388512336101778, -0.295310565275084, -0.388216834875664, 0.8556531179480521, -0.30544222585016845, -0.05014915112300405, -0.34997679987188235, -0.3888903132504599, -0.30418627477734167, -0.3018554377455871, -0.34677288231437925, -0.38978219312173923, -0.3561381382978898, -0.3151568872342759, -0.3388893177049238, -0.3373289107232244, -0.2339513542566407, -0.33649851748588616, -0.39052061382170633, -0.3380938485864209, -0.3056230439599514, -0.3910356985128555, -0.3390784046380764, -0.33923505369260143, -0.29530009852064787, -0.26149728175670034, 0.04079926265490614, -0.3489342769925264, -0.3388493534357693, -0.37720354030803055, -0.34826315720846, -0.2353813844323723, -0.41417569047267244, -0.3480122485514599, -0.2736074470825281, 3.734215065869119, -0.3906283984337859, 0.8545876835911201, -0.39099062520222233, -0.34939784985944133, -0.3387769439183939, -0.3389312136469832, -0.34997679987188235, -0.39056570081943576, -0.3054857675364473, -0.33877767823024174, -0.3755540364264772, -0.33892501316622575, -0.3345148231049454, -0.3910196085950868, -0.33813603507814133, 0.3459667082835466, -0.3391242120529485, -0.3391947548952676, -0.3590008561965699, -0.3322614295890245, -0.3354230301248071, -0.30559946638989194, -0.3909295944465655, -0.3389726525083769, -0.33909955905977707, -0.2969458524616816, -0.3104515101522933, -0.23514932722818177, -0.319960410349994, -0.296687074284831, -0.39019563265139906, -0.4138850197411219, -0.3889344728234004, -0.3482240235353921, -0.3900935556865021, -0.3426260745462083, -0.3860361364197135, -0.33904286643512466, -0.3390420584262627, -0.33216655215685836, 0.2687926677979969, -0.39057184338141965, -0.2795948397451653, -0.35001108370874073, -0.33825386656575723, 0.9008939837384461, -0.2623475315864245, -0.35491695710899307, 0.6098483324401742, -0.348307944239921, -0.34681075252604576, -0.40990629808250173, -0.27684478410276236, 0.12550448595827485, -0.27691552765219896, -0.350920898377144, -0.40941136693138946, -0.3908441196998168, -0.2970200184147854, 4.407727436432778, -0.349877414916793, -0.33867820399205356, -0.33917769109628604, -0.31683998030919946, 0.6552305919749736, -0.390784973417024, -0.3436237615706648, -0.3391333254125719, -0.3221022068593651, 0.4296924935375235, -0.30394636751513415, -0.3330807070451023, -0.39326033663234394, -0.33908368377303644, -0.39933078412941525, -0.33580973307572237, -0.3389541296490452, -0.09020665444844504, -0.3895781009200047, 3.739069190810896, 0.21097029083179156, -0.2735876568524882, -0.33641538771509394, -0.30618410517442723, -0.3588868034110138, 0.07502600576453718, -0.33809301139687375, -0.3901590049947809, -0.3580518723735419, -0.32566355053120805, -0.33919981434800656, -0.3489748925020653, -0.3564199484081483, -0.28164320439280593, -0.3050597070909722, -0.3347467713650753, -0.22694829643566905, -0.3691821923312852, -0.3908613618009601, -0.3234289507990519, -0.2961803368866353, -0.3346037724504162, -0.3479070620592823, -0.33922715870193826, -0.33920887691730733, -0.29056393046490053, -0.35083244356197013, -0.34947202869239924, -0.3389254983788661, 3.920991071747006, -0.3979993066005266, -0.34966062593258596, -0.32464400364214135, -0.28581623831786573, -0.30223766452443557, -0.2967143434829014, -0.1424157398680864, -0.296966311640108, -0.3388967241110051, -0.3383997363981563, -0.19049672160640466, 2.237210422887272, -0.3545964656499641, -0.2624751891924192, 1.0237101751065114, -0.3658682766915977, -0.3590002933999685, -0.4010142676575444, -0.17774542495914983, -0.36391799135811015, -0.35772031822012185, -0.3321066657049745, -0.3485524640055052, -0.3903348990780156, -0.29421285748249654, -0.34876078328168286, -0.34011418852681685, -0.348413902408317, -0.1987647773627987, -0.27625481109445565, -0.34300244148028924, -0.2815345772471863, 0.49454039993169435, -0.13900566731735303, -0.4003091685608502, -0.33892946919885597, -0.4007651107939038, -0.35911722510829247, 0.5672316881930359, -0.3490291870572011, -0.33841259359281317, -0.3178867113925092, -0.2936342317279128, -0.3879005162178402, -0.3905620474916602, 3.7513062482135595, 0.09583230656184057, -0.38810261287381403, -0.33779833038181833, -0.33862299487234443, -0.26368921090978, -0.3391411254958406, -0.382193086432013, -0.2528778942196572, -0.08534839691888546, -0.37794311262016367, -0.33841971793491976, -0.33148669672926573, -0.38713197104745894, -0.3368595143244653, -0.35025232577408827, -0.3819831075118683, -0.30412312165822525, 3.734606727980066, -0.1043223432550334, -0.33405536392299806, -0.34824858226164496, -0.2773145283466731, 3.7444710572057343, 3.7457147251832112, -0.2445933243105902, -0.4073234339176213, -0.35018821631243685, -0.32939557066970515, 2.483353079037693, -0.33730488100621936, -0.2973626256210526], \"y\": [1.0833605492904974, 1.0836414020469232, 1.7220063429168724, 1.1985994533225635, 1.508213499670319, 0.8051998407779579, 0.5765497791328833, 1.921629692568802, 1.0833623147116411, 1.0836583012531944, 1.0834182150300622, 1.0833603684935402, 1.083360634712451, 0.13936381068611065, 0.9401909810502415, 1.602708861619342, 0.4451900585335801, 1.0833541995648743, 0.9707316957004872, 1.1986034923722075, 2.0421701558493472, 0.8646797328340569, 0.8049930025214558, 0.8547027421375241, 1.834449992776137, 1.8344261272502709, 0.547966817437717, 1.0832962661920165, 1.0833558594211838, 1.097097470018229, 0.9699689224553819, 1.198604054357599, 0.1034704171639569, 1.526761951450711, 1.1986007102281615, 1.0832331168023992, 1.083343939626054, 0.36331300295463304, 1.1986051030729516, 0.1035198161471377, 1.834434532481044, 1.0830284029771087, 1.5859648675407343, 0.8051991001196793, 0.9402161171322142, 0.8547143948614963, 1.834415154950624, 0.8545827472229841, 1.0833612371002517, 1.8344183357242048, 0.9699383920159264, 1.0833579572652885, 1.1986047635109771, 2.2413940919523454, 1.930292352373358, 0.8647901263180888, 0.8547083660550224, 1.8344097480094974, 0.8048267542242632, 1.921754027906208, 0.8507862187982534, 0.8052009564060698, 1.1930971635849614, 0.8052062573934184, 1.5451987134351282, 1.0833479032946407, 0.8546318725617912, 1.1984547577129538, 0.8322781491141188, 0.8051940610108917, 0.13682409077423136, 1.6027075420816568, 1.1986369930718024, 0.8051192074093613, 0.8050050939763523, 1.540483260731394, 1.1985596745086493, 1.4409772927640765, 1.0829385690401798, 1.0833448707567175, 1.0833672588051024, 1.6056821768007625, 0.9699892429869079, 1.1985912726130454, 1.0833446417722823, 0.8051999173363775, 1.1986031578897662, 1.0833533278199203, 1.0833614582962434, 0.8547811284008168, 0.3438615417479958, 1.9165337437732797, 1.6027111810625172, 1.0833762577404789, 1.1981258402133703, 1.6027598274130932, 1.605760300157165, 2.052925747795906, 1.6025937004800466, 1.9128831678505396, 1.642809404626596, 1.1986006046457442, 1.877278199637302, 1.1986043127471953, 1.602709554936881, 1.0833530837373153, 1.0833448344346293, 1.6027075420816568, 1.198582808728635, 0.805205858065537, 1.083356786131966, 0.6302004828095142, 1.083354499783403, 1.0831044284472544, 1.1986024284888115, 1.0833066601019652, 0.8574915840074927, 1.0833569572798423, 1.0833607717611264, 1.4852433142751986, 0.6130432578686351, 1.0831710327971686, 0.8052008220154051, 1.1986029504288804, 1.0833580589516794, 1.083351887622487, 0.8546809439380288, 0.41219383553160355, 1.6057611069583502, 1.0834276444618476, 0.8547047273440623, 1.1985700728379372, 1.8635641447226732, 1.198611730068855, 1.6027139964418373, 1.1985739895642624, 1.6027337042991796, 1.1984603187944414, 1.0833545485925493, 1.0833496046858282, 1.082959290832835, 0.5464843352840805, 1.1985960407998373, 0.8540369679551602, 1.6026994927180402, 1.083328401007921, 1.9046762244460107, 0.57647369122557, 1.4409793695702868, 1.9914178032892496, 1.540478230959514, 1.540461605994109, 1.9608665156237521, 1.834416946349581, 1.0675242572512043, 1.8344217077256586, 1.4496274915218943, 1.9608855062929083, 1.1986061269118213, 0.8547034135942447, 2.7402700868699563, 1.6026833425905904, 1.0833503324745275, 1.0833608310874172, 1.5083494587254065, 1.481052823366237, 1.198596616977235, 0.5478918069724732, 1.0833547670031776, 0.6691174246521633, 1.096030754112975, 0.8052110542915629, 1.5402611730841547, 1.755563877343584, 1.0833531252577964, 1.7138373934271396, 1.359140904307636, 1.0833622791930808, 0.5771530334859468, 1.1985641386519488, 1.6427431384166378, 1.5417430075735765, 1.8344207135112562, 1.083328238281723, 1.3118164781241253, 1.4852443235768304, 1.0655873815569996, 1.0833042706056104, 1.1986051476612838, 1.4852090213356401, 1.0832761519356704, 1.08336011688869, 0.9699387952948196, 1.440972203417941, -0.04479801688193366, 0.4812227527010236, 1.0833774490938628, 1.605546853506789, 0.953454354681705, 1.1985950327064419, 1.647090139700406, 0.854663853236099, 1.5639442785798212, 1.5404666774124967, 1.0833597410651061, 1.0833590957667953, 0.8546261626261591, 1.3967817195174104, 1.6026811199206727, 1.0833531343893064, 1.6629889737774046, 1.7138884826527498, 1.6026792704885802, 0.692527952336771, 1.081962094273343, 1.3132966292356092, 0.8547093552695901, 1.0840449200641276, 0.8546875661825182, 1.9153651098180124, 1.0833369450865007, 1.693077409818391, 0.45224448304980747, 1.4849847106873733, 0.5765360119117809, 1.5539995405759246, 0.9211870085745679, 1.4852392955408962, 1.7139040066274949, 0.8479249472121066, 0.8977598762524992, 1.4852352109395883, 1.0829615886954616, 0.969932108815939, 1.198598398548132, 0.8546477652699543, 1.6026262572821444, 1.0513353297855725, 0.9699071230020357, 1.0766303614900632, 1.603382384081634, 2.253476135495404, 1.4184382459065312, 1.6762349136153025, 0.9780095238718668, 1.7138981671705658, 1.0833590425211383, 1.7139042168633476, 1.4852399467849366, 1.0677734470996176, 0.9699375873997043, 1.0833364517517627, 1.6470065064354162, 1.913802244355305, 1.1984426529887369, 1.1986031505529626, 1.6428759842045555, 1.0764865485588107, 1.198717721503698, 1.0832819082036955, 1.083348407763721, 0.5765428037346282, 1.0833650623516866, 1.1986077778717392, 1.0796044348439042, 0.8135381245486922, 1.1984341566658943, 1.0833826421718327, 1.0833894100056607, 1.1986149006077607, 1.083344866407604, 1.6027043773330387, 0.3405704100638429, 0.8052009052368089, 1.642800919191807, 0.8553691754888474, 1.0833581882269452, 0.5479431898484426, 1.834419042948614, 1.6432871038687624, 1.6433348238133407, 0.5766162720973455, 2.398448703427472, 1.6027070835997161, 1.9905289855515265, 0.6654939819370506, 1.083267172608389, 0.8547013151773382], \"z\": [-0.5182657407386818, -0.5185147338923916, -0.5963977742506269, -0.4883425080654573, 0.05441826042120785, -0.3626744962517007, -0.07542060716931136, -0.6139932748321011, -0.5182702284975113, -0.5184069263724632, -0.5182930842084548, -0.5182657638546747, -0.518265998942222, -0.31322947498671455, -0.42286889876357114, -0.03450194536593828, -0.33654820523276263, -0.5182888548261723, -0.20145684429448238, -0.48834442326969424, -0.6050973862062925, -0.23574105677827967, -0.3630983089344828, -0.23101376968535864, -0.581320422324109, -0.5813091059600365, -0.31120133436056896, -0.5183266968398401, -0.5182848523077888, -0.5247794038712932, -0.20109515858116722, -0.4883399003893729, 0.10657879380143653, -0.2417335024968021, -0.48834049155902276, -0.5185536485950388, -0.5182796356907001, -0.26200929462109235, -0.4883415948370602, 0.1065771409858379, -0.5813130914851018, -0.5183259542379709, -0.11730355094670333, -0.36268415961979505, -0.4228798640287777, -0.23101577256549383, -0.5813065156986673, -0.23106220293643567, -0.5182660668696594, -0.581307588516451, -0.20108503606149086, -0.5182688658235499, -0.48834023643233854, -0.4777094681174408, -0.6175185208784426, -0.08400567515522714, -0.23103468467321914, -0.5813122247821872, -0.3627105074688454, -0.6139817586558414, -0.4360434136858469, -0.3626750252513113, -0.49150883389057376, -0.36267503518919403, -0.5746716597611959, -0.5182688880879701, -0.23102476772585012, -0.48835270775134987, -0.24193022404614561, -0.36267567439181364, -0.30378441569629905, -0.034505673837905704, -0.4883718468867763, -0.36267996160240346, -0.36269165989040236, -0.5724553178523185, -0.4883491179005546, -0.047330440903720176, -0.5185010654899861, -0.5182679581286412, -0.5182906929924112, -0.29405630725946563, -0.20124782815718661, -0.4883447248257844, -0.5182777915488864, -0.3626743148455703, -0.4883401282156899, -0.518266888378182, -0.5182661717546049, -0.23104741574113782, -0.31272999433138504, -0.5806170336483933, -0.034519155572153036, -0.5182731892366407, -0.4884397063996412, -0.034534820215535694, -0.29405035386652906, -0.6702706877626425, -0.03451286928326876, -0.5761659891520934, -0.1117319847809303, -0.4883447956545835, -0.6018134105142136, -0.48834086159280027, -0.03451315951716835, -0.5182705912391783, -0.5182674329204883, -0.034505673837905704, -0.48834288856869984, -0.3626769140649935, -0.5182711407087846, -0.384008680041843, -0.5182689680463728, -0.5182859492416626, -0.48834021777016057, -0.5182715379358259, -0.23941139507177464, -0.518266867702528, -0.5182665680926334, -0.22201014719367987, -0.23576179582834728, -0.5182847313099913, -0.3626747438190321, -0.48834141316011115, -0.5182689140403893, -0.5182664086709386, -0.23101188501370698, -0.22614124038248126, -0.2940533543083008, -0.5185152633702969, -0.23101868340677226, -0.48834555788554057, -0.6267511873350973, -0.4883674876578305, -0.03452839117565375, -0.4883474150874861, -0.03460080826479698, -0.48838059878723067, -0.518267513414814, -0.5182667775529709, -0.5182931831944649, -0.07748979345248891, -0.48834480868654645, -0.2311299716747916, -0.03450403413497373, -0.5182733562530475, -0.6254719362308645, -0.07542536699332401, -0.04734590324835984, -0.5269220186995586, -0.5724355162361918, -0.5724515810219631, -0.6820745349987274, -0.5813112838736973, -0.5216420139662153, -0.5813111246316521, -0.194651397180512, -0.6820835398422561, -0.488342952727694, -0.23101435495764067, 2.9669189953441513, -0.034503255761623115, -0.5182714010473984, -0.5182667887232982, 0.0551177693052468, -0.062474320442030246, -0.4883422516898732, -0.3112520289350415, -0.5182664242030983, -0.09291875606050311, -0.5297162967931014, -0.362696794609015, -0.5725916659771584, -0.5285696672309146, -0.5182667923288945, -0.5092756986976013, -0.03649383711580966, -0.5182697805267298, -0.07766330404510635, -0.4883523232122474, -0.11178220369578504, -0.5795643004899675, -0.5813522575943545, -0.5182961384317216, -0.28518200868571736, -0.2220117143161974, -0.5207236017492737, -0.5182717111515023, -0.48835130398512366, -0.22201674578090783, -0.5184216590576112, -0.5182664065286632, -0.20108544499303876, -0.047326177160386354, 0.06933439187045766, -0.2935303884200126, -0.5183242623965807, -0.2941227655364484, -0.3448672184929667, -0.4883410650570478, -0.28206262338228266, -0.23101880293269725, -0.2287762901164529, -0.5724387461872968, -0.5182660106156544, -0.5182661400492439, -0.23108278930488374, -0.010749515951129251, -0.034507949332327335, -0.518268756030705, -0.07238763675553136, -0.5092999237777627, -0.03450533071950251, -0.12165663928848244, -0.5187177222221451, 0.12227041080355178, -0.23101904333985582, -0.5208108716775758, -0.2310126303087221, -0.5757305111636006, -0.518272835748079, -0.32673121391218346, -0.36942010502475886, -0.22202576918709435, -0.07543318567177056, -0.11020898483907336, -0.40892089931592684, -0.22200954787034408, -0.5092648646278628, -0.23147131747128158, -0.38017317312457555, -0.22202480999794033, -0.5182942727765768, -0.2010896765236287, -0.48834810374465887, -0.23104078275620385, -0.034508495380123023, -0.333417649778039, -0.2010876258098598, -0.5189932179443342, 0.35691769080138575, 6.854964252948202, 0.005192243307757923, 0.3407526443381652, -0.20490778661638628, -0.5092727305384773, -0.5182695981294739, -0.5092679871910316, -0.222008195560073, -0.5271593309499705, -0.20108458922261277, -0.5182726018225606, -0.28211875834526895, -0.5760562132729873, -0.48835480551770455, -0.4883460028524951, -0.11195404944307666, -0.5226260616981789, -0.4883937979493868, -0.518271992926183, -0.5182717955481062, -0.0754191501486961, -0.5182678806967737, -0.4884505197524713, -0.5187706303273788, -0.3666648518656805, -0.4884770474331463, -0.5182794821750489, -0.5183665088682292, -0.4883903264215518, -0.5182931376239196, -0.034501778414848853, -0.22648890044573378, -0.36269307075139545, -0.11173556324002128, -0.2335052546852291, -0.5183299335761149, -0.3112024091461153, -0.5813057729075276, -0.11193128288615195, -0.11195391034759576, -0.07566712291056439, 6.187200313955294, -0.03450298200008049, 0.28311805727521844, -0.0774167244700246, -0.518275891118988, -0.23100978825351884]}, {\"customdata\": [[\"SHA-256\"], [\"Ethash\"], [\"Scrypt\"], [\"CryptoNight-V7\"], [\"Ethash\"], [\"Equihash\"], [\"Multiple\"], [\"Scrypt\"], [\"X11\"], [\"Scrypt\"], [\"Multiple\"], [\"Scrypt\"], [\"SHA-256\"], [\"Scrypt\"], [\"Scrypt\"], [\"Quark\"], [\"Groestl\"], [\"Scrypt\"], [\"Scrypt\"], [\"Scrypt\"], [\"X11\"], [\"Multiple\"], [\"SHA-256\"], [\"Scrypt\"], [\"Scrypt\"], [\"Scrypt\"], [\"Scrypt\"], [\"Scrypt\"], [\"NeoScrypt\"], [\"Scrypt\"], [\"Scrypt\"], [\"Scrypt\"], [\"Scrypt\"], [\"SHA-256\"], [\"Scrypt\"], [\"Scrypt\"], [\"Scrypt\"], [\"Scrypt\"], [\"HybridScryptHash256\"], [\"Scrypt\"], [\"Scrypt\"], [\"SHA-256\"], [\"Scrypt\"], [\"Scrypt\"], [\"Scrypt\"], [\"Scrypt\"], [\"SHA-256\"], [\"SHA-256\"], [\"SHA-256\"], [\"SHA-256\"], [\"SHA-256\"], [\"X11\"], [\"Scrypt\"], [\"Lyra2REv2\"], [\"Scrypt\"], [\"SHA-256\"], [\"CryptoNight\"], [\"CryptoNight\"], [\"Shabal256\"], [\"Scrypt\"], [\"Scrypt\"], [\"Scrypt\"], [\"Scrypt\"], [\"Scrypt\"], [\"Scrypt\"], [\"Stanford Folding\"], [\"Multiple\"], [\"QuBit\"], [\"Scrypt\"], [\"Scrypt\"], [\"M7 POW\"], [\"Scrypt\"], [\"SHA-256\"], [\"Scrypt\"], [\"X11\"], [\"Lyra2RE\"], [\"SHA-256\"], [\"X11\"], [\"Scrypt\"], [\"Scrypt\"], [\"Ethash\"], [\"Blake2b\"], [\"X11\"], [\"SHA-256\"], [\"Scrypt\"], [\"1GB AES Pattern Search\"], [\"Scrypt\"], [\"SHA-256\"], [\"X11\"], [\"Dagger\"], [\"Scrypt\"], [\"X11GOST\"], [\"Scrypt\"], [\"X11\"], [\"Scrypt\"], [\"X11\"], [\"Equihash\"], [\"CryptoNight\"], [\"SHA-256\"], [\"Multiple\"], [\"Scrypt\"], [\"SHA-256\"], [\"Scrypt\"], [\"Lyra2Z\"], [\"Ethash\"], [\"Equihash\"], [\"Scrypt\"], [\"X11\"], [\"X11\"], [\"CryptoNight\"], [\"Scrypt\"], [\"CryptoNight\"], [\"Lyra2RE\"], [\"X11\"], [\"CryptoNight-V7\"], [\"Scrypt\"], [\"X11\"], [\"Equihash\"], [\"Scrypt\"], [\"Lyra2RE\"], [\"Dagger-Hashimoto\"], [\"Scrypt\"], [\"NIST5\"], [\"Scrypt\"], [\"SHA-256\"], [\"Scrypt\"], [\"CryptoNight-V7\"], [\"Argon2d\"], [\"Blake2b\"], [\"Cloverhash\"], [\"CryptoNight\"], [\"X11\"], [\"Scrypt\"], [\"Scrypt\"], [\"X11\"], [\"X11\"], [\"CryptoNight\"], [\"Time Travel\"], [\"Scrypt\"], [\"Keccak\"], [\"X11\"], [\"SHA-256\"], [\"Scrypt\"], [\"Scrypt\"], [\"Scrypt\"], [\"Scrypt\"], [\"Scrypt\"], [\"Scrypt\"], [\"CryptoNight\"], [\"Equihash\"], [\"X11\"], [\"NeoScrypt\"], [\"Equihash\"], [\"Dagger\"], [\"Scrypt\"], [\"X11\"], [\"NeoScrypt\"], [\"Ethash\"], [\"NeoScrypt\"], [\"Multiple\"], [\"CryptoNight\"], [\"CryptoNight\"], [\"Ethash\"], [\"X11\"], [\"CryptoNight-V7\"], [\"Scrypt\"], [\"BLAKE256\"], [\"X11\"], [\"NeoScrypt\"], [\"NeoScrypt\"], [\"Scrypt\"], [\"X11\"], [\"SHA-256\"], [\"C11\"], [\"CryptoNight\"], [\"SkunkHash\"], [\"CryptoNight\"], [\"Scrypt\"], [\"Dagger\"], [\"Lyra2REv2\"], [\"Scrypt\"], [\"Scrypt\"], [\"X11\"], [\"Ethash\"], [\"CryptoNight\"], [\"Scrypt\"], [\"IMesh\"], [\"Equihash\"], [\"Lyra2Z\"], [\"X11\"], [\"CryptoNight\"], [\"NIST5\"], [\"Lyra2RE\"], [\"Tribus\"], [\"Lyra2Z\"], [\"CryptoNight\"], [\"CryptoNight Heavy\"], [\"CryptoNight\"], [\"Jump Consistent Hash\"], [\"CryptoNight\"], [\"X16R\"], [\"HMQ1725\"], [\"X11\"], [\"Scrypt\"], [\"CryptoNight-V7\"], [\"Cryptonight-GPU\"], [\"XEVAN\"], [\"CryptoNight Heavy\"], [\"SHA-256\"], [\"X11\"], [\"X16R\"], [\"Equihash\"], [\"Lyra2Z\"], [\"SHA-256\"], [\"CryptoNight\"], [\"Blake\"], [\"Blake\"], [\"Equihash\"], [\"Exosis\"], [\"Scrypt\"], [\"Equihash\"], [\"Equihash\"], [\"QuBit\"], [\"SHA-256\"], [\"X13\"], [\"SHA-256\"], [\"Scrypt\"], [\"NeoScrypt\"], [\"Blake\"], [\"Scrypt\"], [\"SHA-256\"], [\"Scrypt\"], [\"Groestl\"], [\"Scrypt\"], [\"Scrypt\"], [\"Multiple\"], [\"Equihash+Scrypt\"], [\"Ethash\"], [\"CryptoNight\"], [\"Equihash\"]], \"hovertemplate\": \"<b>%{hovertext}</b><br><br>Class=%{marker.color}<br>PC 1=%{x}<br>PC 2=%{y}<br>PC 3=%{z}<br>Algorithm=%{customdata[0]}<extra></extra>\", \"hovertext\": [\"Bitcoin\", \"Ethereum\", \"Litecoin\", \"Monero\", \"Ethereum Classic\", \"ZCash\", \"DigiByte\", \"ProsperCoin\", \"Spreadcoin\", \"Argentum\", \"MyriadCoin\", \"MoonCoin\", \"ZetaCoin\", \"SexCoin\", \"Quatloo\", \"QuarkCoin\", \"Riecoin\", \"Digitalcoin \", \"Catcoin\", \"CannaCoin\", \"CryptCoin\", \"Verge\", \"DevCoin\", \"EarthCoin\", \"E-Gulden\", \"Einsteinium\", \"Emerald\", \"Franko\", \"FeatherCoin\", \"GrandCoin\", \"GlobalCoin\", \"GoldCoin\", \"Infinite Coin\", \"IXcoin\", \"KrugerCoin\", \"LuckyCoin\", \"Litebar \", \"MegaCoin\", \"MediterraneanCoin\", \"MinCoin\", \"NobleCoin\", \"Namecoin\", \"NyanCoin\", \"RonPaulCoin\", \"StableCoin\", \"SmartCoin\", \"SysCoin\", \"TigerCoin\", \"TerraCoin\", \"UnbreakableCoin\", \"Unobtanium\", \"UroCoin\", \"ViaCoin\", \"Vertcoin\", \"WorldCoin\", \"JouleCoin\", \"ByteCoin\", \"DigitalNote \", \"BurstCoin\", \"MonaCoin\", \"Gulden\", \"PesetaCoin\", \"Wild Beast Coin\", \"Flo\", \"ArtByte\", \"Folding Coin\", \"Unitus\", \"CypherPunkCoin\", \"OmniCron\", \"GreenCoin\", \"Cryptonite\", \"MasterCoin\", \"SoonCoin\", \"1Credit\", \"MarsCoin \", \"Crypto\", \"Anarchists Prime\", \"BowsCoin\", \"Song Coin\", \"BitZeny\", \"Expanse\", \"Siacoin\", \"MindCoin\", \"I0coin\", \"Revolution VR\", \"HOdlcoin\", \"Gamecredits\", \"CarpeDiemCoin\", \"Adzcoin\", \"SoilCoin\", \"YoCoin\", \"SibCoin\", \"Francs\", \"BolivarCoin\", \"Omni\", \"PizzaCoin\", \"Komodo\", \"Karbo\", \"ZayedCoin\", \"Circuits of Value\", \"DopeCoin\", \"DollarCoin\", \"Shilling\", \"ZCoin\", \"Elementrem\", \"ZClassic\", \"KiloCoin\", \"ArtexCoin\", \"Kurrent\", \"Cannabis Industry Coin\", \"OsmiumCoin\", \"Bikercoins\", \"HexxCoin\", \"PacCoin\", \"Citadel\", \"BeaverCoin\", \"VaultCoin\", \"Zero\", \"Canada eCoin\", \"Zoin\", \"DubaiCoin\", \"EB3coin\", \"Coinonat\", \"BenjiRolls\", \"ILCoin\", \"EquiTrader\", \"Quantum Resistant Ledger\", \"Dynamic\", \"Nano\", \"ChanCoin\", \"Dinastycoin\", \"DigitalPrice\", \"Unify\", \"SocialCoin\", \"ArcticCoin\", \"DAS\", \"LeviarCoin\", \"Bitcore\", \"gCn Coin\", \"SmartCash\", \"Onix\", \"Bitcoin Cash\", \"Sojourn Coin\", \"NewYorkCoin\", \"FrazCoin\", \"Kronecoin\", \"AdCoin\", \"Linx\", \"Sumokoin\", \"BitcoinZ\", \"Elements\", \"VIVO Coin\", \"Bitcoin Gold\", \"Pirl\", \"eBoost\", \"Pura\", \"Innova\", \"Ellaism\", \"GoByte\", \"SHIELD\", \"UltraNote\", \"BitCoal\", \"DaxxCoin\", \"AC3\", \"Lethean\", \"PopularCoin\", \"Photon\", \"Sucre\", \"SparksPay\", \"GunCoin\", \"IrishCoin\", \"Pioneer Coin\", \"UnitedBitcoin\", \"Interzone\", \"TurtleCoin\", \"MUNcoin\", \"Niobio Cash\", \"ShareChain\", \"Travelflex\", \"KREDS\", \"BitFlip\", \"LottoCoin\", \"Crypto Improvement Fund\", \"Callisto Network\", \"BitTube\", \"Poseidon\", \"Aidos Kuneen\", \"Bitrolium\", \"Alpenschillling\", \"FuturoCoin\", \"Monero Classic\", \"Jumpcoin\", \"Infinex\", \"KEYCO\", \"GINcoin\", \"PlatinCoin\", \"Loki\", \"Newton Coin\", \"MassGrid\", \"PluraCoin\", \"Motion\", \"PlusOneCoin\", \"Axe\", \"HexCoin\", \"Webchain\", \"Ryo\", \"Urals Coin\", \"Qwertycoin\", \"Project Pai\", \"Azart\", \"Xchange\", \"CrypticCoin\", \"Actinium\", \"Bitcoin SV\", \"FREDEnergy\", \"Universal Molecule\", \"Lithium\", \"PirateCash\", \"Exosis\", \"Block-Logic\", \"Beam\", \"Bithereum\", \"SLICE\", \"BLAST\", \"Bitcoin Rhodium\", \"GlobalToken\", \"SolarCoin\", \"UFO Coin\", \"BlakeCoin\", \"Crypto Escudo\", \"Crown Coin\", \"SmileyCoin\", \"Groestlcoin\", \"Bata\", \"Pakcoin\", \"JoinCoin\", \"Vollar\", \"Reality Clash\", \"Beldex\", \"Horizen\"], \"legendgroup\": \"0\", \"marker\": {\"color\": [0, 0, 0, 0, 0, 0, 0, 0, 0, 0, 0, 0, 0, 0, 0, 0, 0, 0, 0, 0, 0, 0, 0, 0, 0, 0, 0, 0, 0, 0, 0, 0, 0, 0, 0, 0, 0, 0, 0, 0, 0, 0, 0, 0, 0, 0, 0, 0, 0, 0, 0, 0, 0, 0, 0, 0, 0, 0, 0, 0, 0, 0, 0, 0, 0, 0, 0, 0, 0, 0, 0, 0, 0, 0, 0, 0, 0, 0, 0, 0, 0, 0, 0, 0, 0, 0, 0, 0, 0, 0, 0, 0, 0, 0, 0, 0, 0, 0, 0, 0, 0, 0, 0, 0, 0, 0, 0, 0, 0, 0, 0, 0, 0, 0, 0, 0, 0, 0, 0, 0, 0, 0, 0, 0, 0, 0, 0, 0, 0, 0, 0, 0, 0, 0, 0, 0, 0, 0, 0, 0, 0, 0, 0, 0, 0, 0, 0, 0, 0, 0, 0, 0, 0, 0, 0, 0, 0, 0, 0, 0, 0, 0, 0, 0, 0, 0, 0, 0, 0, 0, 0, 0, 0, 0, 0, 0, 0, 0, 0, 0, 0, 0, 0, 0, 0, 0, 0, 0, 0, 0, 0, 0, 0, 0, 0, 0, 0, 0, 0, 0, 0, 0, 0, 0, 0, 0, 0, 0, 0, 0, 0, 0, 0, 0, 0, 0, 0, 0, 0, 0, 0, 0, 0, 0, 0, 0, 0, 0, 0, 0, 0, 0, 0, 0, 0, 0, 0, 0, 0, 0], \"coloraxis\": \"coloraxis\", \"symbol\": \"diamond\"}, \"mode\": \"markers\", \"name\": \"0\", \"scene\": \"scene\", \"showlegend\": true, \"type\": \"scatter3d\", \"x\": [-0.13913402846530087, -0.15596947262260502, -0.17161630610540496, -0.14683516784814313, -0.15441208422827774, -0.14636770702928537, 0.16730543119205224, -0.1727621363485787, -0.22450974704069498, -0.17237881849013403, -0.0860083959668106, 2.5480755666983623, -0.13622000305870777, -0.16963520786401645, -0.17218292438665123, -0.22992566279982363, -0.20005492321053123, -0.17223166570792517, -0.17274440847982647, -0.17283083207205022, -0.22459905809381958, 0.19104758158436946, 0.23857703719608572, 0.07581033261955812, -0.1725772164289062, -0.16818411523271448, -0.17251653384817608, -0.17288781491913402, -0.17748202187071832, -0.1521176630489854, -0.1716833506307151, -0.17196070321463908, 1.5753957841997985, -0.1390954112124232, -0.16925107736823178, -0.17260364866528394, -0.17295833544121839, -0.17221785089530653, -0.1491597540327097, -0.17283964493529674, -0.03779511257776185, -0.13917299500069097, -0.16650582524029256, -0.17281909613625202, -0.17091414492538506, -0.17230602352538568, -0.12632971765673184, -0.13863695433786147, -0.13892405902659383, -0.13890705917526014, -0.13949754226719557, -0.22477288810393148, -0.172535683773831, -0.19695529877251683, -0.16963992399839076, -0.1387042254245639, 3.860895020759438, 0.4610789743391544, 0.0700680775563552, -0.1714036885644083, -0.1560082851973271, -0.170122963017251, -0.17296054430616803, -0.16998804733997872, -0.15621664097398003, -0.12481031171065338, -0.12000276728487608, -0.16683412100503603, -0.17283366586253324, -0.04581790705843473, -0.12904916767548408, -0.1729694332894082, -0.13920076296579106, 0.478939584279181, -0.22416029338057727, -0.15291072114348506, -0.13894072293703918, -0.22444509115413516, -0.1710939139828511, -0.17028644370713514, -0.15703656793125104, 0.3529445226030726, -0.2244804744744747, -0.1390965331777013, -0.1689287380955147, -0.1490001164215888, -0.17153330120623447, 0.2792378358198431, -0.2236415024034076, -0.1432675923122203, -0.1717806637847845, -0.1668177246531593, -0.17275942213404738, -0.22444373288680733, -0.1729694917633594, -0.22459365246351862, -0.24444482419742844, 0.30603954625914875, -0.13935652591962336, -0.10008239616102087, -0.17013722812529075, -0.13931517003147995, -0.17263301518089316, -0.1461626730132348, -0.15677881581062264, -0.14638931667832555, -0.09972329052039237, -0.21118169686937535, -0.22242260219607332, 0.30603390906453776, -0.17295123645190477, 0.30616457913712086, -0.15345096525901644, 0.4903787078695054, -0.1456003465593055, -0.17291953463119147, -0.2173304705077848, -0.14640168613245058, -0.17105346714426928, -0.15316944488480994, -0.15791311820035622, -0.14385428803537498, -0.18168684629276016, -0.17248207083009293, -0.1056938936500196, -0.17230420697435012, -0.14545810850838248, -0.1505597679885995, -0.047221549415435764, -0.1605894058698392, 0.3421429889205379, -0.2236498976165252, -0.17262334405040267, -0.17238682159676078, -0.22404443111351371, -0.2246216737169094, 0.30642875199663666, -0.15331976986082527, 3.235505052313763, -0.11368921348643188, -0.2154972348125544, -0.1391331929686693, -0.09857156154829373, 1.5734515184651454, -0.1727211582994225, -0.17217300745890937, -0.17187408962700848, -0.1718610250260032, 0.306612288946275, 0.06584590410802586, -0.17902473405273436, -0.18216906525864834, -0.14624779124408308, -0.1420271493626559, -0.17105167691203926, -0.22016772252543815, -0.18201453529881662, -0.15514465110297396, -0.1821147022980572, -0.11023811731837546, 1.143664834035002, 0.30601668710152796, -0.0800624213137619, -0.21990944344077085, -0.1345741634283015, -0.08913915060474865, 1.1007452666922057, -0.22459568148265663, -0.18216662299635505, -0.17520701556481746, -0.17197242841511282, -0.22452111538700523, -0.13911259717489718, -0.20287078140295434, 8.04091581575099, -0.152074405105599, 0.30988969725014964, 0.020001949297732566, -0.14153051837093203, -0.18251858649644817, -0.17254594989090782, 0.13441991147765864, -0.21866417001581226, -0.10820107656966957, 0.3139368209774084, -0.1727828739405421, -0.1490629665491447, -0.14523924176130804, -0.1439470262468708, -0.22369065616268477, 0.306199141806403, -0.18174627925153086, -0.15329626148972755, -0.14216030804764615, -0.1462470174303394, 0.3101258405665395, 0.5757859248842299, 2.114011862910844, -0.12742236456703068, 0.31979915024366823, -0.20037110173302627, -0.1478296263187379, -0.22457784814201712, -0.1728074477513755, -0.1344543130360459, -0.13844964947728164, -0.1559137186282994, 3.097426621871501, -0.09897526650239001, -0.22454922474063008, -0.19979904327686496, -0.04103219463255286, -0.14564499759940813, -0.13913323052133145, 0.3859296663291388, -0.13783477813689057, -0.13822664432026324, -0.27008795894328, -0.15359919737682334, -0.17170015217023993, -0.1443086303498213, -0.14608067004570302, -0.16604539390454198, -0.13840963258280614, -0.11101056929199452, -0.1372779888005738, 0.5228422049742233, -0.10735892051192321, -0.08871110221830285, -0.1563671758587118, -0.13892342969177798, 0.5426099150721218, -0.19961607917598018, -0.17288425468793853, -0.17084071671712847, -0.12073740355630258, -0.14111651233311945, -0.1568119625310063, 0.32776597484831455, -0.146368763617711], \"y\": [-1.3667236338170765, -1.9880204457681174, -1.0885753092754384, -2.2480104181469884, -1.9881020997838383, -2.1110016755780197, -1.842886353684185, -1.088576851699943, -0.973330423617023, -1.0885910993602084, -1.8398117124405524, -1.2427443388152812, -1.3667120189029283, -1.0886110763273218, -1.0886078248137216, -0.4580059150412343, -1.2317509889771776, -1.0885747906319132, -1.0885761714758564, -1.0885741947462058, -0.9733325037348339, -1.8389821492617915, -1.3663577477599793, -1.0881156443390636, -1.0885697562625127, -1.0885889270832774, -1.0885748351219802, -1.0885750989395822, -1.6240019724235382, -1.0887271970983277, -1.0885684543613554, -1.0885806086979628, -1.0824942906178188, -1.3667221520605228, -1.088606721299545, -1.0885700970878502, -1.0885711478454625, -1.088570108441636, -2.238735886638268, -1.0885724184597951, -1.0934848044489685, -1.3667251289756988, -1.0885495856691376, -1.088579037265512, -1.0886601495581139, -1.0885796868252338, -1.3668161557881642, -1.366722077072617, -1.3667297183729181, -1.3667546548333702, -1.3667236091553903, -0.9733270526618573, -1.0885695094173666, -1.2741667114841895, -1.0886216414711476, -1.3667233034506414, -2.2941221759251045, -2.3070899130251994, -0.1788800703927741, -1.0885813730293192, -1.08905115195097, -1.0885734869730699, -1.0885720931904033, -1.088564009957853, -1.088601242677576, -2.347319127781982, -1.839769311188444, -1.5588679446334313, -1.088567725377615, -1.090425700855629, -2.1662231731533654, -1.0885710817486356, -1.3667261944415467, -1.1255084148677987, -0.9733257690126328, -2.27560964940799, -1.3667382768174003, -0.9733286161378031, -1.0886402734418428, -1.088636064458321, -1.9880727751296507, -2.1610654581214854, -0.9733266068664812, -1.3667221951106956, -1.0885570333260461, -2.19202142642882, -1.0885721243504722, -1.3652193092391203, -0.9733402056306149, -2.181610359810778, -1.088638416900154, -2.227914075952749, -1.0885760741664843, -0.9733312575733045, -1.088571081951934, -0.9733370100361979, -1.678193378691402, -2.3063116785102444, -1.3667245860724275, -1.8398130258709873, -1.0885966695996847, -1.3667236068303505, -1.0885779577722512, -2.2242088569342977, -1.9880691470291623, -2.1110025047472782, -1.0924940679422277, -0.9731422483186186, -0.9733904039292042, -2.3063193020810497, -1.088571794148981, -2.3063169817805473, -2.2755928110299664, -1.0132252699592361, -2.2480876144632727, -1.0885710125559798, -0.9737148728444776, -2.111000285814593, -1.0885644871721762, -2.275589416272184, -2.3394647467949974, -1.0901470596719913, -0.6314660105913853, -1.08857588336047, -1.3671098542350444, -1.088593623597414, -2.248028285689811, -2.1170367364813494, -2.1766491025065964, -2.1909446341164234, -2.306266420127657, -0.9733513019683128, -1.0885703658118584, -1.0885988137118279, -0.9733395048202399, -0.973333977552992, -2.3063263736388415, -2.1981870433159285, -1.092464023607356, -1.121408939873689, -0.9737118698114281, -1.3667236017587914, -1.0927865698097283, -1.0215599249670553, -1.088574605970711, -1.088596670087339, -1.0885959747236005, -1.088595473430613, -2.3063428250306948, -2.1169859806497078, -0.9727837798166404, -1.6239737388589432, -2.1109970743703603, -2.1816478170705493, -1.0885644184803838, -0.9733860368193858, -1.6239799304811235, -1.9881773457845158, -1.623974885197666, -1.8398390745839817, -2.331402984082011, -2.3063142390939646, -1.9918417491852032, -0.9735108041999698, -2.2482129984458012, -1.0887210102268234, -1.3431765700978087, -0.9733335862718632, -1.623969604819555, -1.624025115351117, -1.0885755060409235, -0.9733328799886615, -1.3667222498857594, -1.2184784754173772, -2.6829033928825354, -2.1607719308416713, -2.306383471506967, -1.087900171571011, -2.181590844890534, -1.2742969325169293, -1.088581350930423, -1.0891710778966026, -0.9734293532455945, -1.9905645799565914, -2.306675311795575, -1.0885776474080882, -2.2526036164847922, -2.110991372018945, -2.2243114477904267, -0.9733528658869787, -2.306311211237803, -0.6314499398790577, -2.2755978377560497, -2.2347356719195877, -2.224204753326001, -2.3065521854355566, -2.220802581727649, -2.3608358814967705, -2.2499393730532002, -2.3064503723159477, -1.2507338794585163, -2.214066808762374, -0.9733337100665841, -1.0885793345842212, -2.248713790012113, -2.2789265005160373, -0.5248950434103501, -2.2481653150611467, -1.3665827030613042, -0.973335305330028, -1.2507644026909874, -2.1120635266290417, -2.224231147659523, -1.3667236031996994, -2.308680511125512, -2.2139903968258388, -2.213951635069133, -0.16775976607632428, -2.2720117397351878, -1.0886027684501443, -2.1110854933948033, -2.110997318991052, -1.5589050197347027, -1.3667247942026763, -0.3375129421891574, -1.366751405032057, -1.1279315248473665, -1.6237786204662679, -2.2167484360029697, -1.0886070187500378, -1.3667296942251368, -1.0947830606431446, -1.2317482915403832, -1.0885707632096797, -1.0886115416986666, -1.83979938490785, -2.2318587165492922, -1.988069262271453, -2.3064141878350544, -2.1110017161196613], \"z\": [0.1491679107699875, 0.2939009373710206, -0.006435966754712813, 0.41626304683785337, 0.29389393674100095, 0.35702496412786316, 0.328081107255269, -0.006421519776877672, 0.023503152476732236, -0.006424125378890654, 0.3307596502724092, -0.016914910490656205, 0.14913000931466405, -0.006455146546505726, -0.006424032124804187, 0.002518245808189413, 0.08896472665614191, -0.006428411332860895, -0.00642184232009159, -0.006421068445142326, 0.02350457422632832, 0.327197554858034, 0.14442712193911683, -0.00957469738074961, -0.006424884234617461, -0.006476489313714166, -0.006424870769561082, -0.0064202251452398044, 0.20059001305814292, -0.006654936393922804, -0.006436169251167404, -0.006430894911931018, -0.029025471881625117, 0.14916720816252801, -0.00646056881008819, -0.00642450491679713, -0.006419946422960058, -0.006429289108915063, 0.42232088196249407, -0.0064212271073314856, -0.007355353990235238, 0.1491686197323436, -0.006503244289800544, -0.006420483442885991, -0.006431877394634617, -0.006426750221133166, 0.14902302927108657, 0.14916150959211077, 0.14916622402821444, 0.14916977529588443, 0.14917241651689067, 0.023505908223974192, -0.006425436697652159, 0.13166363455206195, -0.006453494082515602, 0.14916252912773656, 0.30309704845604785, 0.3472289419878189, -0.2715450223979971, -0.006437689485158617, -0.006557797433716265, -0.006454766929878078, -0.006419776397671375, -0.0064578703818943895, -0.006623090379852127, 0.48227061312417574, 0.33117496076467207, 0.2760917374554014, -0.006422009322589877, -0.007717355305138801, 0.3609785471565774, -0.006419818723748583, 0.14916912494641293, -0.00893416984789351, 0.023498115189809266, 0.37523660894912925, 0.1491677219569762, 0.02350207771271053, -0.006432646022734933, -0.006443297874514625, 0.2939220698312097, 0.3106303512910229, 0.023502213512460922, 0.14916722857571424, -0.006472063904801257, 0.3971914084087028, -0.006437476956947325, 0.14375096011202224, 0.023493857522339765, 0.4364923503490033, -0.006424406838162658, 0.3449964518187059, -0.006421670753481672, 0.023502459375501335, -0.006419817967694813, 0.02350518703232214, 0.40589036884629287, 0.34903482778677236, 0.1491708145656069, 0.33093443945581197, -0.006451092413861048, 0.14917015379895168, -0.00642295468026582, 0.4291445063287128, 0.2939183249900467, 0.35702535729670737, -0.006736593552004024, 0.023309425184715068, 0.023486310199391323, 0.34903604788268705, -0.00641993697989151, 0.349034076829206, 0.37524077039479137, 0.02065372668514362, 0.41625937519132605, -0.006420448166502588, 0.02347209370532338, 0.3570251759729213, -0.006444581620865483, 0.3752367659076116, 0.2979552253204983, -0.006543231215763143, -0.060591807579549996, -0.006425140143428305, 0.14881134757151165, -0.006424670120207139, 0.41624865978744874, 0.23091161211353572, 0.3179455968884116, 0.10136653323362066, 0.3485801286303139, 0.023495635767122117, -0.006424220048979264, -0.006422862237256287, 0.023498750209428543, 0.02350507713243807, 0.3490322166537227, 0.3240451942714392, -0.04811535770834509, 0.1778048787482672, 0.023448898952209783, 0.14916789556885202, -0.006706751351870555, -0.03819449792820553, -0.006422366930804196, -0.006425838055866115, -0.006429651105708291, -0.006429888804805398, 0.3490324218534035, 0.35529525810939583, 0.022856429072932272, 0.20064389726112572, 0.3570227823640369, 0.4364826135478746, -0.006444614192590018, 0.023457679063505803, 0.20064291441117485, 0.2939143767281967, 0.20064339582449903, 0.3310643533403285, 0.34242942025729994, 0.3490354976738973, 0.2935358125522005, 0.023473298663720107, 0.41614150963158303, -0.007437131918913724, 0.06666005414220692, 0.02350469566069316, 0.20064324326334684, 0.20056528267609078, -0.006431519294244443, 0.023503664095410836, 0.14916743611697933, 0.16697861025685773, 0.3098982609970521, 0.3825581601003135, 0.34899789721091495, -0.00891489057091646, 0.436467857361035, 0.1315041904021137, -0.006423522819570827, -0.010142529057166479, 0.02344556230144762, 0.2936921926305304, 0.3489917215986132, -0.0064211424743569915, 0.4355926028076434, 0.35700941077719767, 0.4291324985940648, 0.023496377333559793, 0.3490327774721549, -0.06059349488319098, 0.3752396096412557, 0.5294103127672792, 0.4291449335296532, 0.349020421609493, 0.5025584318433027, 0.33483258507398495, 0.34417230266029025, 0.34888506159622773, 0.10293322851274625, 0.3154768117325015, 0.023504493111095773, -0.006420583087265, 0.416215577098829, 0.38777034838064933, 0.22977617018318683, 0.47540513717205785, 0.14864847044217913, 0.023504378708392826, 0.10293073703218554, 0.35587845531064954, 0.42914144744628724, 0.14916789625209032, 0.34840115840588315, 0.2843673711508456, 0.28436638436407097, 0.13243124625253924, 0.4795584604946776, -0.006430783870608828, 0.35701206639765704, 0.35702074609513623, 0.27608754663129736, 0.1491590995488093, -0.06945997919459174, 0.14914907602804264, -0.00911321768353705, 0.19968642374147408, 0.2841740856356005, -0.0066203515280348155, 0.1491662125780127, -0.014359536884102249, 0.08895887573937263, -0.006420923440638334, -0.0064401217371710855, 0.3311886112979074, 0.36366471100502246, 0.2939187535688678, 0.34878077226893184, 0.357024983351575]}, {\"customdata\": [[\"Proof-of-BibleHash\"], [\"SHA-256 + Hive\"], [\"Proof-of-Authority\"]], \"hovertemplate\": \"<b>%{hovertext}</b><br><br>Class=%{marker.color}<br>PC 1=%{x}<br>PC 2=%{y}<br>PC 3=%{z}<br>Algorithm=%{customdata[0]}<extra></extra>\", \"hovertext\": [\"BiblePay\", \"LitecoinCash\", \"Poa Network\"], \"legendgroup\": \"3\", \"marker\": {\"color\": [3, 3, 3], \"coloraxis\": \"coloraxis\", \"symbol\": \"square\"}, \"mode\": \"markers\", \"name\": \"3\", \"scene\": \"scene\", \"showlegend\": true, \"type\": \"scatter3d\", \"x\": [-0.2054718754196596, -0.3651874903830087, -0.4069771986264209], \"y\": [3.194503729920723, 3.422678027275704, 3.0120837753708023], \"z\": [18.28513739169435, 20.942503060491024, 11.801154571292079]}, {\"customdata\": [[\"TRC10\"]], \"hovertemplate\": \"<b>%{hovertext}</b><br><br>Class=%{marker.color}<br>PC 1=%{x}<br>PC 2=%{y}<br>PC 3=%{z}<br>Algorithm=%{customdata[0]}<extra></extra>\", \"hovertext\": [\"BitTorrent\"], \"legendgroup\": \"2\", \"marker\": {\"color\": [2], \"coloraxis\": \"coloraxis\", \"symbol\": \"x\"}, \"mode\": \"markers\", \"name\": \"2\", \"scene\": \"scene\", \"showlegend\": true, \"type\": \"scatter3d\", \"x\": [34.05396306166634], \"y\": [1.7990009867417127], \"z\": [-0.5793493413125455]}],                        {\"coloraxis\": {\"colorbar\": {\"title\": {\"text\": \"Class\"}}, \"colorscale\": [[0.0, \"#0d0887\"], [0.1111111111111111, \"#46039f\"], [0.2222222222222222, \"#7201a8\"], [0.3333333333333333, \"#9c179e\"], [0.4444444444444444, \"#bd3786\"], [0.5555555555555556, \"#d8576b\"], [0.6666666666666666, \"#ed7953\"], [0.7777777777777778, \"#fb9f3a\"], [0.8888888888888888, \"#fdca26\"], [1.0, \"#f0f921\"]]}, \"legend\": {\"title\": {\"text\": \"Class\"}, \"tracegroupgap\": 0, \"x\": 0, \"y\": 1}, \"margin\": {\"t\": 60}, \"scene\": {\"domain\": {\"x\": [0.0, 1.0], \"y\": [0.0, 1.0]}, \"xaxis\": {\"title\": {\"text\": \"PC 1\"}}, \"yaxis\": {\"title\": {\"text\": \"PC 2\"}}, \"zaxis\": {\"title\": {\"text\": \"PC 3\"}}}, \"template\": {\"data\": {\"bar\": [{\"error_x\": {\"color\": \"#2a3f5f\"}, \"error_y\": {\"color\": \"#2a3f5f\"}, \"marker\": {\"line\": {\"color\": \"#E5ECF6\", \"width\": 0.5}}, \"type\": \"bar\"}], \"barpolar\": [{\"marker\": {\"line\": {\"color\": \"#E5ECF6\", \"width\": 0.5}}, \"type\": \"barpolar\"}], \"carpet\": [{\"aaxis\": {\"endlinecolor\": \"#2a3f5f\", \"gridcolor\": \"white\", \"linecolor\": \"white\", \"minorgridcolor\": \"white\", \"startlinecolor\": \"#2a3f5f\"}, \"baxis\": {\"endlinecolor\": \"#2a3f5f\", \"gridcolor\": \"white\", \"linecolor\": \"white\", \"minorgridcolor\": \"white\", \"startlinecolor\": \"#2a3f5f\"}, \"type\": \"carpet\"}], \"choropleth\": [{\"colorbar\": {\"outlinewidth\": 0, \"ticks\": \"\"}, \"type\": \"choropleth\"}], \"contour\": [{\"colorbar\": {\"outlinewidth\": 0, \"ticks\": \"\"}, \"colorscale\": [[0.0, \"#0d0887\"], [0.1111111111111111, \"#46039f\"], [0.2222222222222222, \"#7201a8\"], [0.3333333333333333, \"#9c179e\"], [0.4444444444444444, \"#bd3786\"], [0.5555555555555556, \"#d8576b\"], [0.6666666666666666, \"#ed7953\"], [0.7777777777777778, \"#fb9f3a\"], [0.8888888888888888, \"#fdca26\"], [1.0, \"#f0f921\"]], \"type\": \"contour\"}], \"contourcarpet\": [{\"colorbar\": {\"outlinewidth\": 0, \"ticks\": \"\"}, \"type\": \"contourcarpet\"}], \"heatmap\": [{\"colorbar\": {\"outlinewidth\": 0, \"ticks\": \"\"}, \"colorscale\": [[0.0, \"#0d0887\"], [0.1111111111111111, \"#46039f\"], [0.2222222222222222, \"#7201a8\"], [0.3333333333333333, \"#9c179e\"], [0.4444444444444444, \"#bd3786\"], [0.5555555555555556, \"#d8576b\"], [0.6666666666666666, \"#ed7953\"], [0.7777777777777778, \"#fb9f3a\"], [0.8888888888888888, \"#fdca26\"], [1.0, \"#f0f921\"]], \"type\": \"heatmap\"}], \"heatmapgl\": [{\"colorbar\": {\"outlinewidth\": 0, \"ticks\": \"\"}, \"colorscale\": [[0.0, \"#0d0887\"], [0.1111111111111111, \"#46039f\"], [0.2222222222222222, \"#7201a8\"], [0.3333333333333333, \"#9c179e\"], [0.4444444444444444, \"#bd3786\"], [0.5555555555555556, \"#d8576b\"], [0.6666666666666666, \"#ed7953\"], [0.7777777777777778, \"#fb9f3a\"], [0.8888888888888888, \"#fdca26\"], [1.0, \"#f0f921\"]], \"type\": \"heatmapgl\"}], \"histogram\": [{\"marker\": {\"colorbar\": {\"outlinewidth\": 0, \"ticks\": \"\"}}, \"type\": \"histogram\"}], \"histogram2d\": [{\"colorbar\": {\"outlinewidth\": 0, \"ticks\": \"\"}, \"colorscale\": [[0.0, \"#0d0887\"], [0.1111111111111111, \"#46039f\"], [0.2222222222222222, \"#7201a8\"], [0.3333333333333333, \"#9c179e\"], [0.4444444444444444, \"#bd3786\"], [0.5555555555555556, \"#d8576b\"], [0.6666666666666666, \"#ed7953\"], [0.7777777777777778, \"#fb9f3a\"], [0.8888888888888888, \"#fdca26\"], [1.0, \"#f0f921\"]], \"type\": \"histogram2d\"}], \"histogram2dcontour\": [{\"colorbar\": {\"outlinewidth\": 0, \"ticks\": \"\"}, \"colorscale\": [[0.0, \"#0d0887\"], [0.1111111111111111, \"#46039f\"], [0.2222222222222222, \"#7201a8\"], [0.3333333333333333, \"#9c179e\"], [0.4444444444444444, \"#bd3786\"], [0.5555555555555556, \"#d8576b\"], [0.6666666666666666, \"#ed7953\"], [0.7777777777777778, \"#fb9f3a\"], [0.8888888888888888, \"#fdca26\"], [1.0, \"#f0f921\"]], \"type\": \"histogram2dcontour\"}], \"mesh3d\": [{\"colorbar\": {\"outlinewidth\": 0, \"ticks\": \"\"}, \"type\": \"mesh3d\"}], \"parcoords\": [{\"line\": {\"colorbar\": {\"outlinewidth\": 0, \"ticks\": \"\"}}, \"type\": \"parcoords\"}], \"pie\": [{\"automargin\": true, \"type\": \"pie\"}], \"scatter\": [{\"marker\": {\"colorbar\": {\"outlinewidth\": 0, \"ticks\": \"\"}}, \"type\": \"scatter\"}], \"scatter3d\": [{\"line\": {\"colorbar\": {\"outlinewidth\": 0, \"ticks\": \"\"}}, \"marker\": {\"colorbar\": {\"outlinewidth\": 0, \"ticks\": \"\"}}, \"type\": \"scatter3d\"}], \"scattercarpet\": [{\"marker\": {\"colorbar\": {\"outlinewidth\": 0, \"ticks\": \"\"}}, \"type\": \"scattercarpet\"}], \"scattergeo\": [{\"marker\": {\"colorbar\": {\"outlinewidth\": 0, \"ticks\": \"\"}}, \"type\": \"scattergeo\"}], \"scattergl\": [{\"marker\": {\"colorbar\": {\"outlinewidth\": 0, \"ticks\": \"\"}}, \"type\": \"scattergl\"}], \"scattermapbox\": [{\"marker\": {\"colorbar\": {\"outlinewidth\": 0, \"ticks\": \"\"}}, \"type\": \"scattermapbox\"}], \"scatterpolar\": [{\"marker\": {\"colorbar\": {\"outlinewidth\": 0, \"ticks\": \"\"}}, \"type\": \"scatterpolar\"}], \"scatterpolargl\": [{\"marker\": {\"colorbar\": {\"outlinewidth\": 0, \"ticks\": \"\"}}, \"type\": \"scatterpolargl\"}], \"scatterternary\": [{\"marker\": {\"colorbar\": {\"outlinewidth\": 0, \"ticks\": \"\"}}, \"type\": \"scatterternary\"}], \"surface\": [{\"colorbar\": {\"outlinewidth\": 0, \"ticks\": \"\"}, \"colorscale\": [[0.0, \"#0d0887\"], [0.1111111111111111, \"#46039f\"], [0.2222222222222222, \"#7201a8\"], [0.3333333333333333, \"#9c179e\"], [0.4444444444444444, \"#bd3786\"], [0.5555555555555556, \"#d8576b\"], [0.6666666666666666, \"#ed7953\"], [0.7777777777777778, \"#fb9f3a\"], [0.8888888888888888, \"#fdca26\"], [1.0, \"#f0f921\"]], \"type\": \"surface\"}], \"table\": [{\"cells\": {\"fill\": {\"color\": \"#EBF0F8\"}, \"line\": {\"color\": \"white\"}}, \"header\": {\"fill\": {\"color\": \"#C8D4E3\"}, \"line\": {\"color\": \"white\"}}, \"type\": \"table\"}]}, \"layout\": {\"annotationdefaults\": {\"arrowcolor\": \"#2a3f5f\", \"arrowhead\": 0, \"arrowwidth\": 1}, \"autotypenumbers\": \"strict\", \"coloraxis\": {\"colorbar\": {\"outlinewidth\": 0, \"ticks\": \"\"}}, \"colorscale\": {\"diverging\": [[0, \"#8e0152\"], [0.1, \"#c51b7d\"], [0.2, \"#de77ae\"], [0.3, \"#f1b6da\"], [0.4, \"#fde0ef\"], [0.5, \"#f7f7f7\"], [0.6, \"#e6f5d0\"], [0.7, \"#b8e186\"], [0.8, \"#7fbc41\"], [0.9, \"#4d9221\"], [1, \"#276419\"]], \"sequential\": [[0.0, \"#0d0887\"], [0.1111111111111111, \"#46039f\"], [0.2222222222222222, \"#7201a8\"], [0.3333333333333333, \"#9c179e\"], [0.4444444444444444, \"#bd3786\"], [0.5555555555555556, \"#d8576b\"], [0.6666666666666666, \"#ed7953\"], [0.7777777777777778, \"#fb9f3a\"], [0.8888888888888888, \"#fdca26\"], [1.0, \"#f0f921\"]], \"sequentialminus\": [[0.0, \"#0d0887\"], [0.1111111111111111, \"#46039f\"], [0.2222222222222222, \"#7201a8\"], [0.3333333333333333, \"#9c179e\"], [0.4444444444444444, \"#bd3786\"], [0.5555555555555556, \"#d8576b\"], [0.6666666666666666, \"#ed7953\"], [0.7777777777777778, \"#fb9f3a\"], [0.8888888888888888, \"#fdca26\"], [1.0, \"#f0f921\"]]}, \"colorway\": [\"#636efa\", \"#EF553B\", \"#00cc96\", \"#ab63fa\", \"#FFA15A\", \"#19d3f3\", \"#FF6692\", \"#B6E880\", \"#FF97FF\", \"#FECB52\"], \"font\": {\"color\": \"#2a3f5f\"}, \"geo\": {\"bgcolor\": \"white\", \"lakecolor\": \"white\", \"landcolor\": \"#E5ECF6\", \"showlakes\": true, \"showland\": true, \"subunitcolor\": \"white\"}, \"hoverlabel\": {\"align\": \"left\"}, \"hovermode\": \"closest\", \"mapbox\": {\"style\": \"light\"}, \"paper_bgcolor\": \"white\", \"plot_bgcolor\": \"#E5ECF6\", \"polar\": {\"angularaxis\": {\"gridcolor\": \"white\", \"linecolor\": \"white\", \"ticks\": \"\"}, \"bgcolor\": \"#E5ECF6\", \"radialaxis\": {\"gridcolor\": \"white\", \"linecolor\": \"white\", \"ticks\": \"\"}}, \"scene\": {\"xaxis\": {\"backgroundcolor\": \"#E5ECF6\", \"gridcolor\": \"white\", \"gridwidth\": 2, \"linecolor\": \"white\", \"showbackground\": true, \"ticks\": \"\", \"zerolinecolor\": \"white\"}, \"yaxis\": {\"backgroundcolor\": \"#E5ECF6\", \"gridcolor\": \"white\", \"gridwidth\": 2, \"linecolor\": \"white\", \"showbackground\": true, \"ticks\": \"\", \"zerolinecolor\": \"white\"}, \"zaxis\": {\"backgroundcolor\": \"#E5ECF6\", \"gridcolor\": \"white\", \"gridwidth\": 2, \"linecolor\": \"white\", \"showbackground\": true, \"ticks\": \"\", \"zerolinecolor\": \"white\"}}, \"shapedefaults\": {\"line\": {\"color\": \"#2a3f5f\"}}, \"ternary\": {\"aaxis\": {\"gridcolor\": \"white\", \"linecolor\": \"white\", \"ticks\": \"\"}, \"baxis\": {\"gridcolor\": \"white\", \"linecolor\": \"white\", \"ticks\": \"\"}, \"bgcolor\": \"#E5ECF6\", \"caxis\": {\"gridcolor\": \"white\", \"linecolor\": \"white\", \"ticks\": \"\"}}, \"title\": {\"x\": 0.05}, \"xaxis\": {\"automargin\": true, \"gridcolor\": \"white\", \"linecolor\": \"white\", \"ticks\": \"\", \"title\": {\"standoff\": 15}, \"zerolinecolor\": \"white\", \"zerolinewidth\": 2}, \"yaxis\": {\"automargin\": true, \"gridcolor\": \"white\", \"linecolor\": \"white\", \"ticks\": \"\", \"title\": {\"standoff\": 15}, \"zerolinecolor\": \"white\", \"zerolinewidth\": 2}}}},                        {\"responsive\": true}                    ).then(function(){\n",
       "                            \n",
       "var gd = document.getElementById('a081ddcf-725b-4045-bd53-90b2abe928a2');\n",
       "var x = new MutationObserver(function (mutations, observer) {{\n",
       "        var display = window.getComputedStyle(gd).display;\n",
       "        if (!display || display === 'none') {{\n",
       "            console.log([gd, 'removed!']);\n",
       "            Plotly.purge(gd);\n",
       "            observer.disconnect();\n",
       "        }}\n",
       "}});\n",
       "\n",
       "// Listen for the removal of the full notebook cells\n",
       "var notebookContainer = gd.closest('#notebook-container');\n",
       "if (notebookContainer) {{\n",
       "    x.observe(notebookContainer, {childList: true});\n",
       "}}\n",
       "\n",
       "// Listen for the clearing of the current output cell\n",
       "var outputEl = gd.closest('.output');\n",
       "if (outputEl) {{\n",
       "    x.observe(outputEl, {childList: true});\n",
       "}}\n",
       "\n",
       "                        })                };                });            </script>        </div>"
      ]
     },
     "metadata": {},
     "output_type": "display_data"
    }
   ],
   "source": [
    "# Creating a 3D-Scatter with the PCA data and the clusters\n",
    "fig = px.scatter_3d(\n",
    "    clustered_df,\n",
    "    x=\"PC 1\",\n",
    "    y=\"PC 2\",\n",
    "    z=\"PC 3\",\n",
    "    color=\"Class\",\n",
    "    symbol=\"Class\",\n",
    "    hover_name=\"CoinName\",\n",
    "    hover_data=['Algorithm']\n",
    ")\n",
    "fig.update_layout(legend=dict(x=0,y=1))\n",
    "fig.show()"
   ]
  },
  {
   "cell_type": "code",
   "execution_count": 116,
   "metadata": {},
   "outputs": [
    {
     "data": {},
     "metadata": {},
     "output_type": "display_data"
    },
    {
     "data": {
      "application/vnd.holoviews_exec.v0+json": "",
      "text/html": [
       "<div id='2050'>\n",
       "\n",
       "\n",
       "\n",
       "\n",
       "\n",
       "  <div class=\"bk-root\" id=\"4e3ffac3-298a-4443-84a6-421e2295c092\" data-root-id=\"2050\"></div>\n",
       "</div>\n",
       "<script type=\"application/javascript\">(function(root) {\n",
       "  function embed_document(root) {\n",
       "    var docs_json = {\"3949b1c8-c7b0-4780-8668-59afc99cf31a\":{\"roots\":{\"references\":[{\"attributes\":{\"source\":{\"id\":\"2052\"}},\"id\":\"2085\",\"type\":\"CDSView\"},{\"attributes\":{\"editor\":{\"id\":\"2060\"},\"field\":\"Algorithm\",\"formatter\":{\"id\":\"2059\"},\"title\":\"Algorithm\"},\"id\":\"2061\",\"type\":\"TableColumn\"},{\"attributes\":{},\"id\":\"2075\",\"type\":\"NumberEditor\"},{\"attributes\":{},\"id\":\"2079\",\"type\":\"NumberFormatter\"},{\"attributes\":{\"data\":{\"Algorithm\":[\"Scrypt\",\"Scrypt\",\"X13\",\"SHA-256\",\"Ethash\",\"Scrypt\",\"X11\",\"CryptoNight-V7\",\"Ethash\",\"Equihash\",\"SHA-512\",\"Multiple\",\"SHA-256\",\"SHA-256\",\"Scrypt\",\"X15\",\"X11\",\"Scrypt\",\"Scrypt\",\"Scrypt\",\"Multiple\",\"Scrypt\",\"SHA-256\",\"Scrypt\",\"Scrypt\",\"Scrypt\",\"Quark\",\"Groestl\",\"Scrypt\",\"Scrypt\",\"Scrypt\",\"Scrypt\",\"Scrypt\",\"X11\",\"Scrypt\",\"Groestl\",\"Multiple\",\"SHA-256\",\"Scrypt\",\"Scrypt\",\"Scrypt\",\"Scrypt\",\"PoS\",\"Scrypt\",\"Scrypt\",\"NeoScrypt\",\"Scrypt\",\"Scrypt\",\"Scrypt\",\"Scrypt\",\"X11\",\"Scrypt\",\"X11\",\"SHA-256\",\"Scrypt\",\"Scrypt\",\"Scrypt\",\"SHA3\",\"Scrypt\",\"HybridScryptHash256\",\"Scrypt\",\"Scrypt\",\"SHA-256\",\"Scrypt\",\"X13\",\"Scrypt\",\"SHA-256\",\"Scrypt\",\"X13\",\"NeoScrypt\",\"Scrypt\",\"Scrypt\",\"Scrypt\",\"Scrypt\",\"Scrypt\",\"Scrypt\",\"X11\",\"X11\",\"SHA-256\",\"Multiple\",\"SHA-256\",\"PHI1612\",\"X11\",\"SHA-256\",\"SHA-256\",\"SHA-256\",\"X11\",\"Scrypt\",\"Scrypt\",\"Scrypt\",\"Scrypt\",\"Lyra2REv2\",\"Scrypt\",\"X11\",\"Multiple\",\"SHA-256\",\"X13\",\"Scrypt\",\"CryptoNight\",\"CryptoNight\",\"Shabal256\",\"Counterparty\",\"Scrypt\",\"SHA-256\",\"Groestl\",\"Scrypt\",\"Scrypt\",\"Scrypt\",\"X13\",\"Scrypt\",\"Scrypt\",\"Scrypt\",\"Scrypt\",\"X13\",\"Scrypt\",\"Stanford Folding\",\"X11\",\"Multiple\",\"QuBit\",\"Scrypt\",\"Scrypt\",\"Scrypt\",\"M7 POW\",\"Scrypt\",\"SHA-256\",\"Scrypt\",\"X11\",\"SHA3\",\"X11\",\"Lyra2RE\",\"SHA-256\",\"QUAIT\",\"X11\",\"X11\",\"Scrypt\",\"Scrypt\",\"Scrypt\",\"Ethash\",\"X13\",\"Blake2b\",\"SHA-256\",\"X15\",\"X11\",\"SHA-256\",\"BLAKE256\",\"Scrypt\",\"1GB AES Pattern Search\",\"SHA-256\",\"X11\",\"Scrypt\",\"SHA-256\",\"SHA-256\",\"NIST5\",\"Scrypt\",\"Scrypt\",\"X11\",\"Dagger\",\"Scrypt\",\"X11GOST\",\"X11\",\"Scrypt\",\"SHA-256\",\"Scrypt\",\"PoS\",\"Scrypt\",\"X11\",\"X11\",\"SHA-256\",\"SHA-256\",\"NIST5\",\"X11\",\"Scrypt\",\"POS 3.0\",\"Scrypt\",\"Scrypt\",\"Scrypt\",\"X13\",\"X11\",\"X11\",\"Equihash\",\"X11\",\"Scrypt\",\"CryptoNight\",\"SHA-256\",\"SHA-256\",\"X11\",\"Scrypt\",\"Multiple\",\"Scrypt\",\"Scrypt\",\"Scrypt\",\"SHA-256\",\"Scrypt\",\"Scrypt\",\"SHA-256D\",\"PoS\",\"Scrypt\",\"X11\",\"Lyra2Z\",\"PoS\",\"X13\",\"X14\",\"PoS\",\"SHA-256D\",\"Ethash\",\"Equihash\",\"DPoS\",\"X11\",\"Scrypt\",\"X11\",\"X13\",\"X11\",\"PoS\",\"Scrypt\",\"Scrypt\",\"X11\",\"PoS\",\"X11\",\"SHA-256\",\"Scrypt\",\"X11\",\"Scrypt\",\"Scrypt\",\"X11\",\"CryptoNight\",\"Scrypt\",\"Scrypt\",\"Scrypt\",\"Scrypt\",\"Quark\",\"QuBit\",\"Scrypt\",\"CryptoNight\",\"Lyra2RE\",\"Scrypt\",\"SHA-256\",\"X11\",\"Scrypt\",\"X11\",\"Scrypt\",\"CryptoNight-V7\",\"Scrypt\",\"Scrypt\",\"Scrypt\",\"X13\",\"X11\",\"Equihash\",\"Scrypt\",\"Scrypt\",\"Lyra2RE\",\"Scrypt\",\"Dagger-Hashimoto\",\"X11\",\"Blake2S\",\"X11\",\"Scrypt\",\"PoS\",\"X11\",\"NIST5\",\"PoS\",\"X11\",\"Scrypt\",\"Scrypt\",\"Scrypt\",\"SHA-256\",\"X11\",\"Scrypt\",\"Scrypt\",\"SHA-256\",\"PoS\",\"Scrypt\",\"X15\",\"SHA-256\",\"Scrypt\",\"POS 3.0\",\"CryptoNight-V7\",\"536\",\"Argon2d\",\"Blake2b\",\"Cloverhash\",\"CryptoNight\",\"NIST5\",\"X11\",\"NIST5\",\"Skein\",\"Scrypt\",\"X13\",\"Scrypt\",\"X11\",\"X11\",\"Scrypt\",\"CryptoNight\",\"X13\",\"Time Travel\",\"Scrypt\",\"Keccak\",\"SkunkHash v2 Raptor\",\"X11\",\"Skein\",\"SHA-256\",\"X11\",\"Scrypt\",\"VeChainThor Authority\",\"Scrypt\",\"PoS\",\"Scrypt\",\"Scrypt\",\"Scrypt\",\"Scrypt\",\"Scrypt\",\"Scrypt\",\"Scrypt\",\"CryptoNight\",\"SHA-512\",\"Ouroboros\",\"X11\",\"Equihash\",\"NeoScrypt\",\"X11\",\"Scrypt\",\"NeoScrypt\",\"Lyra2REv2\",\"Equihash\",\"Scrypt\",\"SHA-256\",\"NIST5\",\"PHI1612\",\"Dagger\",\"Scrypt\",\"Quark\",\"Scrypt\",\"POS 2.0\",\"Scrypt\",\"SHA-256\",\"X11\",\"NeoScrypt\",\"Ethash\",\"NeoScrypt\",\"X11\",\"DPoS\",\"NIST5\",\"X13\",\"Multiple\",\"Scrypt\",\"CryptoNight\",\"CryptoNight\",\"Ethash\",\"NIST5\",\"Quark\",\"X11\",\"CryptoNight-V7\",\"Scrypt\",\"Scrypt\",\"Scrypt\",\"X11\",\"BLAKE256\",\"X11\",\"NeoScrypt\",\"Quark\",\"NeoScrypt\",\"Scrypt\",\"Scrypt\",\"Scrypt\",\"X11\",\"X11\",\"SHA-256\",\"C11\",\"POS 3.0\",\"Ethash\",\"Scrypt\",\"CryptoNight\",\"SkunkHash\",\"Scrypt\",\"CryptoNight\",\"Scrypt\",\"Dagger\",\"Lyra2REv2\",\"X13\",\"Proof-of-BibleHash\",\"SHA-256 + Hive\",\"Scrypt\",\"Scrypt\",\"X11\",\"C11\",\"Proof-of-Authority\",\"X11\",\"XEVAN\",\"Scrypt\",\"VBFT\",\"Ethash\",\"CryptoNight\",\"Scrypt\",\"IMesh\",\"NIST5\",\"Scrypt\",\"Scrypt\",\"Equihash\",\"Scrypt\",\"Lyra2Z\",\"Green Protocol\",\"PoS\",\"Scrypt\",\"Semux BFT consensus\",\"X11\",\"Quark\",\"PoS\",\"CryptoNight\",\"X16R\",\"Scrypt\",\"NIST5\",\"Lyra2RE\",\"XEVAN\",\"Tribus\",\"Scrypt\",\"Lyra2Z\",\"CryptoNight\",\"CryptoNight Heavy\",\"CryptoNight\",\"Scrypt\",\"Scrypt\",\"Jump Consistent Hash\",\"SHA-256D\",\"CryptoNight\",\"Scrypt\",\"X15\",\"Scrypt\",\"Quark\",\"SHA-256\",\"DPoS\",\"X16R\",\"HMQ1725\",\"X11\",\"X16R\",\"Quark\",\"Quark\",\"Scrypt\",\"Lyra2REv2\",\"Quark\",\"Scrypt\",\"Scrypt\",\"CryptoNight-V7\",\"Cryptonight-GPU\",\"XEVAN\",\"CryptoNight Heavy\",\"X11\",\"X11\",\"Scrypt\",\"PoS\",\"SHA-256\",\"Keccak\",\"X11\",\"X11\",\"Scrypt\",\"SHA-512\",\"X16R\",\"ECC 256K1\",\"Equihash\",\"XEVAN\",\"Lyra2Z\",\"SHA-256\",\"XEVAN\",\"X11\",\"CryptoNight\",\"Quark\",\"Blake\",\"Blake\",\"Equihash\",\"Exosis\",\"Scrypt\",\"Scrypt\",\"Equihash\",\"Quark\",\"Equihash\",\"Quark\",\"Scrypt\",\"QuBit\",\"X11\",\"Scrypt\",\"XEVAN\",\"SHA-256D\",\"X11\",\"SHA-256\",\"X13\",\"SHA-256\",\"X11\",\"DPoS\",\"Scrypt\",\"Scrypt\",\"X11\",\"NeoScrypt\",\"Scrypt\",\"Blake\",\"Scrypt\",\"SHA-256\",\"Scrypt\",\"X11\",\"Scrypt\",\"Scrypt\",\"SHA-256\",\"X11\",\"SHA-256\",\"Scrypt\",\"Scrypt\",\"Scrypt\",\"Groestl\",\"X11\",\"Scrypt\",\"PoS\",\"Scrypt\",\"Scrypt\",\"X11\",\"SHA-256\",\"DPoS\",\"Scrypt\",\"Scrypt\",\"NeoScrypt\",\"Multiple\",\"X13\",\"Equihash+Scrypt\",\"DPoS\",\"Ethash\",\"DPoS\",\"SHA-256\",\"Leased POS\",\"PoS\",\"TRC10\",\"PoS\",\"SHA-256\",\"Scrypt\",\"CryptoNight\",\"Equihash\",\"Scrypt\"],\"Class\":{\"__ndarray__\":\"AQAAAAEAAAABAAAAAAAAAAAAAAAAAAAAAQAAAAAAAAAAAAAAAAAAAAEAAAAAAAAAAQAAAAEAAAAAAAAAAQAAAAAAAAAAAAAAAQAAAAEAAAAAAAAAAAAAAAAAAAAAAAAAAAAAAAEAAAAAAAAAAAAAAAAAAAABAAAAAAAAAAEAAAAAAAAAAAAAAAEAAAABAAAAAAAAAAAAAAAAAAAAAAAAAAAAAAAAAAAAAQAAAAEAAAAAAAAAAAAAAAAAAAAAAAAAAAAAAAEAAAABAAAAAAAAAAEAAAAAAAAAAAAAAAAAAAAAAAAAAQAAAAAAAAAAAAAAAQAAAAAAAAABAAAAAQAAAAEAAAAAAAAAAAAAAAAAAAABAAAAAQAAAAEAAAABAAAAAQAAAAAAAAAAAAAAAAAAAAEAAAABAAAAAAAAAAEAAAAAAAAAAQAAAAEAAAAAAAAAAAAAAAAAAAAAAAAAAQAAAAEAAAAAAAAAAQAAAAAAAAAAAAAAAQAAAAEAAAAAAAAAAQAAAAEAAAAAAAAAAAAAAAAAAAABAAAAAAAAAAEAAAABAAAAAAAAAAEAAAAAAAAAAQAAAAAAAAABAAAAAAAAAAEAAAABAAAAAAAAAAAAAAABAAAAAAAAAAAAAAAAAAAAAQAAAAAAAAAAAAAAAAAAAAAAAAAAAAAAAQAAAAEAAAAAAAAAAAAAAAAAAAABAAAAAAAAAAEAAAAAAAAAAAAAAAEAAAAAAAAAAQAAAAAAAAABAAAAAQAAAAAAAAAAAAAAAQAAAAAAAAAAAAAAAQAAAAEAAAAAAAAAAQAAAAAAAAABAAAAAQAAAAEAAAAAAAAAAAAAAAAAAAAAAAAAAQAAAAEAAAABAAAAAQAAAAEAAAAAAAAAAAAAAAEAAAABAAAAAQAAAAEAAAABAAAAAAAAAAEAAAABAAAAAQAAAAEAAAABAAAAAAAAAAEAAAAAAAAAAQAAAAEAAAAAAAAAAQAAAAAAAAABAAAAAQAAAAAAAAABAAAAAAAAAAEAAAAAAAAAAQAAAAAAAAABAAAAAQAAAAEAAAABAAAAAAAAAAEAAAABAAAAAQAAAAEAAAABAAAAAAAAAAAAAAABAAAAAQAAAAAAAAAAAAAAAQAAAAEAAAABAAAAAQAAAAEAAAAAAAAAAQAAAAEAAAABAAAAAQAAAAEAAAABAAAAAQAAAAEAAAAAAAAAAQAAAAEAAAABAAAAAQAAAAEAAAABAAAAAAAAAAAAAAAAAAAAAQAAAAEAAAABAAAAAQAAAAAAAAABAAAAAAAAAAEAAAABAAAAAAAAAAEAAAAAAAAAAAAAAAEAAAAAAAAAAAAAAAEAAAAAAAAAAQAAAAEAAAABAAAAAAAAAAEAAAABAAAAAAAAAAEAAAABAAAAAQAAAAEAAAABAAAAAQAAAAEAAAAAAAAAAQAAAAAAAAABAAAAAQAAAAEAAAABAAAAAAAAAAEAAAAAAAAAAQAAAAAAAAAAAAAAAAAAAAAAAAABAAAAAAAAAAEAAAABAAAAAAAAAAEAAAAAAAAAAAAAAAAAAAABAAAAAAAAAAEAAAAAAAAAAAAAAAAAAAABAAAAAAAAAAEAAAAAAAAAAQAAAAEAAAABAAAAAAAAAAEAAAAAAAAAAAAAAAAAAAAAAAAAAAAAAAEAAAABAAAAAAAAAAEAAAABAAAAAQAAAAAAAAABAAAAAAAAAAEAAAAAAAAAAQAAAAAAAAABAAAAAQAAAAEAAAABAAAAAAAAAAEAAAABAAAAAAAAAAEAAAABAAAAAQAAAAAAAAAAAAAAAAAAAAAAAAABAAAAAQAAAAEAAAABAAAAAAAAAAEAAAAAAAAAAAAAAAAAAAABAAAAAQAAAAAAAAAAAAAAAQAAAAEAAAAAAAAAAQAAAAAAAAAAAAAAAAAAAAEAAAAAAAAAAAAAAAEAAAABAAAAAQAAAAAAAAAAAAAAAAAAAAEAAAABAAAAAQAAAAAAAAAAAAAAAQAAAAAAAAAAAAAAAAAAAAAAAAABAAAAAwAAAAMAAAAAAAAAAAAAAAAAAAABAAAAAwAAAAEAAAABAAAAAQAAAAEAAAAAAAAAAAAAAAAAAAAAAAAAAQAAAAEAAAABAAAAAAAAAAEAAAAAAAAAAQAAAAEAAAABAAAAAQAAAAAAAAABAAAAAQAAAAAAAAABAAAAAQAAAAAAAAAAAAAAAQAAAAAAAAABAAAAAAAAAAAAAAAAAAAAAAAAAAEAAAABAAAAAAAAAAEAAAAAAAAAAQAAAAEAAAABAAAAAQAAAAEAAAABAAAAAAAAAAAAAAAAAAAAAQAAAAEAAAABAAAAAQAAAAEAAAABAAAAAAAAAAEAAAAAAAAAAAAAAAAAAAAAAAAAAQAAAAEAAAABAAAAAQAAAAAAAAABAAAAAQAAAAAAAAABAAAAAQAAAAAAAAABAAAAAAAAAAEAAAAAAAAAAAAAAAEAAAABAAAAAAAAAAEAAAAAAAAAAAAAAAAAAAAAAAAAAAAAAAEAAAAAAAAAAQAAAAAAAAABAAAAAQAAAAAAAAABAAAAAQAAAAEAAAABAAAAAQAAAAAAAAAAAAAAAAAAAAEAAAABAAAAAQAAAAAAAAABAAAAAAAAAAEAAAAAAAAAAQAAAAEAAAABAAAAAQAAAAAAAAABAAAAAQAAAAEAAAAAAAAAAQAAAAAAAAABAAAAAAAAAAEAAAABAAAAAQAAAAAAAAAAAAAAAQAAAAEAAAABAAAAAQAAAAEAAAABAAAAAAAAAAEAAAAAAAAAAQAAAAAAAAABAAAAAQAAAAEAAAABAAAAAgAAAAEAAAABAAAAAQAAAAAAAAAAAAAAAQAAAA==\",\"dtype\":\"int32\",\"order\":\"little\",\"shape\":[532]},\"CoinName\":[\"42 Coin\",\"404Coin\",\"EliteCoin\",\"Bitcoin\",\"Ethereum\",\"Litecoin\",\"Dash\",\"Monero\",\"Ethereum Classic\",\"ZCash\",\"Bitshares\",\"DigiByte\",\"BitcoinDark\",\"PayCoin\",\"ProsperCoin\",\"KoboCoin\",\"Spreadcoin\",\"Argentum\",\"Aurora Coin\",\"BlueCoin\",\"MyriadCoin\",\"MoonCoin\",\"ZetaCoin\",\"SexCoin\",\"Quatloo\",\"EnergyCoin\",\"QuarkCoin\",\"Riecoin\",\"Digitalcoin \",\"BitBar\",\"Catcoin\",\"CryptoBullion\",\"CannaCoin\",\"CryptCoin\",\"CasinoCoin\",\"Diamond\",\"Verge\",\"DevCoin\",\"EarthCoin\",\"E-Gulden\",\"Einsteinium\",\"Emerald\",\"Exclusive Coin\",\"FlutterCoin\",\"Franko\",\"FeatherCoin\",\"GrandCoin\",\"GlobalCoin\",\"GoldCoin\",\"HoboNickels\",\"HyperStake\",\"Infinite Coin\",\"IOCoin\",\"IXcoin\",\"KrugerCoin\",\"LuckyCoin\",\"Litebar \",\"MaxCoin\",\"MegaCoin\",\"MediterraneanCoin\",\"MintCoin\",\"MinCoin\",\"MazaCoin\",\"Nautilus Coin\",\"NavCoin\",\"NobleCoin\",\"Namecoin\",\"NyanCoin\",\"OpalCoin\",\"Orbitcoin\",\"PotCoin\",\"PhoenixCoin\",\"Reddcoin\",\"RonPaulCoin\",\"StableCoin\",\"SmartCoin\",\"SuperCoin\",\"SyncCoin\",\"SysCoin\",\"TeslaCoin\",\"TigerCoin\",\"TittieCoin\",\"TorCoin\",\"TerraCoin\",\"UnbreakableCoin\",\"Unobtanium\",\"UroCoin\",\"UnitaryStatus Dollar\",\"UltraCoin\",\"ViaCoin\",\"VeriCoin\",\"Vertcoin\",\"WorldCoin\",\"X11 Coin\",\"Crypti\",\"JouleCoin\",\"StealthCoin\",\"ZCC Coin\",\"ByteCoin\",\"DigitalNote \",\"BurstCoin\",\"StorjCoin\",\"MonaCoin\",\"Neutron\",\"FairCoin\",\"Gulden\",\"RubyCoin\",\"PesetaCoin\",\"Kore\",\"Wild Beast Coin\",\"Dnotes\",\"Flo\",\"8BIT Coin\",\"Sativa Coin\",\"ArtByte\",\"Folding Coin\",\"Ucoin\",\"Unitus\",\"CypherPunkCoin\",\"OmniCron\",\"Vtorrent\",\"GreenCoin\",\"Cryptonite\",\"MasterCoin\",\"SoonCoin\",\"1Credit\",\"IslaCoin\",\"Nexus\",\"MarsCoin \",\"Crypto\",\"Anarchists Prime\",\"Droidz\",\"BowsCoin\",\"Squall Coin\",\"Song Coin\",\"BitZeny\",\"Diggits\",\"Expanse\",\"Paycon\",\"Siacoin\",\"Emercoin\",\"EverGreenCoin\",\"MindCoin\",\"I0coin\",\"Decred\",\"Revolution VR\",\"HOdlcoin\",\"EDRCoin\",\"Hitcoin\",\"Gamecredits\",\"DubaiCoin\",\"CarpeDiemCoin\",\"PWR Coin\",\"BillaryCoin\",\"GPU Coin\",\"Adzcoin\",\"SoilCoin\",\"YoCoin\",\"SibCoin\",\"EuropeCoin\",\"ZeitCoin\",\"SwingCoin\",\"SafeExchangeCoin\",\"Nebuchadnezzar\",\"Francs\",\"BolivarCoin\",\"Ratecoin\",\"Revenu\",\"Clockcoin\",\"VIP Tokens\",\"BitSend\",\"Omni\",\"Let it Ride\",\"PutinCoin\",\"iBankCoin\",\"Frankywillcoin\",\"MudraCoin\",\"PizzaCoin\",\"Lutetium Coin\",\"Komodo\",\"GoldBlocks\",\"CarterCoin\",\"Karbo\",\"BitTokens\",\"ZayedCoin\",\"MustangCoin\",\"ZoneCoin\",\"Circuits of Value\",\"RootCoin\",\"DopeCoin\",\"BitCurrency\",\"DollarCoin\",\"Swiscoin\",\"Shilling\",\"BuzzCoin\",\"Opair\",\"PesoBit\",\"Halloween Coin\",\"ZCoin\",\"CoffeeCoin\",\"RoyalCoin\",\"GanjaCoin V2\",\"TeamUP\",\"LanaCoin\",\"Elementrem\",\"ZClassic\",\"ARK\",\"InsaneCoin\",\"KiloCoin\",\"ArtexCoin\",\"EmberCoin\",\"XenixCoin\",\"FreeCoin\",\"PLNCoin\",\"AquariusCoin\",\"Kurrent\",\"Creatio\",\"Eternity\",\"Eurocoin\",\"BitcoinFast\",\"Stakenet\",\"BitConnect Coin\",\"MoneyCoin\",\"Enigma\",\"Cannabis Industry Coin\",\"Russiacoin\",\"PandaCoin\",\"GameUnits\",\"GAKHcoin\",\"Allsafe\",\"LiteCreed\",\"OsmiumCoin\",\"Bikercoins\",\"HexxCoin\",\"Klingon Empire Darsek\",\"Internet of People\",\"KushCoin\",\"Printerium\",\"PacCoin\",\"Impeach\",\"Citadel\",\"Zilbercoin\",\"FirstCoin\",\"BeaverCoin\",\"FindCoin\",\"VaultCoin\",\"Zero\",\"OpenChat\",\"Canada eCoin\",\"Zoin\",\"RenosCoin\",\"DubaiCoin\",\"VirtacoinPlus\",\"TajCoin\",\"Impact\",\"EB3coin\",\"Atmos\",\"HappyCoin\",\"Coinonat\",\"MacronCoin\",\"Condensate\",\"Independent Money System\",\"ArgusCoin\",\"LomoCoin\",\"ProCurrency\",\"GoldReserve\",\"BenjiRolls\",\"GrowthCoin\",\"ILCoin\",\"Phreak\",\"Degas Coin\",\"HTML5 Coin\",\"Ultimate Secure Cash\",\"EquiTrader\",\"QTUM\",\"Quantum Resistant Ledger\",\"Espers\",\"Dynamic\",\"Nano\",\"ChanCoin\",\"Dinastycoin\",\"Denarius\",\"DigitalPrice\",\"Virta Unique Coin\",\"Bitcoin Planet\",\"Unify\",\"BritCoin\",\"SocialCoin\",\"ArcticCoin\",\"DAS\",\"Linda\",\"LeviarCoin\",\"DeepOnion\",\"Bitcore\",\"gCn Coin\",\"SmartCash\",\"Signatum\",\"Onix\",\"Cream\",\"Bitcoin Cash\",\"Monoeci\",\"Draftcoin\",\"Vechain\",\"Sojourn Coin\",\"Stakecoin\",\"NewYorkCoin\",\"FrazCoin\",\"Kronecoin\",\"AdCoin\",\"Linx\",\"CoinonatX\",\"Ethereum Dark\",\"Sumokoin\",\"Obsidian\",\"Cardano\",\"Regalcoin\",\"BitcoinZ\",\"TrezarCoin\",\"Elements\",\"TerraNovaCoin\",\"VIVO Coin\",\"Rupee\",\"Bitcoin Gold\",\"WomenCoin\",\"Theresa May Coin\",\"NamoCoin\",\"LUXCoin\",\"Pirl\",\"Xios\",\"Bitcloud 2.0\",\"eBoost\",\"KekCoin\",\"BlackholeCoin\",\"Infinity Economics\",\"Pura\",\"Innova\",\"Ellaism\",\"GoByte\",\"Magnet\",\"Lamden Tau\",\"Electra\",\"Bitcoin Diamond\",\"SHIELD\",\"Cash & Back Coin\",\"UltraNote\",\"BitCoal\",\"DaxxCoin\",\"Bulwark\",\"Kalkulus\",\"AC3\",\"Lethean\",\"GermanCoin\",\"LiteCoin Ultra\",\"PopularCoin\",\"PhantomX\",\"Photon\",\"Sucre\",\"SparksPay\",\"Digiwage\",\"GunCoin\",\"IrishCoin\",\"Trollcoin\",\"Litecoin Plus\",\"Monkey Project\",\"Pioneer Coin\",\"UnitedBitcoin\",\"Interzone\",\"TokenPay\",\"1717 Masonic Commemorative Token\",\"My Big Coin\",\"TurtleCoin\",\"MUNcoin\",\"Unified Society USDEX\",\"Niobio Cash\",\"ShareChain\",\"Travelflex\",\"KREDS\",\"Tokyo Coin\",\"BiblePay\",\"LitecoinCash\",\"BitFlip\",\"LottoCoin\",\"Crypto Improvement Fund\",\"Stipend\",\"Poa Network\",\"Pushi\",\"Ellerium\",\"Velox\",\"Ontology\",\"Callisto Network\",\"BitTube\",\"Poseidon\",\"Aidos Kuneen\",\"Bitspace\",\"Briacoin\",\"Ignition\",\"Bitrolium\",\"MedicCoin\",\"Alpenschillling\",\"Bitcoin Green\",\"Deviant Coin\",\"Abjcoin\",\"Semux\",\"FuturoCoin\",\"Carebit\",\"Zealium\",\"Monero Classic\",\"Proton\",\"iDealCash\",\"Jumpcoin\",\"Infinex\",\"Bitcoin Incognito\",\"KEYCO\",\"HollyWoodCoin\",\"GINcoin\",\"PlatinCoin\",\"Loki\",\"Newton Coin\",\"Swisscoin\",\"Xt3ch\",\"MassGrid\",\"TheVig\",\"PluraCoin\",\"EmaratCoin\",\"Dekado\",\"Lynx\",\"Poseidon Quark\",\"BitcoinWSpectrum\",\"Muse\",\"Motion\",\"PlusOneCoin\",\"Axe\",\"Trivechain\",\"Dystem\",\"Giant\",\"Peony Coin\",\"Absolute Coin\",\"Vitae\",\"HexCoin\",\"TPCash\",\"Webchain\",\"Ryo\",\"Urals Coin\",\"Qwertycoin\",\"ARENON\",\"EUNO\",\"MMOCoin\",\"Ketan\",\"Project Pai\",\"XDNA\",\"PAXEX\",\"Azart\",\"ThunderStake\",\"Kcash\",\"Xchange\",\"Acute Angle Cloud\",\"CrypticCoin\",\"Bettex coin\",\"Actinium\",\"Bitcoin SV\",\"BitMoney\",\"Junson Ming Chan Coin\",\"FREDEnergy\",\"HerbCoin\",\"Universal Molecule\",\"Lithium\",\"PirateCash\",\"Exosis\",\"Block-Logic\",\"Oduwa\",\"Beam\",\"Galilel\",\"Bithereum\",\"Crypto Sports\",\"Credit\",\"SLICE\",\"Dash Platinum\",\"Nasdacoin\",\"Beetle Coin\",\"Titan Coin\",\"Award\",\"BLAST\",\"Bitcoin Rhodium\",\"GlobalToken\",\"Insane Coin\",\"ALAX\",\"LiteDoge\",\"SolarCoin\",\"TruckCoin\",\"UFO Coin\",\"OrangeCoin\",\"BlakeCoin\",\"BitstarCoin\",\"NeosCoin\",\"HyperCoin\",\"PinkCoin\",\"Crypto Escudo\",\"AudioCoin\",\"IncaKoin\",\"Piggy Coin\",\"Crown Coin\",\"Genstake\",\"SmileyCoin\",\"XiaoMiCoin\",\"Groestlcoin\",\"CapriCoin\",\" ClubCoin\",\"Radium\",\"Bata\",\"Pakcoin\",\"Creditbit \",\"OKCash\",\"Lisk\",\"HiCoin\",\"WhiteCoin\",\"FriendshipCoin\",\"JoinCoin\",\"Triangles Coin\",\"Vollar\",\"EOS\",\"Reality Clash\",\"Oxycoin\",\"TigerCash\",\"Waves\",\"Particl\",\"BitTorrent\",\"Nxt\",\"ZEPHYR\",\"Gapcoin\",\"Beldex\",\"Horizen\",\"BitcoinPlus\"],\"ProofType\":[\"PoW/PoS\",\"PoW/PoS\",\"PoW/PoS\",\"PoW\",\"PoW\",\"PoW\",\"PoW/PoS\",\"PoW\",\"PoW\",\"PoW\",\"PoS\",\"PoW\",\"PoW/PoS\",\"PoS\",\"PoW\",\"PoW/PoS\",\"PoW\",\"PoW\",\"PoW/PoS\",\"PoW/PoS\",\"PoW\",\"PoW\",\"PoW\",\"PoW\",\"PoW\",\"PoW/PoS\",\"PoW\",\"PoW\",\"PoW\",\"PoW/PoS\",\"PoW\",\"PoW/PoS\",\"PoW\",\"PoW\",\"PoC\",\"PoW/PoS\",\"PoW\",\"PoW\",\"PoW\",\"PoW\",\"PoW\",\"PoW\",\"PoS\",\"PoS/PoW/PoT\",\"PoW\",\"PoW\",\"PoW\",\"PoW\",\"PoW\",\"PoW/PoS\",\"PoS\",\"PoW\",\"PoW/PoS\",\"PoW\",\"PoW\",\"PoW\",\"PoW\",\"PoW/PoS\",\"PoW\",\"PoW\",\"PoS\",\"PoW\",\"PoW/PoS\",\"PoS\",\"PoW/PoS\",\"PoW\",\"PoW\",\"PoW\",\"PoW/PoS\",\"PoW/PoS\",\"PoW/PoS\",\"PoW/PoS\",\"PoW/PoS\",\"PoW\",\"PoW\",\"PoW\",\"PoS\",\"PoW/PoS\",\"PoW\",\"PoS\",\"PoW\",\"PoS\",\"PoW/PoS\",\"PoW\",\"PoW\",\"PoW\",\"PoW\",\"PoW/PoS\",\"PoW/PoS\",\"PoW\",\"PoST\",\"PoW\",\"PoW\",\"PoW/PoS\",\"PoS\",\"PoW\",\"PoW/PoS\",\"PoW/PoS\",\"PoW\",\"PoW\",\"PoC\",\"PoS\",\"PoW\",\"PoW/PoS\",\"PoW/PoS\",\"PoW\",\"PoS\",\"PoW\",\"PoW/PoS\",\"PoW\",\"PoS\",\"PoW\",\"PoW/PoS\",\"PoW/PoS\",\"PoW\",\"PoW\",\"PoS\",\"PoW\",\"PoW\",\"PoW\",\"PoW/PoS\",\"PoW\",\"PoW\",\"PoW\",\"PoW\",\"PoW\",\"PoW/PoS\",\"PoW/nPoS\",\"PoW\",\"PoW\",\"PoW\",\"PoW/PoS\",\"PoW\",\"PoS/PoW\",\"PoW\",\"PoW\",\"PoS\",\"PoW\",\"PoW/PoS\",\"PoW\",\"PoW/PoS\",\"PoW/PoS\",\"PoW\",\"PoW\",\"PoW/PoS\",\"PoW\",\"PoW\",\"PoW/PoS\",\"PoW/PoS\",\"PoW\",\"PoW/PoS\",\"PoW\",\"PoW/PoS\",\"PoW/PoS\",\"PoS\",\"PoW\",\"PoW\",\"PoW\",\"PoW\",\"PoW/PoS\",\"PoS\",\"PoW/PoS\",\"PoC\",\"PoS\",\"PoW\",\"PoW\",\"PoW/PoS\",\"PoW/PoS\",\"PoW/PoS\",\"PoW/PoS\",\"PoW/PoS\",\"PoW\",\"PoS\",\"PoW/PoS\",\"PoW/PoS\",\"PoW/PoS\",\"PoS\",\"PoW\",\"PoS\",\"dPoW/PoW\",\"PoW/PoS\",\"PoW/PoS\",\"PoW\",\"PoW/PoS\",\"PoW\",\"PoW/PoS\",\"PoW/PoS\",\"PoW\",\"PoW/PoS\",\"PoW\",\"PoS\",\"PoW\",\"PoW/PoW\",\"PoW\",\"PoW/PoS\",\"PoS\",\"PoW/PoS\",\"PoW/PoS\",\"PoW\",\"PoS\",\"PoS\",\"PoW/PoS\",\"PoS\",\"PoW/PoS\",\"PoW\",\"PoW\",\"DPoS\",\"PoW/PoS\",\"PoW\",\"PoW\",\"PoW/PoS\",\"PoW/PoS\",\"PoS\",\"PoW/PoS\",\"PoW/PoS\",\"PoW\",\"PoS\",\"PoW/PoS\",\"PoW/PoS\",\"PoW/PoS\",\"TPoS\",\"PoW/PoS\",\"PoW/PoS\",\"PoW/PoS\",\"PoW\",\"PoW/PoS\",\"PoS\",\"PoW/PoS\",\"PoW/PoS\",\"PoS\",\"PoW/PoS\",\"PoW\",\"PoW\",\"PoW\",\"PoW/PoS\",\"PoW/PoS\",\"PoW/PoS\",\"PoW/PoS\",\"PoW\",\"PoW/PoS\",\"PoW\",\"PoS\",\"PoW/PoS \",\"PoW\",\"PoS\",\"PoW\",\"PoW\",\"PoW/PoS\",\"PoW\",\"PoW\",\"PoS\",\"PoW\",\"PoW/PoS\",\"PoW/PoS\",\"PoW/PoS\",\"PoW\",\"PoS\",\"PoW/PoS\",\"PoW\",\"PoS\",\"PoW/PoS\",\"PoW/PoS\",\"PoW/PoS\",\"PoW/PoS\",\"PoS\",\"PoW/PoS\",\"PoW\",\"PoS\",\"PoW\",\"PoS\",\"PoW/PoS\",\"PoW/PoS\",\"PoS\",\"PoW\",\"PoS\",\"PoW\",\"PoW/PoS\",\"PoW\",\"PoW\",\"PoW\",\"PoW\",\"PoW/PoS\",\"PoW\",\"PoW/PoS\",\"PoW/PoS\",\"PoW\",\"PoW/PoS\",\"PoW\",\"PoW\",\"PoW\",\"PoW/PoS\",\"PoW\",\"PoW/PoS\",\"PoW\",\"PoW\",\"PoW\",\"PoS\",\"PoW\",\"PoW/PoS\",\"PoW\",\"PoW/PoS\",\"PoS\",\"Proof of Authority\",\"PoW\",\"PoS\",\"PoW\",\"PoW\",\"PoW\",\"PoW\",\"PoW\",\"PoW/PoS\",\"PoW/PoS\",\"PoW\",\"PoS\",\"PoS\",\"PoW/PoS\",\"PoW\",\"PoW/PoS\",\"PoW\",\"PoW/PoS\",\"PoW\",\"PoS\",\"PoW\",\"PoW/PoS\",\"PoW/PoS\",\"PoW/PoS\",\"PoW/PoS\",\"PoW\",\"PoW/PoS\",\"PoW/PoS\",\"PoW\",\"PoS\",\"PoW/PoS\",\"PoS\",\"PoW\",\"PoW\",\"PoW\",\"PoW\",\"PoW/PoS\",\"DPoS\",\"PoW/PoS\",\"PoW/PoS\",\"PoW\",\"PoW/PoS\",\"PoW\",\"PoW\",\"PoW\",\"PoS\",\"PoS\",\"PoW\",\"PoW\",\"PoW/PoS\",\"PoW/PoS\",\"PoW\",\"PoW/PoS\",\"PoW\",\"PoW\",\"PoW\",\"PoS\",\"PoW\",\"PoW\",\"PoW/PoS\",\"PoW/PoS\",\"PoS\",\"PoW\",\"PoW\",\"PoW\",\"PoS\",\"PoS\",\"PoW and PoS\",\"PoW\",\"PoW\",\"PoW/PoS\",\"PoW\",\"PoW\",\"PoW\",\"PoW\",\"PoS\",\"POBh\",\"PoW + Hive\",\"PoW\",\"PoW\",\"PoW\",\"PoW/PoS\",\"PoA\",\"PoW/PoS\",\"PoW/PoS\",\"PoS\",\"PoS\",\"PoW\",\"PoW\",\"PoW\",\"PoW\",\"PoW/PoS\",\"PoW/PoS\",\"PoW/PoS\",\"PoW\",\"PoS\",\"PoW\",\"PoS\",\"PoS\",\"PoW/PoS\",\"DPoS\",\"PoW\",\"PoW/PoS\",\"PoS\",\"PoW\",\"PoS\",\"PoW/PoS\",\"PoW\",\"PoW\",\"PoS/PoW\",\"PoW\",\"PoS\",\"PoW\",\"PoW\",\"PoW\",\"PoW\",\"PoW/PoS\",\"PoS\",\"PoW\",\"PoW/PoS\",\"PoW\",\"PoW/PoS\",\"PoS\",\"HPoW\",\"PoS\",\"PoS\",\"PoS\",\"PoW\",\"PoW\",\"PoW\",\"PoW/PoS\",\"PoS\",\"PoW/PoS\",\"PoS\",\"PoW/PoS\",\"PoS\",\"PoW\",\"PoW/PoS\",\"PoW\",\"PoW\",\"PoW\",\"PoW\",\"PoS\",\"PoW/PoS\",\"PoS\",\"PoS\",\"PoW\",\"PoW/PoS\",\"PoS\",\"PoW\",\"PoW/PoS\",\"Zero-Knowledge Proof\",\"PoW\",\"DPOS\",\"PoW\",\"PoS\",\"PoW\",\"PoW\",\"Pos\",\"PoS\",\"PoW\",\"PoW/PoS\",\"PoW\",\"PoW\",\"PoS\",\"PoW\",\"PoW\",\"PoW/PoS\",\"PoW\",\"PoW/PoS\",\"PoW\",\"PoS\",\"PoW/PoS\",\"PoW\",\"PoS\",\"PoW/PoS\",\"PoW/PoS\",\"PoW/PoS\",\"PoW/PoS\",\"PoW\",\"PoW\",\"PoW\",\"PoW/PoS\",\"DPoS\",\"PoW/PoS\",\"PoW\",\"PoW/PoS\",\"PoW\",\"PoW/PoS\",\"PoW\",\"PoW/PoS\",\"PoS\",\"PoW/PoS\",\"PoW/PoS\",\"PoW\",\"PoW/PoS\",\"PoW/PoS\",\"PoW/PoS\",\"PoW\",\"PoW/PoS\",\"PoW\",\"PoW/PoS\",\"PoW\",\"PoW/PoS\",\"PoW/PoS\",\"PoS\",\"PoW\",\"PoW\",\"Proof of Trust\",\"PoW/PoS\",\"DPoS\",\"PoS\",\"PoW/PoS\",\"PoW/PoS\",\"PoW\",\"PoW/PoS\",\"PoW\",\"DPoS\",\"PoW\",\"DPoS\",\"PoS\",\"LPoS\",\"PoS\",\"DPoS\",\"PoS/LPoS\",\"DPoS\",\"PoW/PoS\",\"PoW\",\"PoW\",\"PoS\"],\"TotalCoinSupply\":[\"42\",\"532000000\",\"314159265359\",\"21000000\",\"0\",\"84000000\",\"22000000\",\"0\",\"210000000\",\"21000000\",\"3600570502\",\"21000000000\",\"22000000\",\"12500000\",\"21000000\",\"350000000\",\"20000000\",\"64000000\",\"16768584\",\"0\",\"2000000000\",\"384000000000\",\"169795588\",\"250000000\",\"100000000\",\"0\",\"247000000\",\"84000000\",\"48166000\",\"500000\",\"21000000 \",\"1000000\",\"13140000\",\"18000000\",\"40000000000\",\"4380000\",\"16555000000\",\"21000000000\",\"13500000000\",\"21000000 \",\"299792458\",\"32000000\",\"0\",\"0\",\"11235813\",\"336000000\",\"1420609614\",\"70000000\",\"72245700\",\"120000000\",\"0\",\"90600000000\",\"22000000\",\"21000000\",\"265420800\",\"20000000\",\"1350000\",\"100000000\",\"42000000\",\"200000000\",\"0\",\"10000000\",\"2419200000\",\"16180000\",\"0\",\"15000000000\",\"21000000\",\"337000000\",\"0\",\"3770000\",\"420000000\",\"98000000\",\"0\",\"21000000\",\"250000000\",\"51200000\",\"0\",\"1000\",\"888000000\",\"100000000\",\"47011968\",\"2300000000\",\"10000000\",\"42000000\",\"80000000\",\"250000\",\"0\",\"1600000000\",\"100000000\",\"23000000\",\"0\",\"84000000\",\"265420800\",\"5500000\",\"0\",\"45000000\",\"0\",\"1000000000\",\"184467440735\",\"10000000000\",\"2158812800\",\"500000000\",\"105120000\",\"68000000\",\"0\",\"1680000000\",\"0\",\"166386000\",\"12000000\",\"2628000\",\"500000000\",\"160000000\",\"0\",\"10000000\",\"1000000000\",\"1000000000\",\"20000000\",\"0\",\"0\",\"3371337\",\"20000000\",\"10000000000\",\"1840000000\",\"619478\",\"21000000\",\"92000000000\",\"0\",\"78000000\",\"33000000\",\"65789100\",\"53760000\",\"5060000\",\"21000000\",\"0\",\"210240000\",\"250000000\",\"100000000\",\"16906397\",\"50000000\",\"0\",\"1000000000\",\"26298000\",\"16000000\",\"21000000\",\"21000000\",\"210000000\",\"81962100\",\"22000000\",\"26550000000\",\"84000000\",\"10500000\",\"21626280000 \",\"0\",\"42000000\",\"221052632\",\"84000000\",\"30000000\",\"168351300\",\"24000000\",\"384000000\",\" 99000000000\",\"40000000\",\"2147483647\",\"20000000\",\"20000000\",\"25000000\",\"75000000\",\"222725000\",\"525000000\",\"90000000\",\"139000000\",\"616448\",\"33500000\",\"2000000000\",\"44333333\",\"100000000\",\"200000000\",\"25000000\",\"657000000\",\"200000000\",\"50000000\",\"90000000\",\"10000000\",\"21000000\",\"9736000\",\"3000000\",\"21000000\",\"1200000000\",\"0\",\"200000000\",\"0\",\"10638298\",\"3100000000\",\"30000000\",\"20000000000\",\"74000000\",\"0\",\"1500000000\",\"21400000\",\"39999898\",\"2500124\",\"100000000\",\"301000000\",\"7506000000\",\"26205539\",\"21000000\",\"125000000\",\"30000000\",\"10000000000\",\"500000000\",\"850000000\",\"3853326.77707314\",\"50000000\",\"38540000 \",\"42000000\",\"228000000\",\"20000000\",\"60000000\",\"20000000\",\"33000000\",\"76500000\",\"28000000\",\"650659833\",\"5000000\",\"21000000\",\"144000000\",\"32514916898\",\"13000000\",\"3315789\",\"15000000\",\"78835200\",\"2714286\",\"25000000\",\"9999999\",\"500000000\",\"21000000\",\"9354000\",\"20000000\",\"100000000000\",\"21933333\",\"185000000\",\"55000000\",\"110000000\",\"3360000\",\"14524851.4827\",\"1000000000\",\"17000000\",\"1000000000\",\"100000000 \",\"21000000\",\"34426423\",\"2232901\",\"100000000\",\"36900000\",\"110000000\",\"4000000000\",\"110290030\",\"100000000\",\"48252000\",\"400000000\",\"500000000\",\"21212121\",\"28600000\",\"1000000000\",\"75000000000\",\"40000000\",\"35520400\",\"2000000000\",\"2500000000\",\"30000000\",\"105000000\",\"90000000000\",\"200084200\",\"72000000\",\"100000000\",\"105000000\",\"50000000000\",\"0\",\"340282367\",\"30000000\",\"2000000000\",\"10000000\",\"100000000\",\"120000000\",\"100000000\",\"19276800\",\"30000000\",\" 75000000\",\"60000000\",\"18900000\",\"50000000000\",\"54000000\",\"18898187.6216583\",\"21000000\",\"200000000000\",\"5000000000\",\"137500000\",\"1100000000\",\"100000000\",\"21000000\",\"9507271\",\"17405891.19707116\",\"86712634466\",\"10500000000\",\"61599965\",\"0\",\"20000000\",\"84000000\",\"100000000\",\"100000000\",\"48252000\",\"4200000\",\"88888888\",\"91388946\",\"45000000000\",\"27000000\",\"21000000000\",\"400000000\",\"1800000000\",\"15733333\",\"27000000\",\"24000000\",\"21000000\",\"25000000000\",\"100000000\",\"1200000000\",\"60000000\",\"156306732.71\",\"21000000\",\"200000000\",\"100000000\",\"21000000\",\"14788275.991\",\"9000000000\",\"350000000\",\"45000000\",\"280000000\",\"31800000\",\"144000000\",\"500000000\",\"30000000000\",\"210000000\",\"660000000\",\"210000000\",\"85000000000\",\"12500000\",\"10000000000\",\"27716121\",\"20000000\",\"550000000\",\"999481516\",\"50000000000\",\"150000000\",\"4999999999\",\"50000000\",\" 90000000000\",\"19800000\",\"21000000\",\"120000000\",\"500000000\",\"64000000\",\"900000000\",\"4000000\",\"21000000\",\"23000000\",\"20166000\",\"23000000\",\"25000000\",\"1618033\",\"30000000\",\"1000000000000\",\"16600000\",\"232000000\",\"336000000\",\"10000000000\",\"100000000\",\"1100000000\",\"800000000\",\"5200000000\",\"840000000\",\"40000000\",\"18406979840\",\"500000000\",\"19340594\",\"252460800\",\"25000000\",\"60000000\",\"124000000\",\"1000000000\",\"6500000000\",\"1000000000\",\"21000000\",\"25000000\",\"50000000\",\"3000000\",\"5000000\",\"70000000\",\"500000000\",\"300000000\",\"21000000\",\"88000000\",\"30000000\",\"100000000\",\"100000000\",\"200000000\",\"80000000\",\"18400000\",\"45000000\",\"5121951220\",\"21000000\",\"26280000\",\"21000000\",\"18000000\",\"26000000\",\"10500000\",\"600000518\",\"150000000\",\"184000000000\",\"10200000000\",\"44000000\",\"168000000\",\"100000000\",\"1000000000\",\"84000000\",\"90000000\",\"92000000000\",\"650000000 \",\"100262205\",\"18081806 \",\"22075700\",\"21000000\",\"21000000\",\"82546564\",\"21000000\",\"5151000\",\"16880000000\",\"52500000\",\"100000000\",\"22105263\",\"1000000000\",\"1750000000\",\"88188888\",\"210000000\",\"184470000000\",\"55000000\",\"50000000\",\"260000000\",\"210000000\",\"2100000000\",\"366000000\",\"100000000\",\"25000000\",\"18000000000\",\"1000000000\",\"100000000\",\"1000000000\",\"7600000000\",\"50000000\",\"84000000\",\"21000000\",\"70000000000\",\"0\",\"8080000000\",\"54000000\",\"105120001.44\",\"25228800\",\"105000000\",\"21000000\",\"120000000\",\"21000000\",\"262800000\",\"19035999\",\"30886000\",\"13370000\",\"74800000000\",\"100000000\",\"19700000\",\"84000000\",\"500000000\",\"5000000000\",\"420000000\",\"64000000\",\"2100000\",\"168000000\",\"30000000\",\"1000000000\",\"35000000000\",\"98100000000\",\"0\",\"4000000000\",\"200000000\",\"7000000000\",\"54256119\",\"21000000\",\"0\",\"500000000\",\"1000000000\",\"10500000000\",\"190000000\",\"1000000000\",\"42000000\",\"15000000\",\"50000000000\",\"400000000\",\"105000000\",\"208000000\",\"160000000\",\"9000000\",\"5000000\",\"182000000\",\"16504333\",\"105000000\",\"159918400\",\"10008835635\",\"300000000\",\"60168145\",\"2800000\",\"120000\",\"2100000000\",\"0\",\"24487944\",\"0\",\"1000000000\",\"100000000\",\"8634140\",\"990000000000\",\"1000000000\",\"2000000000\",\"250000000\",\"1400222610\",\"21000000\",\"1000000\"],\"TotalCoinsMined\":{\"__ndarray__\":\"E66yfP7/REC4HgUDbHLPQcQCukHCRBtCAAAAcMAYcUHb+b76hayZQfdoZlo4D45BczEFzM85YUFmkFFyf2dwQQAAAFztBptBAAAAEAQqXEEAAAA6IW3kQQAAKLzoPgVCAAAAAJ6qM0Epu0/cGOFmQQAAAIAdAVZBuzNpefhbeEFogey/NERlQRASPW7cR2dB+ijjv4NLcUEAAABO5u/CQQAAgMotKNlBAAAAAAAAVkCRe4LLOUqkQWlwu1zuvZ5B7FG4slgRXEES3YNEKFedQbxc1FkO8a5BjF0hSWmgh0FQLIHFyuR/Qc7ixUJvyuRAZlhcKb2KW0HCR4pNGbYvQdDqKuGh8VFBQQ4rjd4PU0GutucKX6AiQqBfqd8TNklB/fZoycqrDUIAAHBTCXwRQnSTloARWwdCS2bm7Bjxc0He//+wcBeqQbTI9iT1l3JBAAAAQJaqVUHBNFQR94a7QaQ8LSbMbzFBMPUDShPgqEEAAAA1WFnKQQFaxIOwUI9BD/H/v0jdg0EMI73Wa0iVQftcscYLA9lBo6E6fO0XNUJq65YfTtVwQW3n+0/EHHRBmpmZw9ANokHNzEzyVm5yQeu2uDrY2TBBAAAAaLVMjUFC3vH/OTGCQTMzM4eHR4NB0/wVEd7UE0K3KNQ4KyRWQdb//9BLDNhBAAAAAGTcbkFGZKnBRYOPQWh5ONDpoOFBAAAAAIIbbEHurnvnQfOzQWC5lIqR6GxBEqW9I0SSSEECRgfUkYuqQQAAgKodopFB7loEOWBNG0KzdfRrHdkwQZqZmdvoF3dBqQYrknhoeEEnrP5t5i2IQQAAAAAAZJJASWWmrurJwEEmvO6+tSKTQQAAAACNwoRBsaedNq8s2EHonwEAK9k1QQAAAEB233VBAAAAAINhQUF75AdVfoYIQQAAAAAObDJBZmYm5Ctg0EHqsCJZOvSHQfL/r8ISFHZBBWSeRqeJfkHHd4jeymaIQQAAAHQ6hJxBqj02xuuDWkEAAAAAhNeXQWWO5dqisIJBhvyY1oWPf0HN5/S7TaShQQAAB3WebUVCcSCmnaK6+UEAAADwLATbQQAAAMC4ZohBcBN8y0VCkEEAAADwmKeCQQAAADhjXYlBAAAAZOS8uEGF80Sm1ux5QeDz06y0ZKBBm6kQ40DcPkGTMePy+TQGQRqL3sPG0aRB26a4ke4mokEAAAAAwWU2QQAAAICAEltBAAAAUZSex0EAAABPt3DFQQAAAACKhURBAAAAsGYMj0EAAABAGUhYQclLLY4xV2NBAAAAQF4iZkFxPQ5ywyzxQQAAAMx5HcVBAAAAAKznIkEAAACAQ8VnQQAAAABQifVAAAAAAOgYN0EAAAAgqFqOQbTMIm2Yun5BAAAAQFI2akFuowEAyCBsQb/Mf8ucV2BBAAAAsANCbkFIisgQwBcUQQAAAECDDn9BAAAAkCQHkkEAAAAAhNeXQQAAAMClBGRBAAAAwKL5dUEAAEizP9MeQnMvcJZSiIRBdN9gjbfOaUEAAADg5UNuQXci101WBnRBZImz3Q7FY0EAAAAAsQipQQAAAKBO1mVB0TYn7F3/S0EAAJj8c3sEQgAAABB1ppBBAAAAgM2QU0EAAGSVNj8UQs9mP8p8wQJCZta35+opYUEAAACQC02DQQAAAKChgoVBAAAAAGjAVUEVe6IeXWwjQQAAALCvdnBBh9M4uazZY0FWnZ2VUDchQsSzAmd+slBBAADA////30EAAAAA0BJzQfWeCOrNEFlBACv2TwgLakHGaE16SgqgQQAAAAAFPjJBAAAAgCTIb0EAAACMaOWTQWZvBMgIQndBAAAAAADQIkH8k1OFq2aCQZ+vSflmO8hBAAAAAD1EUUEAAAAAhNeXQQAAAADQElNBAAAAAH0GNUEAAAAgg5TDQQAAAEzcoZtBAAAAIIyvbUEAAADgOZWEQSqHXC4Y111BAAAAAMorIkEAAAAAgNFXQXUZ5bDIESRBAAAAAOmyQ0EAAAAAZc3NQQAAAACxmT1BAAAAsKrbm0EAAAAwvTekQQAAAECjXmFBAACA3BLTw0EAAAAATDVlQQAA7E21OxJCKwwuO6qmkUEAAADQUPh/Qd7Fk3RYja9BUc34T+beXEEAAAAgerqhQQAAAAAOE0NBAAAAAITXl0F4eqWiQ/5wQW1b4nIfINBBAAAAMNb9eEEAAACA+2lVQQAAAJAhzJlBAAAA0Dl+cUEAAADmiWanQQAAAACfjshBAADD1R53NUL1IXdjB2ZNQQAAAACE14dBAAAAAERMcEGnlim1VLBCQQAAAGjSQo1BAAAAANASc0H6EPGEOidXQQAAAEDFrmdBAWxAemNOc0EAAACEqwWSQW8KEEyCImVBAAAAQE7RZEEAAAAAntwoQQAAAADC2S1BAAAAQIT1X0G1VTeErn0fQgAAAIArf0pBAAAAgCZMSUG3QKeXoQ9kQQAAAGDS03xBAAAAAJRIK0EAAAAA5NhhQeiBj3GyoDxBAAAAwOvadkGII9U8v0VDQawzRD12llVBAAAAAFSMZkEAAAAd2QDAQQAAAABMzxJBBwq80BzsZEGMg2z7OkxGQQAAAADeOZpBAAAAAH3ER0FFR3JvNrRrQQAAAEBY+nxBHHiWeW1nWkEAAAAAZc3NQaJtQ0H1zZdBAAAA2MWvcUEAAADorTCBQQAAAIAiCUFBTeW+oh8baUEhj6B9UD1nQd7hZs9XYJpBAAAAoDmQjkEEVo5zMX+aQcubKKA6hnRBAAAAAPhOY0EAAABZNO23QTtUk67eAZ1BAAAAgBl7VEEAAAAApIUxQQAAAACAhB5BAAAARNP4l0EAAABgO2BwQYwpWDI4VnNBCaRc6miXsUEAAADLzqLTQWBHLT+iuWVBAAAAwIpedEEAAMDR7u4iQgAAACBZumNBckLXzXcUakEAAAAAhNeXQWUIVsOfdZBBAADce2Q8FUKonWsKIt5yQQAAAKTUxJ9BkdtqsfWNcUEAAMDBkfbaQQAAAAA7009BAAAA+GzBgEEAAADYWwOOQQAAAIDi9FlBAAAAsAxLcUEAAADAZ0h0QQAAAMCntlNBIBX6xf/VeEEAAAAA0wJEQX/w+Yv12ABCAAAAYPECa0Ga3cmg1eZ0QZKakZIo+nBBAABOq2v7QkJLH6e/YrLgQQAAAHgivplByhiP2VEznUGRw9HTzpGGQWq8WVp0KXFBI1gm0VX5Z0Hya5UVeMxxQQAAoDO40ilCAAAAAHidHUEAAAAAgIROQe/X1k3upUBCAAAAQE2CYkFw2XdWK6VwQQkyArFkIn9BAAAAcMkTgEEAAABAaKJyQQAAAACQBVBBAAAAoHsQYUEAAAAAhNd3QQAAKM1+JRhCzr66gjC0W0EDPqDeH2rzQQAAAICuxaVBy0qbvkkj5EGLprPq/mcxQVF7mcmnyE9BAAAAAGDjdkH5hGyRy2dwQQAAjLzRkCZCAAAAwFXylUEAAAAKwrTAQdlvVtQbr19BAAAAIM00gEEAAAAAnGZAQYpweOjvSX1BJ0/5xefWl0Hg88PJ5oRnQcl2vh+GNW9BAACwz4jDAEIAAADmKeOkQSlcj8LWUVhBAAAA4LFUaEEAAAC4nD9WQY52rBbqNoJBYW9+x+krsUEAAACS4nIaQsmUx5ED4aVB6fCQBqC2vEHPayxFf3WaQTj4lfsk9RFCAAAAAIgqUUEAAACELQy/Qb7tLlxZRGlBqtpuTpcrcEEAAAC8HCaTQRKDYLnxTLpBXI/WvvhL8kHLoUVKCQ9gQUjhGyQdie1BBOfcMG6KhUFZF6rN7wUcQv52QCDsIVBBqQRZVX7vXUEAAAAA9gh6QQAAAMGN3rFBm/K3SiGwhUEAAABOJZ3BQQndJR2TG0NBAAAAAPXPUEFs0d4KsytgQQAAAABXO3NBRN0Hg6W6ZkFWAY1Yqn9zQQAAAABxsDhB6KPo0IXtYUE9ipsSw74oQiP3U79oYVJB4XaQc/D+q0HFrxjPlu6fQQAAACBfoAJCJXMcSJ2WmUHVIcXjxS/DQQAAAFoqdKtB8dd4J/5n2kGWsBp+eAbDQRXGFoAyvWdBAACoqNr9CkJPPwDNSjCpQURLA8bRdWVBAAAAfjRgqEHNzMyMCYpAQVK4HoUtlxlBWiYo0q1ieEEAAIC4lGXDQQAAAEqIhK1BdXWf684Vk0GYUBwTog1PQQAAAACE13dBGcIW1FlMakEZtn+gi84pQQAAAIDJCTJBAAAAVDEDkUEAAKAYR92vQYN0bFrtEnpBfQaUa/WyYkFNBaat9tx0Qeux5ct22GJBAAAAACvJMkGJEf1SB1R+QXJuA5mDqKBBTNr5wtYfZUEAAAAAvIxuQQAAAACWzFBB5nRdlm/s1EGTQQkk4hd0QURRfW02clNBjX70YrDMZEEAAAAAbkYoQbN2u8vzdIJBBFMT7aemWkEAAAAAwJT0QAAAAAAuRHJBAACivbA6I0IAAAAwvf8CQkhQ/AAsG11Bg20UIDEyoEGcs497yrJ/QSXLM+AdscBB78nDukaZdEHP8+dFmuF8QVnmi1WJITJC6NT8eTS5REEY0gHIAZGLQQAAAIAfWnFBpq1XQWr/XkE4UF7FY31gQaKloawBDFNBrPn2hDebgUFNI9YPZgRbQasgKXHAlFZBluWQ57jML0GotR8+EW5pQSFAAa03f49BSGTlENedNUEZ8ryfJp1UQddG4emEt21BAAAAQESoUkFpyxQjRSBsQV3NAOrTLTdCcT0KX3hgckEXDZ5fe1h9Qf+yq29isZlBB1Ybc0PKYUEAAABA3UrfQXtmCXYA01FBAAAAwA8vUUHawOFXUiJTQRiaN9DOls9BAAAAAGXNzUFRV68zk5piQQAAAABlzc1BAAAAitWN70FyYIdLU+RZQQAAAECkAWpBP8xZKrQocUFhFLwwZtuoQXBOQWIqBxBCkCxSxj/S20GEJfPNkdaAQZO4O1ApFThBx93xJ6g5bkEAAAAACrRpQTMzM7MvyRhBzT1kaTfTgEEdRpysmS9sQQAAAABjBIFBoET6MztrcUEAAAA4VPx3QfT+3KxthT1BTx7ABmy1HEKNuYbNa6doQdWNf+IW1yVBJsJLAz6Yc0FvD7pAHLenQQAAAGixtspBrfE+UWlpbUHNuQVlhu+IQQAAAIB02zFB0v7/r18slEE4zCGFrax2QQAAAABlzc1B5x1IVZ2IDEL7Pxej2H6KQSibcjLG6qxBAACA+gF/7EEAAAAAf/xKQUgFZGJXRnZBAAAAQJGfc0FeS8aPUMFQQW94x/+7XmJBF4V9WDoCukEAAAAGiUDHQR9ofThlOs1BBFbV6ym1EEJuUAeag3W9QUrmXREL7HVBAAAAADicjEFprytpX40bQpijizthGbhBuqmMb8R5kUGs4drOJgGoQa4Pq9CTtJhBBonp3l4nTUGfQd76IkZTQZk6wZ0znZBBDFuTijkecEEqosuD3c2RQQAAALD1nJxBApot/nygAkKKmGJ4mQquQaD9SAGBGDFBAAAAQJ1tSUGoOuQGTi8BQQAAAACE15dB2T2JBSNqzkH4eoiBgFp3QRSu13KMudBBAAAAAGXNzUEAAAAAhNeXQdmqyTHItGFBxfR7nv3PbEIAAAAAZc3NQfOO0/5kzd1BlPryxIx6bEEAAIBBgTbNQQAAAGCG1VtBR9gB8W9U/0A=\",\"dtype\":\"float64\",\"order\":\"little\",\"shape\":[532]}},\"selected\":{\"id\":\"2053\"},\"selection_policy\":{\"id\":\"2087\"}},\"id\":\"2052\",\"type\":\"ColumnDataSource\"},{\"attributes\":{\"editor\":{\"id\":\"2065\"},\"field\":\"ProofType\",\"formatter\":{\"id\":\"2064\"},\"title\":\"ProofType\"},\"id\":\"2066\",\"type\":\"TableColumn\"},{\"attributes\":{},\"id\":\"2053\",\"type\":\"Selection\"},{\"attributes\":{},\"id\":\"2065\",\"type\":\"StringEditor\"},{\"attributes\":{},\"id\":\"2069\",\"type\":\"StringFormatter\"},{\"attributes\":{},\"id\":\"2054\",\"type\":\"StringFormatter\"},{\"attributes\":{\"columns\":[{\"id\":\"2056\"},{\"id\":\"2061\"},{\"id\":\"2066\"},{\"id\":\"2071\"},{\"id\":\"2076\"},{\"id\":\"2081\"}],\"height\":300,\"reorderable\":false,\"source\":{\"id\":\"2052\"},\"view\":{\"id\":\"2085\"},\"width\":700},\"id\":\"2084\",\"type\":\"DataTable\"},{\"attributes\":{\"editor\":{\"id\":\"2075\"},\"field\":\"TotalCoinsMined\",\"formatter\":{\"id\":\"2074\"},\"title\":\"TotalCoinsMined\"},\"id\":\"2076\",\"type\":\"TableColumn\"},{\"attributes\":{\"margin\":[5,5,5,5],\"name\":\"HSpacer03888\",\"sizing_mode\":\"stretch_width\"},\"id\":\"2051\",\"type\":\"Spacer\"},{\"attributes\":{},\"id\":\"2064\",\"type\":\"StringFormatter\"},{\"attributes\":{},\"id\":\"2087\",\"type\":\"UnionRenderers\"},{\"attributes\":{},\"id\":\"2055\",\"type\":\"StringEditor\"},{\"attributes\":{\"margin\":[5,5,5,5],\"name\":\"HSpacer03889\",\"sizing_mode\":\"stretch_width\"},\"id\":\"2090\",\"type\":\"Spacer\"},{\"attributes\":{\"editor\":{\"id\":\"2055\"},\"field\":\"CoinName\",\"formatter\":{\"id\":\"2054\"},\"title\":\"CoinName\"},\"id\":\"2056\",\"type\":\"TableColumn\"},{\"attributes\":{},\"id\":\"2059\",\"type\":\"StringFormatter\"},{\"attributes\":{\"format\":\"0,0.0[00000]\"},\"id\":\"2074\",\"type\":\"NumberFormatter\"},{\"attributes\":{},\"id\":\"2070\",\"type\":\"StringEditor\"},{\"attributes\":{\"editor\":{\"id\":\"2080\"},\"field\":\"Class\",\"formatter\":{\"id\":\"2079\"},\"title\":\"Class\"},\"id\":\"2081\",\"type\":\"TableColumn\"},{\"attributes\":{},\"id\":\"2060\",\"type\":\"StringEditor\"},{\"attributes\":{\"children\":[{\"id\":\"2051\"},{\"id\":\"2084\"},{\"id\":\"2090\"}],\"margin\":[0,0,0,0],\"name\":\"Row03884\",\"tags\":[\"embedded\"]},\"id\":\"2050\",\"type\":\"Row\"},{\"attributes\":{\"editor\":{\"id\":\"2070\"},\"field\":\"TotalCoinSupply\",\"formatter\":{\"id\":\"2069\"},\"title\":\"TotalCoinSupply\"},\"id\":\"2071\",\"type\":\"TableColumn\"},{\"attributes\":{},\"id\":\"2080\",\"type\":\"IntEditor\"}],\"root_ids\":[\"2050\"]},\"title\":\"Bokeh Application\",\"version\":\"2.2.3\"}};\n",
       "    var render_items = [{\"docid\":\"3949b1c8-c7b0-4780-8668-59afc99cf31a\",\"root_ids\":[\"2050\"],\"roots\":{\"2050\":\"4e3ffac3-298a-4443-84a6-421e2295c092\"}}];\n",
       "    root.Bokeh.embed.embed_items_notebook(docs_json, render_items);\n",
       "  }\n",
       "  if (root.Bokeh !== undefined && root.Bokeh.Panel !== undefined) {\n",
       "    embed_document(root);\n",
       "  } else {\n",
       "    var attempts = 0;\n",
       "    var timer = setInterval(function(root) {\n",
       "      if (root.Bokeh !== undefined && root.Bokeh.Panel !== undefined) {\n",
       "        clearInterval(timer);\n",
       "        embed_document(root);\n",
       "      } else if (document.readyState == \"complete\") {\n",
       "        attempts++;\n",
       "        if (attempts > 100) {\n",
       "          clearInterval(timer);\n",
       "          console.log(\"Bokeh: ERROR: Unable to run BokehJS code because BokehJS library is missing\");\n",
       "        }\n",
       "      }\n",
       "    }, 10, root)\n",
       "  }\n",
       "})(window);</script>"
      ],
      "text/plain": [
       ":Table   [CoinName,Algorithm,ProofType,TotalCoinSupply,TotalCoinsMined,Class]"
      ]
     },
     "execution_count": 116,
     "metadata": {
      "application/vnd.holoviews_exec.v0+json": {
       "id": "2050"
      }
     },
     "output_type": "execute_result"
    }
   ],
   "source": [
    "# Create a table with tradable cryptocurrencies.\n",
    "clustered_df.hvplot.table(columns=['CoinName','Algorithm','ProofType','TotalCoinSupply', 'TotalCoinsMined','Class'])"
   ]
  },
  {
   "cell_type": "code",
   "execution_count": 117,
   "metadata": {},
   "outputs": [
    {
     "name": "stdout",
     "output_type": "stream",
     "text": [
      "There are 532 tradable cyptocurrencies\n"
     ]
    }
   ],
   "source": [
    "# Print the total number of tradable cryptocurrencies.\n",
    "print('There are',len(clustered_df.index),'tradable cyptocurrencies')"
   ]
  },
  {
   "cell_type": "code",
   "execution_count": 118,
   "metadata": {},
   "outputs": [
    {
     "data": {
      "text/plain": [
       "array([[4.20000000e-11, 0.00000000e+00],\n",
       "       [5.32000000e-04, 1.06585544e-03],\n",
       "       [3.14159265e-01, 2.95755135e-02],\n",
       "       ...,\n",
       "       [1.40022261e-03, 9.90135079e-04],\n",
       "       [2.10000000e-05, 7.37028150e-06],\n",
       "       [1.00000000e-06, 1.29582282e-07]])"
      ]
     },
     "execution_count": 118,
     "metadata": {},
     "output_type": "execute_result"
    }
   ],
   "source": [
    "# Scaling data to create the scatter plot with tradable cryptocurrencies.\n",
    "supply_mined = MinMaxScaler(feature_range=(0,1)).fit_transform(pd.DataFrame(zip(clustered_df.TotalCoinSupply, clustered_df.TotalCoinsMined), columns = ['TotalCoinSupply', 'TotalCoinsMined']))\n",
    "supply_mined                                                       "
   ]
  },
  {
   "cell_type": "code",
   "execution_count": 119,
   "metadata": {},
   "outputs": [
    {
     "data": {
      "text/html": [
       "<div>\n",
       "<style scoped>\n",
       "    .dataframe tbody tr th:only-of-type {\n",
       "        vertical-align: middle;\n",
       "    }\n",
       "\n",
       "    .dataframe tbody tr th {\n",
       "        vertical-align: top;\n",
       "    }\n",
       "\n",
       "    .dataframe thead th {\n",
       "        text-align: right;\n",
       "    }\n",
       "</style>\n",
       "<table border=\"1\" class=\"dataframe\">\n",
       "  <thead>\n",
       "    <tr style=\"text-align: right;\">\n",
       "      <th></th>\n",
       "      <th>TotalCoinSupply</th>\n",
       "      <th>TotalCoinsMined</th>\n",
       "      <th>CoinName</th>\n",
       "      <th>Class</th>\n",
       "    </tr>\n",
       "  </thead>\n",
       "  <tbody>\n",
       "    <tr>\n",
       "      <th>42</th>\n",
       "      <td>4.200000e-11</td>\n",
       "      <td>0.000000</td>\n",
       "      <td>42 Coin</td>\n",
       "      <td>1</td>\n",
       "    </tr>\n",
       "    <tr>\n",
       "      <th>404</th>\n",
       "      <td>5.320000e-04</td>\n",
       "      <td>0.001066</td>\n",
       "      <td>404Coin</td>\n",
       "      <td>1</td>\n",
       "    </tr>\n",
       "    <tr>\n",
       "      <th>1337</th>\n",
       "      <td>3.141593e-01</td>\n",
       "      <td>0.029576</td>\n",
       "      <td>EliteCoin</td>\n",
       "      <td>1</td>\n",
       "    </tr>\n",
       "    <tr>\n",
       "      <th>BTC</th>\n",
       "      <td>2.100000e-05</td>\n",
       "      <td>0.000018</td>\n",
       "      <td>Bitcoin</td>\n",
       "      <td>0</td>\n",
       "    </tr>\n",
       "    <tr>\n",
       "      <th>ETH</th>\n",
       "      <td>0.000000e+00</td>\n",
       "      <td>0.000109</td>\n",
       "      <td>Ethereum</td>\n",
       "      <td>0</td>\n",
       "    </tr>\n",
       "    <tr>\n",
       "      <th>LTC</th>\n",
       "      <td>8.400000e-05</td>\n",
       "      <td>0.000064</td>\n",
       "      <td>Litecoin</td>\n",
       "      <td>0</td>\n",
       "    </tr>\n",
       "    <tr>\n",
       "      <th>DASH</th>\n",
       "      <td>2.200000e-05</td>\n",
       "      <td>0.000009</td>\n",
       "      <td>Dash</td>\n",
       "      <td>1</td>\n",
       "    </tr>\n",
       "    <tr>\n",
       "      <th>XMR</th>\n",
       "      <td>0.000000e+00</td>\n",
       "      <td>0.000017</td>\n",
       "      <td>Monero</td>\n",
       "      <td>0</td>\n",
       "    </tr>\n",
       "    <tr>\n",
       "      <th>ETC</th>\n",
       "      <td>2.100000e-04</td>\n",
       "      <td>0.000115</td>\n",
       "      <td>Ethereum Classic</td>\n",
       "      <td>0</td>\n",
       "    </tr>\n",
       "    <tr>\n",
       "      <th>ZEC</th>\n",
       "      <td>2.100000e-05</td>\n",
       "      <td>0.000007</td>\n",
       "      <td>ZCash</td>\n",
       "      <td>0</td>\n",
       "    </tr>\n",
       "  </tbody>\n",
       "</table>\n",
       "</div>"
      ],
      "text/plain": [
       "      TotalCoinSupply  TotalCoinsMined          CoinName  Class\n",
       "42       4.200000e-11         0.000000           42 Coin      1\n",
       "404      5.320000e-04         0.001066           404Coin      1\n",
       "1337     3.141593e-01         0.029576         EliteCoin      1\n",
       "BTC      2.100000e-05         0.000018           Bitcoin      0\n",
       "ETH      0.000000e+00         0.000109          Ethereum      0\n",
       "LTC      8.400000e-05         0.000064          Litecoin      0\n",
       "DASH     2.200000e-05         0.000009              Dash      1\n",
       "XMR      0.000000e+00         0.000017            Monero      0\n",
       "ETC      2.100000e-04         0.000115  Ethereum Classic      0\n",
       "ZEC      2.100000e-05         0.000007             ZCash      0"
      ]
     },
     "execution_count": 119,
     "metadata": {},
     "output_type": "execute_result"
    }
   ],
   "source": [
    "# Create a new DataFrame that has the scaled data with the clustered_df DataFrame index.\n",
    "plot_df=pd.DataFrame(supply_mined,columns=[\"TotalCoinSupply\",\"TotalCoinsMined\"], index=clustered_df.index)\n",
    "\n",
    "# Add the \"CoinName\" column from the clustered_df DataFrame to the new DataFrame.\n",
    "plot_df['CoinName']=clustered_df['CoinName']\n",
    "\n",
    "# Add the \"Class\" column from the clustered_df DataFrame to the new DataFrame. \n",
    "plot_df['Class']=clustered_df['Class']\n",
    "\n",
    "plot_df.head(10)"
   ]
  },
  {
   "cell_type": "code",
   "execution_count": 120,
   "metadata": {},
   "outputs": [
    {
     "data": {},
     "metadata": {},
     "output_type": "display_data"
    },
    {
     "data": {
      "application/vnd.holoviews_exec.v0+json": "",
      "text/html": [
       "<div id='2102'>\n",
       "\n",
       "\n",
       "\n",
       "\n",
       "\n",
       "  <div class=\"bk-root\" id=\"53f9ea14-1b26-4222-8190-28c9c9030466\" data-root-id=\"2102\"></div>\n",
       "</div>\n",
       "<script type=\"application/javascript\">(function(root) {\n",
       "  function embed_document(root) {\n",
       "    var docs_json = {\"7622dee5-a84c-4862-ae8d-acd6743413a8\":{\"roots\":{\"references\":[{\"attributes\":{\"end\":1.1,\"reset_end\":1.1,\"reset_start\":-0.1,\"start\":-0.1,\"tags\":[[[\"TotalCoinSupply\",\"TotalCoinSupply\",null]]]},\"id\":\"2105\",\"type\":\"Range1d\"},{\"attributes\":{\"data\":{\"Class\":[0,0,0,0,0,0,0,0,0,0,0,0,0,0,0,0,0,0,0,0,0,0,0,0,0,0,0,0,0,0,0,0,0,0,0,0,0,0,0,0,0,0,0,0,0,0,0,0,0,0,0,0,0,0,0,0,0,0,0,0,0,0,0,0,0,0,0,0,0,0,0,0,0,0,0,0,0,0,0,0,0,0,0,0,0,0,0,0,0,0,0,0,0,0,0,0,0,0,0,0,0,0,0,0,0,0,0,0,0,0,0,0,0,0,0,0,0,0,0,0,0,0,0,0,0,0,0,0,0,0,0,0,0,0,0,0,0,0,0,0,0,0,0,0,0,0,0,0,0,0,0,0,0,0,0,0,0,0,0,0,0,0,0,0,0,0,0,0,0,0,0,0,0,0,0,0,0,0,0,0,0,0,0,0,0,0,0,0,0,0,0,0,0,0,0,0,0,0,0,0,0,0,0,0,0,0,0,0,0,0,0,0,0,0,0,0,0,0,0,0,0,0,0,0,0,0,0,0,0,0,0,0,0,0,0,0,0,0,0,0],\"CoinName\":[\"Bitcoin\",\"Ethereum\",\"Litecoin\",\"Monero\",\"Ethereum Classic\",\"ZCash\",\"DigiByte\",\"ProsperCoin\",\"Spreadcoin\",\"Argentum\",\"MyriadCoin\",\"MoonCoin\",\"ZetaCoin\",\"SexCoin\",\"Quatloo\",\"QuarkCoin\",\"Riecoin\",\"Digitalcoin \",\"Catcoin\",\"CannaCoin\",\"CryptCoin\",\"Verge\",\"DevCoin\",\"EarthCoin\",\"E-Gulden\",\"Einsteinium\",\"Emerald\",\"Franko\",\"FeatherCoin\",\"GrandCoin\",\"GlobalCoin\",\"GoldCoin\",\"Infinite Coin\",\"IXcoin\",\"KrugerCoin\",\"LuckyCoin\",\"Litebar \",\"MegaCoin\",\"MediterraneanCoin\",\"MinCoin\",\"NobleCoin\",\"Namecoin\",\"NyanCoin\",\"RonPaulCoin\",\"StableCoin\",\"SmartCoin\",\"SysCoin\",\"TigerCoin\",\"TerraCoin\",\"UnbreakableCoin\",\"Unobtanium\",\"UroCoin\",\"ViaCoin\",\"Vertcoin\",\"WorldCoin\",\"JouleCoin\",\"ByteCoin\",\"DigitalNote \",\"BurstCoin\",\"MonaCoin\",\"Gulden\",\"PesetaCoin\",\"Wild Beast Coin\",\"Flo\",\"ArtByte\",\"Folding Coin\",\"Unitus\",\"CypherPunkCoin\",\"OmniCron\",\"GreenCoin\",\"Cryptonite\",\"MasterCoin\",\"SoonCoin\",\"1Credit\",\"MarsCoin \",\"Crypto\",\"Anarchists Prime\",\"BowsCoin\",\"Song Coin\",\"BitZeny\",\"Expanse\",\"Siacoin\",\"MindCoin\",\"I0coin\",\"Revolution VR\",\"HOdlcoin\",\"Gamecredits\",\"CarpeDiemCoin\",\"Adzcoin\",\"SoilCoin\",\"YoCoin\",\"SibCoin\",\"Francs\",\"BolivarCoin\",\"Omni\",\"PizzaCoin\",\"Komodo\",\"Karbo\",\"ZayedCoin\",\"Circuits of Value\",\"DopeCoin\",\"DollarCoin\",\"Shilling\",\"ZCoin\",\"Elementrem\",\"ZClassic\",\"KiloCoin\",\"ArtexCoin\",\"Kurrent\",\"Cannabis Industry Coin\",\"OsmiumCoin\",\"Bikercoins\",\"HexxCoin\",\"PacCoin\",\"Citadel\",\"BeaverCoin\",\"VaultCoin\",\"Zero\",\"Canada eCoin\",\"Zoin\",\"DubaiCoin\",\"EB3coin\",\"Coinonat\",\"BenjiRolls\",\"ILCoin\",\"EquiTrader\",\"Quantum Resistant Ledger\",\"Dynamic\",\"Nano\",\"ChanCoin\",\"Dinastycoin\",\"DigitalPrice\",\"Unify\",\"SocialCoin\",\"ArcticCoin\",\"DAS\",\"LeviarCoin\",\"Bitcore\",\"gCn Coin\",\"SmartCash\",\"Onix\",\"Bitcoin Cash\",\"Sojourn Coin\",\"NewYorkCoin\",\"FrazCoin\",\"Kronecoin\",\"AdCoin\",\"Linx\",\"Sumokoin\",\"BitcoinZ\",\"Elements\",\"VIVO Coin\",\"Bitcoin Gold\",\"Pirl\",\"eBoost\",\"Pura\",\"Innova\",\"Ellaism\",\"GoByte\",\"SHIELD\",\"UltraNote\",\"BitCoal\",\"DaxxCoin\",\"AC3\",\"Lethean\",\"PopularCoin\",\"Photon\",\"Sucre\",\"SparksPay\",\"GunCoin\",\"IrishCoin\",\"Pioneer Coin\",\"UnitedBitcoin\",\"Interzone\",\"TurtleCoin\",\"MUNcoin\",\"Niobio Cash\",\"ShareChain\",\"Travelflex\",\"KREDS\",\"BitFlip\",\"LottoCoin\",\"Crypto Improvement Fund\",\"Callisto Network\",\"BitTube\",\"Poseidon\",\"Aidos Kuneen\",\"Bitrolium\",\"Alpenschillling\",\"FuturoCoin\",\"Monero Classic\",\"Jumpcoin\",\"Infinex\",\"KEYCO\",\"GINcoin\",\"PlatinCoin\",\"Loki\",\"Newton Coin\",\"MassGrid\",\"PluraCoin\",\"Motion\",\"PlusOneCoin\",\"Axe\",\"HexCoin\",\"Webchain\",\"Ryo\",\"Urals Coin\",\"Qwertycoin\",\"Project Pai\",\"Azart\",\"Xchange\",\"CrypticCoin\",\"Actinium\",\"Bitcoin SV\",\"FREDEnergy\",\"Universal Molecule\",\"Lithium\",\"PirateCash\",\"Exosis\",\"Block-Logic\",\"Beam\",\"Bithereum\",\"SLICE\",\"BLAST\",\"Bitcoin Rhodium\",\"GlobalToken\",\"SolarCoin\",\"UFO Coin\",\"BlakeCoin\",\"Crypto Escudo\",\"Crown Coin\",\"SmileyCoin\",\"Groestlcoin\",\"Bata\",\"Pakcoin\",\"JoinCoin\",\"Vollar\",\"Reality Clash\",\"Beldex\",\"Horizen\"],\"TotalCoinSupply\":{\"__ndarray__\":\"ycfuAiUF9j4AAAAAAAAAAMnH7gIlBRY/AAAAAAAAAAC8eapDboYrP8nH7gIlBfY+Gy/dJAaBlT/Jx+4CJQX2PvBo44i1+PQ+je21oPfGED/8qfHSTWJgP/p+arx0k9g/ib6z/mRBJj/8qfHSTWIwPyxDHOviNho/M4gP7PgvMD/Jx+4CJQUWP7L2gSi7QAk/ycfuAiUF9j7wSz/Ze47rPj+rzJTW3/I+pFNXPsvzkD8bL90kBoGVP9nO91PjpYs/ycfuAiUF9j6QlH3NrqUzP43ttaD3xgA/VwJQYS6Q5z7Jx+4CJQU2P2DlR/V3Rlc/0vvG155ZEj+5x9OsU/ASP2+BBMWPMbc/ycfuAiUF9j4QhtqnBWUxP/Bo44i1+PQ+5TOPsjSmtj7Jx+4CJQUGPyxDHOviNio/8GjjiLX45D64HoXrUbiOP8nH7gIlBfY+t32P+usVNj/Jx+4CJQX2Pvyp8dJNYjA/SK+8mvLXCj8BiLt6FRlNP3lgr+vWpQg/ycfuAiUFBj/waOOItfgUP43ttaD3xpA+AAAAAAAAAAB7hQX3Ax74PsnH7gIlBRY/EIbapwVlMT8O1v85zJcHPzgbkQyhnMc/exSuR+F6hD9QVfnLW69hP/BLP9l7jhs/vHmqQ26GWz9b9WXb/M4lP1rWZUeWC8Y+8GjjiLX4JD/8qfHSTWJQP/yp8dJNYlA/AAAAAAAAAAAAAAAAAAAAAN6Fxx3kR8w+exSuR+F6hD/a5sb0hCVeP+TaPodGyaQ+ycfuAiUF9j5aZDvfT423P/qcu10vTQE/lEK5IQg/ET8MuN+Iiy8MP8nH7gIlBfY+8Es/2XuOKz/8qfHSTWIwP69gXcFGuvE+AAAAAAAAAACN7bWg98bwPsnH7gIlBfY+vHmqQ26GKz82oPInYnwVP8nH7gIlBRY/gShWFTMllj/Jx+4CJQUWP2kdVU0Qdf8+1mrNp+4QJj9U5BBxcyr5PvBo44i1+PQ+LEMc6+I2+j42/OJ8P6+kPixDHOviNvo+LEMc6+I2Kj/waOOItfjkPoYoqKb5auQ+YTJVMCqpUz8sQxzr4jYqPwVQOYtkT+Y+aR1VTRB1/z6GulnNhHD2Pmhxe+1+evs+ycfuAiUF9j57FK5H4XqEP/yp8dJNYkA/Iw9EFmniLT/Jx+4CJQX2PmdqUYLixMY+LEMc6+I2+j7uNbRltfjkPpmZmZmZmbk/VvFG5pE/KD8MuN+Iiy/MPvyp8dJNYlA/ZkzBGmfT8T4sQxzr4jYaP8nH7gIlBfY+EXF8Th67wj78qfHSTWJwP8rwgRhGTAk/hgaWpnefAj97FK5H4XpkPz+rzJTW3xI/vHmqQ26GGz8AAAAAAAAAADVfPqP9TDY/aR1VTRB1/z78qfHSTWJgPyxDHOviNho/ROXwm5M29D5hMlUwKqkTP2kdVU0QdQ8/aE09HG7R8z7eADPfwU8MP8nH7gIlBfY+mZmZmZmZyT97FK5H4Xp0Py9uowG8BVI/ycfuAiUF9j4bL90kBoGFPwAAAAAAAAAA8GjjiLX49D7Jx+4CJQUWPyxDHOviNho/LEMc6+I2Gj9gi753O00XPxsv3SQGgZU/kst/SL99XT/eADPfwU/8PsnH7gIlBfY+L4g6nMh8JD8sQxzr4jYaP8e6uI0G8DY/Dtb/OcyXBz/S+8bXnlkyP94wG64frAA/OIQqNXugRT/C9Shcj8K1PyxDHOviNuo+exSuR+F6hD8vbqMBvAVCPzK1JRshYFA/4XycR+F6dD8K16NwPQq3P5LvraMFw/Q+ycfuAiUF9j78qfHSTWJAP43ttaD3xhA/e4UF9wMe+D6tjcX3RCX1PnuFBfcDHvg+AAAAAAAA8D+pWVZQB2jxPsnH7gIlBTY/exSuR+F6hD8sQxzr4jYaPy9uowG8BVI/8GjjiLX4BD8PRrmBR9mSP/yp8dJNYkA/ObTIdr6fej/8qfHSTWJQP8nH7gIlBfY+LEMc6+I2+j7S+8bXnlkSP2EyVTAqqTM/LEMc6+I2Gj/8nTdfNkvzPsnH7gIlBfY+8Es/2XuO+z4/q8yU1t/yPsnH7gIlBeY+PDcbTSupQz9hMlUwKqkjP1pkO99Pjcc/ycfuAiUFJj/8qfHSTWJQP1/xdY3mJfc+ycfuAiUF9j7Jx+4CJQX2PhC6QRvWLfc+eekmMQisXD8twS+PQR4XP7x5qkNuhis/W+uLhLacxz8VjErqBDRhPyxDHOviNvo+LEMc6+I2Gj/FjzF3LSF/P8nH7gIlBRY/ycfuAiUF9j7OcAM+P4yAP66XlN97jhs/OAFH7010+j68eapDboYbP8nH7gIlBfY+aR1VTRB1Hz92j8dnDTkxP4p7FeFyMQA/LEMc6+I2Gj+N7bWg98YQPwfTizW3ncE+ycfuAiUFJj9a07zjFB25P/yp8dJNYnA/eekmMQisfD/8qfHSTWJQP8nH7gIlBQY/mZmZmZmZqT+8eapDboYbP/Bo44i1+NQ+xa2CGOjaJz9fGWVH9HzHPhWMSuoENGE/Nnixsm6t+T753kqU9fBWP8nH7gIlBfY+\",\"dtype\":\"float64\",\"order\":\"little\",\"shape\":[240]},\"TotalCoinsMined\":{\"__ndarray__\":\"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\",\"dtype\":\"float64\",\"order\":\"little\",\"shape\":[240]}},\"selected\":{\"id\":\"2145\"},\"selection_policy\":{\"id\":\"2158\"}},\"id\":\"2144\",\"type\":\"ColumnDataSource\"},{\"attributes\":{\"fill_alpha\":{\"value\":0.2},\"fill_color\":{\"value\":\"#30a2da\"},\"line_alpha\":{\"value\":0.2},\"line_color\":{\"value\":\"#30a2da\"},\"size\":{\"units\":\"screen\",\"value\":5.477225575051661},\"x\":{\"field\":\"TotalCoinsMined\"},\"y\":{\"field\":\"TotalCoinSupply\"}},\"id\":\"2149\",\"type\":\"Scatter\"},{\"attributes\":{},\"id\":\"2124\",\"type\":\"BasicTicker\"},{\"attributes\":{\"active_drag\":\"auto\",\"active_inspect\":\"auto\",\"active_multi\":null,\"active_scroll\":\"auto\",\"active_tap\":\"auto\",\"tools\":[{\"id\":\"2106\"},{\"id\":\"2127\"},{\"id\":\"2128\"},{\"id\":\"2129\"},{\"id\":\"2130\"},{\"id\":\"2131\"}]},\"id\":\"2133\",\"type\":\"Toolbar\"},{\"attributes\":{\"axis_label\":\"TotalCoinSupply\",\"bounds\":\"auto\",\"formatter\":{\"id\":\"2142\"},\"major_label_orientation\":\"horizontal\",\"ticker\":{\"id\":\"2124\"}},\"id\":\"2123\",\"type\":\"LinearAxis\"},{\"attributes\":{\"label\":{\"value\":\"0\"},\"renderers\":[{\"id\":\"2150\"}]},\"id\":\"2161\",\"type\":\"LegendItem\"},{\"attributes\":{\"fill_alpha\":{\"value\":0.2},\"fill_color\":{\"value\":\"#e5ae38\"},\"line_alpha\":{\"value\":0.2},\"line_color\":{\"value\":\"#e5ae38\"},\"size\":{\"units\":\"screen\",\"value\":5.477225575051661},\"x\":{\"field\":\"TotalCoinsMined\"},\"y\":{\"field\":\"TotalCoinSupply\"}},\"id\":\"2186\",\"type\":\"Scatter\"},{\"attributes\":{},\"id\":\"2178\",\"type\":\"UnionRenderers\"},{\"attributes\":{\"fill_color\":{\"value\":\"#6d904f\"},\"line_color\":{\"value\":\"#6d904f\"},\"size\":{\"units\":\"screen\",\"value\":5.477225575051661},\"x\":{\"field\":\"TotalCoinsMined\"},\"y\":{\"field\":\"TotalCoinSupply\"}},\"id\":\"2205\",\"type\":\"Scatter\"},{\"attributes\":{\"fill_alpha\":{\"value\":0.1},\"fill_color\":{\"value\":\"#fc4f30\"},\"line_alpha\":{\"value\":0.1},\"line_color\":{\"value\":\"#fc4f30\"},\"size\":{\"units\":\"screen\",\"value\":5.477225575051661},\"x\":{\"field\":\"TotalCoinsMined\"},\"y\":{\"field\":\"TotalCoinSupply\"}},\"id\":\"2166\",\"type\":\"Scatter\"},{\"attributes\":{\"fill_alpha\":{\"value\":0.1},\"fill_color\":{\"value\":\"#6d904f\"},\"line_alpha\":{\"value\":0.1},\"line_color\":{\"value\":\"#6d904f\"},\"size\":{\"units\":\"screen\",\"value\":5.477225575051661},\"x\":{\"field\":\"TotalCoinsMined\"},\"y\":{\"field\":\"TotalCoinSupply\"}},\"id\":\"2206\",\"type\":\"Scatter\"},{\"attributes\":{\"bottom_units\":\"screen\",\"fill_alpha\":0.5,\"fill_color\":\"lightgrey\",\"left_units\":\"screen\",\"level\":\"overlay\",\"line_alpha\":1.0,\"line_color\":\"black\",\"line_dash\":[4,4],\"line_width\":2,\"right_units\":\"screen\",\"top_units\":\"screen\"},\"id\":\"2132\",\"type\":\"BoxAnnotation\"},{\"attributes\":{\"source\":{\"id\":\"2144\"}},\"id\":\"2151\",\"type\":\"CDSView\"},{\"attributes\":{\"data\":{\"Class\":[2],\"CoinName\":[\"BitTorrent\"],\"TotalCoinSupply\":{\"__ndarray__\":\"rkfhehSu7z8=\",\"dtype\":\"float64\",\"order\":\"little\",\"shape\":[1]},\"TotalCoinsMined\":{\"__ndarray__\":\"AAAAAAAA8D8=\",\"dtype\":\"float64\",\"order\":\"little\",\"shape\":[1]}},\"selected\":{\"id\":\"2182\"},\"selection_policy\":{\"id\":\"2199\"}},\"id\":\"2181\",\"type\":\"ColumnDataSource\"},{\"attributes\":{\"fill_color\":{\"value\":\"#30a2da\"},\"line_color\":{\"value\":\"#30a2da\"},\"size\":{\"units\":\"screen\",\"value\":5.477225575051661},\"x\":{\"field\":\"TotalCoinsMined\"},\"y\":{\"field\":\"TotalCoinSupply\"}},\"id\":\"2147\",\"type\":\"Scatter\"},{\"attributes\":{\"source\":{\"id\":\"2181\"}},\"id\":\"2188\",\"type\":\"CDSView\"},{\"attributes\":{\"fill_color\":{\"value\":\"#e5ae38\"},\"line_color\":{\"value\":\"#e5ae38\"},\"size\":{\"units\":\"screen\",\"value\":5.477225575051661},\"x\":{\"field\":\"TotalCoinsMined\"},\"y\":{\"field\":\"TotalCoinSupply\"}},\"id\":\"2184\",\"type\":\"Scatter\"},{\"attributes\":{\"fill_alpha\":{\"value\":0.2},\"fill_color\":{\"value\":\"#6d904f\"},\"line_alpha\":{\"value\":0.2},\"line_color\":{\"value\":\"#6d904f\"},\"size\":{\"units\":\"screen\",\"value\":5.477225575051661},\"x\":{\"field\":\"TotalCoinsMined\"},\"y\":{\"field\":\"TotalCoinSupply\"}},\"id\":\"2207\",\"type\":\"Scatter\"},{\"attributes\":{},\"id\":\"2140\",\"type\":\"BasicTickFormatter\"},{\"attributes\":{},\"id\":\"2163\",\"type\":\"Selection\"},{\"attributes\":{\"data_source\":{\"id\":\"2162\"},\"glyph\":{\"id\":\"2165\"},\"hover_glyph\":null,\"muted_glyph\":{\"id\":\"2167\"},\"nonselection_glyph\":{\"id\":\"2166\"},\"selection_glyph\":null,\"view\":{\"id\":\"2169\"}},\"id\":\"2168\",\"type\":\"GlyphRenderer\"},{\"attributes\":{},\"id\":\"2199\",\"type\":\"UnionRenderers\"},{\"attributes\":{\"data_source\":{\"id\":\"2181\"},\"glyph\":{\"id\":\"2184\"},\"hover_glyph\":null,\"muted_glyph\":{\"id\":\"2186\"},\"nonselection_glyph\":{\"id\":\"2185\"},\"selection_glyph\":null,\"view\":{\"id\":\"2188\"}},\"id\":\"2187\",\"type\":\"GlyphRenderer\"},{\"attributes\":{},\"id\":\"2115\",\"type\":\"LinearScale\"},{\"attributes\":{\"margin\":[5,5,5,5],\"name\":\"HSpacer04080\",\"sizing_mode\":\"stretch_width\"},\"id\":\"2351\",\"type\":\"Spacer\"},{\"attributes\":{\"children\":[{\"id\":\"2103\"},{\"id\":\"2110\"},{\"id\":\"2351\"}],\"margin\":[0,0,0,0],\"name\":\"Row04075\",\"tags\":[\"embedded\"]},\"id\":\"2102\",\"type\":\"Row\"},{\"attributes\":{},\"id\":\"2127\",\"type\":\"SaveTool\"},{\"attributes\":{\"fill_alpha\":{\"value\":0.1},\"fill_color\":{\"value\":\"#e5ae38\"},\"line_alpha\":{\"value\":0.1},\"line_color\":{\"value\":\"#e5ae38\"},\"size\":{\"units\":\"screen\",\"value\":5.477225575051661},\"x\":{\"field\":\"TotalCoinsMined\"},\"y\":{\"field\":\"TotalCoinSupply\"}},\"id\":\"2185\",\"type\":\"Scatter\"},{\"attributes\":{},\"id\":\"2128\",\"type\":\"PanTool\"},{\"attributes\":{},\"id\":\"2131\",\"type\":\"ResetTool\"},{\"attributes\":{\"data\":{\"Class\":[1,1,1,1,1,1,1,1,1,1,1,1,1,1,1,1,1,1,1,1,1,1,1,1,1,1,1,1,1,1,1,1,1,1,1,1,1,1,1,1,1,1,1,1,1,1,1,1,1,1,1,1,1,1,1,1,1,1,1,1,1,1,1,1,1,1,1,1,1,1,1,1,1,1,1,1,1,1,1,1,1,1,1,1,1,1,1,1,1,1,1,1,1,1,1,1,1,1,1,1,1,1,1,1,1,1,1,1,1,1,1,1,1,1,1,1,1,1,1,1,1,1,1,1,1,1,1,1,1,1,1,1,1,1,1,1,1,1,1,1,1,1,1,1,1,1,1,1,1,1,1,1,1,1,1,1,1,1,1,1,1,1,1,1,1,1,1,1,1,1,1,1,1,1,1,1,1,1,1,1,1,1,1,1,1,1,1,1,1,1,1,1,1,1,1,1,1,1,1,1,1,1,1,1,1,1,1,1,1,1,1,1,1,1,1,1,1,1,1,1,1,1,1,1,1,1,1,1,1,1,1,1,1,1,1,1,1,1,1,1,1,1,1,1,1,1,1,1,1,1,1,1,1,1,1,1,1,1,1,1,1,1,1,1,1,1,1,1,1,1,1,1,1,1,1,1,1,1,1,1,1,1,1,1,1,1,1,1],\"CoinName\":[\"42 Coin\",\"404Coin\",\"EliteCoin\",\"Dash\",\"Bitshares\",\"BitcoinDark\",\"PayCoin\",\"KoboCoin\",\"Aurora Coin\",\"BlueCoin\",\"EnergyCoin\",\"BitBar\",\"CryptoBullion\",\"CasinoCoin\",\"Diamond\",\"Exclusive Coin\",\"FlutterCoin\",\"HoboNickels\",\"HyperStake\",\"IOCoin\",\"MaxCoin\",\"MintCoin\",\"MazaCoin\",\"Nautilus Coin\",\"NavCoin\",\"OpalCoin\",\"Orbitcoin\",\"PotCoin\",\"PhoenixCoin\",\"Reddcoin\",\"SuperCoin\",\"SyncCoin\",\"TeslaCoin\",\"TittieCoin\",\"TorCoin\",\"UnitaryStatus Dollar\",\"UltraCoin\",\"VeriCoin\",\"X11 Coin\",\"Crypti\",\"StealthCoin\",\"ZCC Coin\",\"StorjCoin\",\"Neutron\",\"FairCoin\",\"RubyCoin\",\"Kore\",\"Dnotes\",\"8BIT Coin\",\"Sativa Coin\",\"Ucoin\",\"Vtorrent\",\"IslaCoin\",\"Nexus\",\"Droidz\",\"Squall Coin\",\"Diggits\",\"Paycon\",\"Emercoin\",\"EverGreenCoin\",\"Decred\",\"EDRCoin\",\"Hitcoin\",\"DubaiCoin\",\"PWR Coin\",\"BillaryCoin\",\"GPU Coin\",\"EuropeCoin\",\"ZeitCoin\",\"SwingCoin\",\"SafeExchangeCoin\",\"Nebuchadnezzar\",\"Ratecoin\",\"Revenu\",\"Clockcoin\",\"VIP Tokens\",\"BitSend\",\"Let it Ride\",\"PutinCoin\",\"iBankCoin\",\"Frankywillcoin\",\"MudraCoin\",\"Lutetium Coin\",\"GoldBlocks\",\"CarterCoin\",\"BitTokens\",\"MustangCoin\",\"ZoneCoin\",\"RootCoin\",\"BitCurrency\",\"Swiscoin\",\"BuzzCoin\",\"Opair\",\"PesoBit\",\"Halloween Coin\",\"CoffeeCoin\",\"RoyalCoin\",\"GanjaCoin V2\",\"TeamUP\",\"LanaCoin\",\"ARK\",\"InsaneCoin\",\"EmberCoin\",\"XenixCoin\",\"FreeCoin\",\"PLNCoin\",\"AquariusCoin\",\"Creatio\",\"Eternity\",\"Eurocoin\",\"BitcoinFast\",\"Stakenet\",\"BitConnect Coin\",\"MoneyCoin\",\"Enigma\",\"Russiacoin\",\"PandaCoin\",\"GameUnits\",\"GAKHcoin\",\"Allsafe\",\"LiteCreed\",\"Klingon Empire Darsek\",\"Internet of People\",\"KushCoin\",\"Printerium\",\"Impeach\",\"Zilbercoin\",\"FirstCoin\",\"FindCoin\",\"OpenChat\",\"RenosCoin\",\"VirtacoinPlus\",\"TajCoin\",\"Impact\",\"Atmos\",\"HappyCoin\",\"MacronCoin\",\"Condensate\",\"Independent Money System\",\"ArgusCoin\",\"LomoCoin\",\"ProCurrency\",\"GoldReserve\",\"GrowthCoin\",\"Phreak\",\"Degas Coin\",\"HTML5 Coin\",\"Ultimate Secure Cash\",\"QTUM\",\"Espers\",\"Denarius\",\"Virta Unique Coin\",\"Bitcoin Planet\",\"BritCoin\",\"Linda\",\"DeepOnion\",\"Signatum\",\"Cream\",\"Monoeci\",\"Draftcoin\",\"Vechain\",\"Stakecoin\",\"CoinonatX\",\"Ethereum Dark\",\"Obsidian\",\"Cardano\",\"Regalcoin\",\"TrezarCoin\",\"TerraNovaCoin\",\"Rupee\",\"WomenCoin\",\"Theresa May Coin\",\"NamoCoin\",\"LUXCoin\",\"Xios\",\"Bitcloud 2.0\",\"KekCoin\",\"BlackholeCoin\",\"Infinity Economics\",\"Magnet\",\"Lamden Tau\",\"Electra\",\"Bitcoin Diamond\",\"Cash & Back Coin\",\"Bulwark\",\"Kalkulus\",\"GermanCoin\",\"LiteCoin Ultra\",\"PhantomX\",\"Digiwage\",\"Trollcoin\",\"Litecoin Plus\",\"Monkey Project\",\"TokenPay\",\"1717 Masonic Commemorative Token\",\"My Big Coin\",\"Unified Society USDEX\",\"Tokyo Coin\",\"Stipend\",\"Pushi\",\"Ellerium\",\"Velox\",\"Ontology\",\"Bitspace\",\"Briacoin\",\"Ignition\",\"MedicCoin\",\"Bitcoin Green\",\"Deviant Coin\",\"Abjcoin\",\"Semux\",\"Carebit\",\"Zealium\",\"Proton\",\"iDealCash\",\"Bitcoin Incognito\",\"HollyWoodCoin\",\"Swisscoin\",\"Xt3ch\",\"TheVig\",\"EmaratCoin\",\"Dekado\",\"Lynx\",\"Poseidon Quark\",\"BitcoinWSpectrum\",\"Muse\",\"Trivechain\",\"Dystem\",\"Giant\",\"Peony Coin\",\"Absolute Coin\",\"Vitae\",\"TPCash\",\"ARENON\",\"EUNO\",\"MMOCoin\",\"Ketan\",\"XDNA\",\"PAXEX\",\"ThunderStake\",\"Kcash\",\"Acute Angle Cloud\",\"Bettex coin\",\"BitMoney\",\"Junson Ming Chan Coin\",\"HerbCoin\",\"Oduwa\",\"Galilel\",\"Crypto Sports\",\"Credit\",\"Dash Platinum\",\"Nasdacoin\",\"Beetle Coin\",\"Titan Coin\",\"Award\",\"Insane Coin\",\"ALAX\",\"LiteDoge\",\"TruckCoin\",\"OrangeCoin\",\"BitstarCoin\",\"NeosCoin\",\"HyperCoin\",\"PinkCoin\",\"AudioCoin\",\"IncaKoin\",\"Piggy Coin\",\"Genstake\",\"XiaoMiCoin\",\"CapriCoin\",\" ClubCoin\",\"Radium\",\"Creditbit \",\"OKCash\",\"Lisk\",\"HiCoin\",\"WhiteCoin\",\"FriendshipCoin\",\"Triangles Coin\",\"EOS\",\"Oxycoin\",\"TigerCash\",\"Waves\",\"Particl\",\"Nxt\",\"ZEPHYR\",\"Gapcoin\",\"BitcoinPlus\"],\"TotalCoinSupply\":{\"__ndarray__\":\"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\",\"dtype\":\"float64\",\"order\":\"little\",\"shape\":[288]},\"TotalCoinsMined\":{\"__ndarray__\":\"AAAAAAAAAADVQ6eRhXZRP0gFXx0LSZ4/fb2YAaYh4z6ruJV6oa9mP4fxacJq17U+W7PlNwxp6T7W0pn52A37PoFADD9SNfM+Y2BMhDkIRT+TanQDD0sgP35ukl9tEWc+7S9W9+ubsT49x1z95a+kP28YHhABAMw+ye+KsSkQ2D75DhvNkpI+P1ecpQYuoxc/Ypyz9GrHWz/8kyPDCLLyPpO8/kFBRRA/0/9nDoYGlj/8i/ixXrVaP7x4IiUyI/E+jquxX+B/ET9yUL0Vow3wPvxfgvURSss+cvkNgl17LT+LzHsEg5UTPwaytCCdUp4/8DiBm6/aCj9doxA1Q7ITPkOS6FanQBU/dL+NX1fZWj+VBQyzwkO4PlcDUAL0L1I/fTIxK6KaCj/k5byfQfUAPxuOVInTct0++0V+YL96Gj9FarAorYYBPzHwJWnxlyM/k6epMcsZCz/GZEMV67cEP4m2C5a/Kww/O+kaShDL/D6lzAo9CiPBPmPUGyFpHyc/zVk3SubfuD4RLcNaLhHePkrkrkGmysY+XTih5TeV6D4/cpIi36a5PiF6f0Up2xA/cka5uWwm4j721dyvE1CWPvtFfmC/eho/rrGTtv1n+D40JiyL080GP9XnzTGZqew+feesSPH05T7mgzl2NBjPPrjDVOmJv4Y/CNeOJOK61T6LFkmhrdSEPwJMlfj+D+M+4z+Ha6tvBT89FIII1wvmPuy9HujlHqM/a04eY1aL0j75/xJuJMVhP5EAUiv9LvU+7o8mBZLQIT95XO3Xe0K0PkD1xc4cpvE+PjXeReQYFj/Seo5zuNT5PjmwzdTObwQ/h0PQ6q/pSj92AnWsNC3TPvtFfmC/eho/wrBKbPQu1T5UvVBlDL9FP6akcQ4ifPA+6Kl0RijcBj+eD3jiDS6kPvRYj6HQSaY+QgF987fgxT7EeSiX6m/APk/+H/9UdCY/cMvi9YcERj+CMPVUGUCUP0BcR2uQmhM/auMelt7AAT/lp0XpeIUxP/40hsiRsCM/Wt3Yni0vxT77RX5gv3oaP9AmkkqG3/I+6ZvYntHoUT+MnwwSv6YcP9m3WoWkbfM+aYtMVgzXtz86BVneRVPQPqlU6KW+ego/Cpe1fNUZ8j51sP5UiMHEPpEAUiv9LvU+FjeWROq22T48+fOQeU3qPpiWw+wncfU+LfjqYBQEFD/rNVinDXnnPuCXsNDdHuc+W8Ibk1+cqz7+cpRLTL/hPqoI1U/GfKE/XkgoC4FtzT62TBrShBjMPoFhuAbER+Y+28DJKx8CAD/+4KkaM2L5PsnENol6Z8U+EsKnts/51z5lqNaU5grpPjTIpVxJ45Q++c/Zu6TDyD62fjNjnyAdP6CFXv7NxO4+ekNDBbiMUD/A48DYhRcDP2GI3PAi4us+v8ZXknfP6T41kgPjWksdP0cUbD+ebR0/E8yG1H7L9j71oLCH1pI6P71/oX2yGyA/aiIdwhm/1j7c24n5tHWzPgpcwiwJ8qA+B3WXBL6fGj+E/gBWAjDyPjKmZJqfiTM/VpNYq+Ug6D5AI3j2ap/2PhIl4L0mB6U/ANsHOQzp5T77RX5gv3oaPzwE+7nSlZc/5CrkUjys0T781THurqoQPy0rqEb309w++NUYBdWG9j40GumUGraCP3BMw9XJNvc+TKbRkzOXHD+9UTX6ABEJPwHyCelJoOo+OdFFwIrE8z7NoOAHEa6sP5jvW85a8tA+hFHN8SWy9D6gfFhURsvRPgdyvDC9evo+e/z7ZVvRmj/C5iuVwcTePgYf7plMLig/MA/ITshUsz68wUDJlmv5Pq6e2lfpD6k/QlKjIeRfGD++L0e45Y1CPzHGVg8zmOE+o0LUKwM3wj4fcKeItkMAP8Q04FD5Huo+ELOcZbFU8T5IMTwRT56CP34izOTEOgQ/uooRAzwSMz+5S1yC81+dP2O6gsKnTCg/4boxdtliHT9qpYs67A/sPsiJT2eL9fE+cKEqXilSdD+HGerC0dXhPn4cKx997Ac/cvaEG0zq/D53OzGI/o9DPwhHMQikOMU+4aYHbQ+s0j683Mph4qf1Pm5x4hl+a7s+RIhXsT3p4z4RYLbW0RcvP+7nRXixfS4/5zpHmZTV5z675foWXF7CPr3GtnU1a5w+0BICUEwV+z4YmxHV7IpFP9oXMpkhNe0+8OWc8hCprD50qFQMeQi0PrhnnCDcsTE/2g6h9YTE5D7nUt5T0yv3PpDfXIos7uQ+mhHUuAbdtD5VKY49TIAiP6Jvk38Wduc+w3Op81Co0j5GNcFNBT1XP5ITnjO9Gec+oCQJmqt/BD8u8B4U0RmFP/TH2vq5KeA+KikY50KaAT+8pDhhpuD2PnIyP0TGCQA/fCaYJAgjtD8ryv/7BwTHPjZJd6O4nQ4/wKsguotF8z6GP57A2I0DPzXp732EAd4+rDHFwjsU2T5GhHshfKixPjmttaFBPuw+h6Fq6Z99ET99KAFD6+TWPlZtDKPqaPQ+io8aO8pLAD+b+oRxCokcP8RoNbwUwuM+7om/ZcPL0z6LmxGrrxXTPuxtXDi6ilE/ekNDBbiMUD96Q0MFuIxQP4+k9xWTwdw+5OuiMmKbKz+rIOPFGc2RP8i3xbVxswI/I2lavtdN7z7k92z1i1jzPgfZcP2pZMA+iirv8H3inz/i1s0RRUGoPkBWWhkuw/U+omxXO8JWKj8jMEysQqtNPyjBbHovVfA+C5KNNNcu+T56Q0MFuIxQP2D1pTy6sI8/zCNKYd8OMD+tHcn0sfjNPmOsZctQy/U+f2HIS8yb0j5kYzQw+mbkPiQYZ3/U4jw/nNMshRY7UD+cQ8suWY6SP4nBtdPqW0A/H8ZSq37GDz84uK+F5sM6P2MAAb39qCo/GCSU+ENwGz9L9hxTejDQPsPpRhaz5vE+mJIs6RnGEz8y4x8SUscfP/Gwxj8HsIQ/XKH50rSuMD+k9GATf/yyPqtJN1OLFIM+RW+UnMLjUD8RwmraN5NSP3pDQwW4jFA/+0V+YL96Gj+zRUkYOarjPnpDQwW4jFA/BxxxCriMYD85whSEFaHvPkIO5c1pZIE+\",\"dtype\":\"float64\",\"order\":\"little\",\"shape\":[288]}},\"selected\":{\"id\":\"2163\"},\"selection_policy\":{\"id\":\"2178\"}},\"id\":\"2162\",\"type\":\"ColumnDataSource\"},{\"attributes\":{},\"id\":\"2129\",\"type\":\"WheelZoomTool\"},{\"attributes\":{\"label\":{\"value\":\"3\"},\"renderers\":[{\"id\":\"2208\"}]},\"id\":\"2224\",\"type\":\"LegendItem\"},{\"attributes\":{\"fill_alpha\":{\"value\":0.1},\"fill_color\":{\"value\":\"#30a2da\"},\"line_alpha\":{\"value\":0.1},\"line_color\":{\"value\":\"#30a2da\"},\"size\":{\"units\":\"screen\",\"value\":5.477225575051661},\"x\":{\"field\":\"TotalCoinsMined\"},\"y\":{\"field\":\"TotalCoinSupply\"}},\"id\":\"2148\",\"type\":\"Scatter\"},{\"attributes\":{\"below\":[{\"id\":\"2119\"}],\"center\":[{\"id\":\"2122\"},{\"id\":\"2126\"}],\"left\":[{\"id\":\"2123\"}],\"margin\":[5,5,5,5],\"min_border_bottom\":10,\"min_border_left\":10,\"min_border_right\":10,\"min_border_top\":10,\"plot_height\":300,\"plot_width\":700,\"renderers\":[{\"id\":\"2150\"},{\"id\":\"2168\"},{\"id\":\"2187\"},{\"id\":\"2208\"}],\"right\":[{\"id\":\"2160\"}],\"sizing_mode\":\"fixed\",\"title\":{\"id\":\"2111\"},\"toolbar\":{\"id\":\"2133\"},\"x_range\":{\"id\":\"2104\"},\"x_scale\":{\"id\":\"2115\"},\"y_range\":{\"id\":\"2105\"},\"y_scale\":{\"id\":\"2117\"}},\"id\":\"2110\",\"subtype\":\"Figure\",\"type\":\"Plot\"},{\"attributes\":{\"overlay\":{\"id\":\"2132\"}},\"id\":\"2130\",\"type\":\"BoxZoomTool\"},{\"attributes\":{},\"id\":\"2222\",\"type\":\"UnionRenderers\"},{\"attributes\":{\"text\":\"\",\"text_color\":{\"value\":\"black\"},\"text_font_size\":{\"value\":\"12pt\"}},\"id\":\"2111\",\"type\":\"Title\"},{\"attributes\":{\"margin\":[5,5,5,5],\"name\":\"HSpacer04079\",\"sizing_mode\":\"stretch_width\"},\"id\":\"2103\",\"type\":\"Spacer\"},{\"attributes\":{\"source\":{\"id\":\"2202\"}},\"id\":\"2209\",\"type\":\"CDSView\"},{\"attributes\":{\"data_source\":{\"id\":\"2202\"},\"glyph\":{\"id\":\"2205\"},\"hover_glyph\":null,\"muted_glyph\":{\"id\":\"2207\"},\"nonselection_glyph\":{\"id\":\"2206\"},\"selection_glyph\":null,\"view\":{\"id\":\"2209\"}},\"id\":\"2208\",\"type\":\"GlyphRenderer\"},{\"attributes\":{\"end\":1.042857142857143,\"reset_end\":1.042857142857143,\"reset_start\":-0.04285714285714286,\"start\":-0.04285714285714286,\"tags\":[[[\"TotalCoinsMined\",\"TotalCoinsMined\",null]]]},\"id\":\"2104\",\"type\":\"Range1d\"},{\"attributes\":{\"label\":{\"value\":\"1\"},\"renderers\":[{\"id\":\"2168\"}]},\"id\":\"2180\",\"type\":\"LegendItem\"},{\"attributes\":{\"fill_color\":{\"value\":\"#fc4f30\"},\"line_color\":{\"value\":\"#fc4f30\"},\"size\":{\"units\":\"screen\",\"value\":5.477225575051661},\"x\":{\"field\":\"TotalCoinsMined\"},\"y\":{\"field\":\"TotalCoinSupply\"}},\"id\":\"2165\",\"type\":\"Scatter\"},{\"attributes\":{},\"id\":\"2142\",\"type\":\"BasicTickFormatter\"},{\"attributes\":{},\"id\":\"2158\",\"type\":\"UnionRenderers\"},{\"attributes\":{\"axis_label\":\"TotalCoinsMined\",\"bounds\":\"auto\",\"formatter\":{\"id\":\"2140\"},\"major_label_orientation\":\"horizontal\",\"ticker\":{\"id\":\"2120\"}},\"id\":\"2119\",\"type\":\"LinearAxis\"},{\"attributes\":{\"callback\":null,\"renderers\":[{\"id\":\"2150\"},{\"id\":\"2168\"},{\"id\":\"2187\"},{\"id\":\"2208\"}],\"tags\":[\"hv_created\"],\"tooltips\":[[\"Class\",\"@{Class}\"],[\"TotalCoinsMined\",\"@{TotalCoinsMined}\"],[\"TotalCoinSupply\",\"@{TotalCoinSupply}\"],[\"CoinName\",\"@{CoinName}\"]]},\"id\":\"2106\",\"type\":\"HoverTool\"},{\"attributes\":{},\"id\":\"2145\",\"type\":\"Selection\"},{\"attributes\":{\"click_policy\":\"mute\",\"items\":[{\"id\":\"2161\"},{\"id\":\"2180\"},{\"id\":\"2201\"},{\"id\":\"2224\"}],\"location\":[0,0],\"title\":\"Class\"},\"id\":\"2160\",\"type\":\"Legend\"},{\"attributes\":{},\"id\":\"2117\",\"type\":\"LinearScale\"},{\"attributes\":{\"fill_alpha\":{\"value\":0.2},\"fill_color\":{\"value\":\"#fc4f30\"},\"line_alpha\":{\"value\":0.2},\"line_color\":{\"value\":\"#fc4f30\"},\"size\":{\"units\":\"screen\",\"value\":5.477225575051661},\"x\":{\"field\":\"TotalCoinsMined\"},\"y\":{\"field\":\"TotalCoinSupply\"}},\"id\":\"2167\",\"type\":\"Scatter\"},{\"attributes\":{\"data\":{\"Class\":[3,3,3],\"CoinName\":[\"BiblePay\",\"LitecoinCash\",\"Poa Network\"],\"TotalCoinSupply\":{\"__ndarray__\":\"lPYGX5hMdT+8eapDboZLP4RaKOGWizA/\",\"dtype\":\"float64\",\"order\":\"little\",\"shape\":[3]},\"TotalCoinsMined\":{\"__ndarray__\":\"j1gNkdpTXT+QpMXySiFFP5wZJXiPEis/\",\"dtype\":\"float64\",\"order\":\"little\",\"shape\":[3]}},\"selected\":{\"id\":\"2203\"},\"selection_policy\":{\"id\":\"2222\"}},\"id\":\"2202\",\"type\":\"ColumnDataSource\"},{\"attributes\":{\"data_source\":{\"id\":\"2144\"},\"glyph\":{\"id\":\"2147\"},\"hover_glyph\":null,\"muted_glyph\":{\"id\":\"2149\"},\"nonselection_glyph\":{\"id\":\"2148\"},\"selection_glyph\":null,\"view\":{\"id\":\"2151\"}},\"id\":\"2150\",\"type\":\"GlyphRenderer\"},{\"attributes\":{},\"id\":\"2120\",\"type\":\"BasicTicker\"},{\"attributes\":{\"axis\":{\"id\":\"2123\"},\"dimension\":1,\"grid_line_color\":null,\"ticker\":null},\"id\":\"2126\",\"type\":\"Grid\"},{\"attributes\":{\"label\":{\"value\":\"2\"},\"renderers\":[{\"id\":\"2187\"}]},\"id\":\"2201\",\"type\":\"LegendItem\"},{\"attributes\":{},\"id\":\"2182\",\"type\":\"Selection\"},{\"attributes\":{},\"id\":\"2203\",\"type\":\"Selection\"},{\"attributes\":{\"axis\":{\"id\":\"2119\"},\"grid_line_color\":null,\"ticker\":null},\"id\":\"2122\",\"type\":\"Grid\"},{\"attributes\":{\"source\":{\"id\":\"2162\"}},\"id\":\"2169\",\"type\":\"CDSView\"}],\"root_ids\":[\"2102\"]},\"title\":\"Bokeh Application\",\"version\":\"2.2.3\"}};\n",
       "    var render_items = [{\"docid\":\"7622dee5-a84c-4862-ae8d-acd6743413a8\",\"root_ids\":[\"2102\"],\"roots\":{\"2102\":\"53f9ea14-1b26-4222-8190-28c9c9030466\"}}];\n",
       "    root.Bokeh.embed.embed_items_notebook(docs_json, render_items);\n",
       "  }\n",
       "  if (root.Bokeh !== undefined && root.Bokeh.Panel !== undefined) {\n",
       "    embed_document(root);\n",
       "  } else {\n",
       "    var attempts = 0;\n",
       "    var timer = setInterval(function(root) {\n",
       "      if (root.Bokeh !== undefined && root.Bokeh.Panel !== undefined) {\n",
       "        clearInterval(timer);\n",
       "        embed_document(root);\n",
       "      } else if (document.readyState == \"complete\") {\n",
       "        attempts++;\n",
       "        if (attempts > 100) {\n",
       "          clearInterval(timer);\n",
       "          console.log(\"Bokeh: ERROR: Unable to run BokehJS code because BokehJS library is missing\");\n",
       "        }\n",
       "      }\n",
       "    }, 10, root)\n",
       "  }\n",
       "})(window);</script>"
      ],
      "text/plain": [
       ":NdOverlay   [Class]\n",
       "   :Scatter   [TotalCoinsMined]   (TotalCoinSupply,CoinName)"
      ]
     },
     "execution_count": 120,
     "metadata": {
      "application/vnd.holoviews_exec.v0+json": {
       "id": "2102"
      }
     },
     "output_type": "execute_result"
    }
   ],
   "source": [
    "# Create a hvplot.scatter plot using x=\"TotalCoinsMined\" and y=\"TotalCoinSupply\".\n",
    "plot_df.hvplot.scatter(\n",
    "    x=\"TotalCoinsMined\",\n",
    "    y=\"TotalCoinSupply\",\n",
    "    by='Class',\n",
    "    hover_cols=\"CoinName\",\n",
    ")"
   ]
  },
  {
   "cell_type": "code",
   "execution_count": null,
   "metadata": {},
   "outputs": [],
   "source": []
  }
 ],
 "metadata": {
  "file_extension": ".py",
  "kernelspec": {
   "display_name": "PythonData",
   "language": "python",
   "name": "pythondata"
  },
  "language_info": {
   "codemirror_mode": {
    "name": "ipython",
    "version": 3
   },
   "file_extension": ".py",
   "mimetype": "text/x-python",
   "name": "python",
   "nbconvert_exporter": "python",
   "pygments_lexer": "ipython3",
   "version": "3.7.9"
  },
  "latex_envs": {
   "LaTeX_envs_menu_present": true,
   "autoclose": false,
   "autocomplete": true,
   "bibliofile": "biblio.bib",
   "cite_by": "apalike",
   "current_citInitial": 1,
   "eqLabelWithNumbers": true,
   "eqNumInitial": 1,
   "hotkeys": {
    "equation": "Ctrl-E",
    "itemize": "Ctrl-I"
   },
   "labels_anchors": false,
   "latex_user_defs": false,
   "report_style_numbering": false,
   "user_envs_cfg": false
  },
  "mimetype": "text/x-python",
  "name": "python",
  "npconvert_exporter": "python",
  "pygments_lexer": "ipython3",
  "version": 3
 },
 "nbformat": 4,
 "nbformat_minor": 2
}
